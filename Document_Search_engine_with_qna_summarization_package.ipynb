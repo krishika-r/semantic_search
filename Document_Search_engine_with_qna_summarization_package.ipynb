{
  "cells": [
    {
      "cell_type": "code",
      "source": [
        "from google.colab import drive\n",
        "drive.mount('/content/drive')"
      ],
      "metadata": {
        "id": "OpbrIKNuOl2o",
        "colab": {
          "base_uri": "https://localhost:8080/"
        },
        "outputId": "b294b4ef-0536-40a1-9e21-6b042769c6a8"
      },
      "execution_count": null,
      "outputs": [
        {
          "output_type": "stream",
          "name": "stdout",
          "text": [
            "Mounted at /content/drive\n"
          ]
        }
      ]
    },
    {
      "cell_type": "code",
      "source": [
        "%cd /content/drive/MyDrive/semantic_search_package_final"
      ],
      "metadata": {
        "colab": {
          "base_uri": "https://localhost:8080/"
        },
        "id": "TStcqBrgOhrd",
        "outputId": "d60fea0b-15c4-47c4-e114-dd099386cc44"
      },
      "execution_count": null,
      "outputs": [
        {
          "output_type": "stream",
          "name": "stdout",
          "text": [
            "/content/drive/MyDrive/semantic_search_package_final\n"
          ]
        }
      ]
    },
    {
      "cell_type": "markdown",
      "metadata": {
        "id": "fsCYAvLPjcN5"
      },
      "source": [
        "# **Semantic Search Engine**\n",
        "\n",
        "This notebook is meant to showcase how to combine **Data processing, Retriever systems, QnA model & Summarization model** to get useful insights from different documents based on user query.\n",
        "\n",
        "The below codes are based on **haystack pipeline**, **tiger nlp** and **huggingface models** but every function can be replaces with a custom module to make things better."
      ]
    },
    {
      "cell_type": "markdown",
      "metadata": {
        "id": "GWLzUQp6cA3W"
      },
      "source": [
        "### **Imports and installations**\n",
        "\n",
        "\n"
      ]
    },
    {
      "cell_type": "code",
      "source": [
        "!pip install -r requirements.txt\n",
        "# !pip uninstall -r requirements.txt -y"
      ],
      "metadata": {
        "id": "oepZF0R83j4d"
      },
      "execution_count": null,
      "outputs": []
    },
    {
      "cell_type": "code",
      "execution_count": null,
      "metadata": {
        "id": "kolk4MvcMDKj",
        "colab": {
          "base_uri": "https://localhost:8080/"
        },
        "outputId": "c0a3d2ac-5be7-4444-e33e-d5fae0ed2fec"
      },
      "outputs": [
        {
          "output_type": "stream",
          "name": "stdout",
          "text": [
            "--2023-05-03 09:37:35--  https://dl.xpdfreader.com/xpdf-tools-linux-4.04.tar.gz\n",
            "Resolving dl.xpdfreader.com (dl.xpdfreader.com)... 45.79.72.155\n",
            "Connecting to dl.xpdfreader.com (dl.xpdfreader.com)|45.79.72.155|:443... connected.\n",
            "HTTP request sent, awaiting response... 200 OK\n",
            "Length: 23687259 (23M) [application/x-gzip]\n",
            "Saving to: ‘xpdf-tools-linux-4.04.tar.gz.2’\n",
            "\n",
            "xpdf-tools-linux-4. 100%[===================>]  22.59M  19.3MB/s    in 1.2s    \n",
            "\n",
            "2023-05-03 09:37:37 (19.3 MB/s) - ‘xpdf-tools-linux-4.04.tar.gz.2’ saved [23687259/23687259]\n",
            "\n",
            "xpdf-tools-linux-4.04/\n",
            "xpdf-tools-linux-4.04/CHANGES\n",
            "xpdf-tools-linux-4.04/COPYING3\n",
            "xpdf-tools-linux-4.04/INSTALL\n",
            "xpdf-tools-linux-4.04/ANNOUNCE\n",
            "xpdf-tools-linux-4.04/bin64/\n",
            "xpdf-tools-linux-4.04/bin64/pdftopng\n",
            "xpdf-tools-linux-4.04/bin64/pdftohtml\n",
            "xpdf-tools-linux-4.04/bin64/pdfinfo\n",
            "xpdf-tools-linux-4.04/bin64/pdffonts\n",
            "xpdf-tools-linux-4.04/bin64/pdfimages\n",
            "xpdf-tools-linux-4.04/bin64/pdftotext\n",
            "xpdf-tools-linux-4.04/bin64/pdftoppm\n",
            "xpdf-tools-linux-4.04/bin64/pdftops\n",
            "xpdf-tools-linux-4.04/bin64/pdfdetach\n",
            "xpdf-tools-linux-4.04/README\n",
            "xpdf-tools-linux-4.04/COPYING\n",
            "xpdf-tools-linux-4.04/doc/\n",
            "xpdf-tools-linux-4.04/doc/pdftohtml.1\n",
            "xpdf-tools-linux-4.04/doc/pdftops.1\n",
            "xpdf-tools-linux-4.04/doc/pdfimages.1\n",
            "xpdf-tools-linux-4.04/doc/sample-xpdfrc\n",
            "xpdf-tools-linux-4.04/doc/pdffonts.1\n",
            "xpdf-tools-linux-4.04/doc/pdfdetach.1\n",
            "xpdf-tools-linux-4.04/doc/pdftoppm.1\n",
            "xpdf-tools-linux-4.04/doc/pdftotext.1\n",
            "xpdf-tools-linux-4.04/doc/pdftopng.1\n",
            "xpdf-tools-linux-4.04/doc/xpdfrc.5\n",
            "xpdf-tools-linux-4.04/doc/pdfinfo.1\n",
            "xpdf-tools-linux-4.04/bin32/\n",
            "xpdf-tools-linux-4.04/bin32/pdftopng\n",
            "xpdf-tools-linux-4.04/bin32/pdftohtml\n",
            "xpdf-tools-linux-4.04/bin32/pdfinfo\n",
            "xpdf-tools-linux-4.04/bin32/pdffonts\n",
            "xpdf-tools-linux-4.04/bin32/pdfimages\n",
            "xpdf-tools-linux-4.04/bin32/pdftotext\n",
            "xpdf-tools-linux-4.04/bin32/pdftoppm\n",
            "xpdf-tools-linux-4.04/bin32/pdftops\n",
            "xpdf-tools-linux-4.04/bin32/pdfdetach\n"
          ]
        }
      ],
      "source": [
        "!wget --no-check-certificate https://dl.xpdfreader.com/xpdf-tools-linux-4.04.tar.gz\n",
        "!tar -xvf xpdf-tools-linux-4.04.tar.gz\n",
        "!sudo cp xpdf-tools-linux-4.04/bin64/pdftotext /usr/local/bin"
      ]
    },
    {
      "cell_type": "code",
      "source": [
        "from haystack.nodes import PDFToTextConverter,PreProcessor, BM25Retriever, TfidfRetriever,EmbeddingRetriever, DensePassageRetriever\n",
        "from haystack.utils import print_documents, convert_files_to_docs\n",
        "from haystack.document_stores import InMemoryDocumentStore,ElasticsearchDocumentStore,FAISSDocumentStore\n",
        "import os, re\n",
        "import pandas as pd\n",
        "import numpy as np\n",
        "from tqdm import tqdm\n",
        "import warnings\n",
        "warnings.filterwarnings(\"ignore\") \n",
        "os.environ[\"TOKENIZERS_PARALLELISM\"] = \"false\""
      ],
      "metadata": {
        "id": "9NtaYmf_GBb2"
      },
      "execution_count": null,
      "outputs": []
    },
    {
      "cell_type": "markdown",
      "source": [
        "# **1. Knowledge base creation**"
      ],
      "metadata": {
        "id": "st9w-OseQlcD"
      }
    },
    {
      "cell_type": "markdown",
      "source": [
        "This section aims to convert our files into documents and then clean the documents using haystack pipeline.\n",
        "\n",
        "**Haystack** is an open-source framework for building search systems that work intelligently over large document collection. \n",
        "\n",
        "For more information on haystack pipeline refer below link\n",
        "\n",
        "https://docs.haystack.deepset.ai/docs/intro"
      ],
      "metadata": {
        "id": "G-UwAvI3Z9Gp"
      }
    },
    {
      "cell_type": "markdown",
      "metadata": {
        "id": "7UHUtYjYcL9G"
      },
      "source": [
        "## **1.1 Data Parsing**"
      ]
    },
    {
      "cell_type": "markdown",
      "source": [
        "This function reads different data sources (pdf/doc/images) and extracts information using haystacks pipeline. \n",
        "\n",
        "The PreProcessor class is designed to clean text and split text into sensible units.It performs cleaning of consecutive whitespaces and splits a single large document into smaller documents. Each document is up to 1000 words long and document breaks cannot fall in the middle of sentences.\n",
        "\n",
        "The Preprocessed document are then saved as document object.\n",
        "\n",
        "Refer https://haystack.deepset.ai/tutorials/08_preprocessing for more information on this section"
      ],
      "metadata": {
        "id": "1wIJoxeKNTCP"
      }
    },
    {
      "cell_type": "code",
      "source": [
        "def data_processing(doc_dir = ''):\n",
        "  \"\"\"\n",
        "  Data retrieval/processing function\n",
        "  \n",
        "  Parameters:\n",
        "  doc_dir (str): Path to document location\n",
        "\n",
        "  Returns:\n",
        "  list: List of retrieved/processed documents \n",
        "\n",
        "  \"\"\"\n",
        "\n",
        "  # converting all documents to text for future use\n",
        "  all_docs = convert_files_to_docs(dir_path=doc_dir)\n",
        "\n",
        "  # Using preprocessor to clean the docs\n",
        "  preprocessor = PreProcessor(\n",
        "      clean_empty_lines=True,\n",
        "      clean_whitespace=True,\n",
        "      clean_header_footer=True,\n",
        "      split_by=\"word\",\n",
        "      split_length=100,\n",
        "      split_respect_sentence_boundary=True,\n",
        "  )\n",
        "  #Preprocessing the documents\n",
        "  docs_processed = []\n",
        "  for doc in all_docs:\n",
        "      docs_processed.append(preprocessor.process(doc))\n",
        "  docs = docs_processed.copy()\n",
        "  \n",
        "  return docs"
      ],
      "metadata": {
        "id": "4SZqatF_MXtx"
      },
      "execution_count": null,
      "outputs": []
    },
    {
      "cell_type": "code",
      "source": [
        "processed_data = data_processing(doc_dir = 'data')\n",
        "print(len(processed_data))"
      ],
      "metadata": {
        "id": "iWuZBDoOMijp",
        "colab": {
          "base_uri": "https://localhost:8080/"
        },
        "outputId": "1b42eb7e-ec19-49db-c25b-5d91c18d5622"
      },
      "execution_count": null,
      "outputs": [
        {
          "output_type": "stream",
          "name": "stderr",
          "text": [
            "WARNING:haystack.nodes.preprocessor.preprocessor:We found one or more sentences whose word count is higher than the split length.\n"
          ]
        },
        {
          "output_type": "stream",
          "name": "stdout",
          "text": [
            "7\n"
          ]
        }
      ]
    },
    {
      "cell_type": "markdown",
      "source": [
        "# **2. Retrieval system**"
      ],
      "metadata": {
        "id": "p2FpaR8-Aurl"
      }
    },
    {
      "cell_type": "markdown",
      "source": [
        "The Retriever takes a query as input and checks it against the Documents contained in the DocumentStore. It scores each document for its relevance to the query and returns the top candidates."
      ],
      "metadata": {
        "id": "NfYa-dH7c2KC"
      }
    },
    {
      "cell_type": "markdown",
      "source": [
        "## **2.1 Document store creation**"
      ],
      "metadata": {
        "id": "hGaqPtA8A4QF"
      }
    },
    {
      "cell_type": "markdown",
      "source": [
        "DocumentStore is a database that stores our texts and meta data and provides them to the Retriever at query time.\n",
        "\n",
        "We provide DocumentStore as an argument when we initialize a Retriever.\n",
        "\n",
        "We cast our data into Document objects before writing into a DocumentStore. Load the processed data saved in above step.\n",
        "\n",
        "Refer https://docs.haystack.deepset.ai/docs/document_store and \n",
        "https://docs.haystack.deepset.ai/docs/retriever for more information on this section."
      ],
      "metadata": {
        "id": "H5L9KSPvQd0W"
      }
    },
    {
      "cell_type": "code",
      "source": [
        "\n",
        "def semantic_search(processed_doc = '', retriever_type='bm25'):\n",
        "  \"\"\"\n",
        "  Semantic search for finding top documents based on query\n",
        "\n",
        "  Parameters:\n",
        "  query (str): User query\n",
        "  processed_doc (list): list of processed docs\n",
        "  retriever_type (str): Type of retriever to be used\n",
        "\n",
        "  Returns:\n",
        "  Object: Retriever object\n",
        "  Object: Document store object\n",
        "\n",
        "  \"\"\"\n",
        "  if retriever_type == 'bm25':\n",
        "    document_store = InMemoryDocumentStore(use_bm25=True)\n",
        "  else:\n",
        "    document_store = InMemoryDocumentStore()\n",
        "\n",
        "  # Writing the document to document store to be used by retriever pipeline\n",
        "  for doc in processed_doc:\n",
        "        document_store.write_documents(doc)\n",
        "\n",
        "  if retriever_type == 'tf-idf':\n",
        "    retriever = TfidfRetriever(document_store)\n",
        "    \n",
        "  elif retriever_type == 'bm25':\n",
        "    retriever = BM25Retriever(document_store)\n",
        "\n",
        "  return retriever, document_store"
      ],
      "metadata": {
        "id": "r8sK163IPsgw"
      },
      "execution_count": null,
      "outputs": []
    },
    {
      "cell_type": "code",
      "source": [
        "query='What are the findings of NSCLC group of study?'\n",
        "retriever_type = 'bm25'"
      ],
      "metadata": {
        "id": "QDm61xrAQUBn"
      },
      "execution_count": null,
      "outputs": []
    },
    {
      "cell_type": "code",
      "source": [
        "retriever, document_store = semantic_search(processed_doc = processed_data, retriever_type=retriever_type)"
      ],
      "metadata": {
        "id": "mhocDQ1bPzBO",
        "colab": {
          "base_uri": "https://localhost:8080/",
          "height": 241,
          "referenced_widgets": [
            "5065db376d8f4bc9b92c34cf11b4f0db",
            "fd51845120764951aa2e229b1c3184a4",
            "01e78b814aa745008971bffe45e69559",
            "702f9ee8bea04defb2fcd1a85b76b2cc",
            "9eeb59ea077f4c5085f6c0f72d74542b",
            "1eb70e84603444f2ae10d3bc1ba8f09d",
            "6eadb7a69146480b9736b864e3ffdab0",
            "3dbead5f28de4dcaa4dc04d75e78d17d",
            "b91cd2d78239489f918c9a1901cd6013",
            "c17eee5639434bdf9678b01a2078afd1",
            "9a668f17cd4249fcacb0a2a75e51bd20",
            "7e3f039ee6634383b09120da0c58ad70",
            "6d95362acfa24406bbea973e41e1edc3",
            "458fdb2009864e6c85804f291da8dc70",
            "9d5417a0e68c4f2abe650fecc8e6efc4",
            "d7e208a4e26f4f28b9075a1ca6478c53",
            "44d5b2a2648348868283bb37ced5b660",
            "c5b8f2f655d449d5873afc40f8765c4c",
            "b4487454e8794de59c723b16df91dfc5",
            "f3c53fccbd824e4a872bd96dc578df54",
            "ce6d88c875424efd817f41c1aa363fcc",
            "2a3ad522f1d142169c82e309c75034d9",
            "6820615948754900a2e6bd6e65f2539c",
            "331285801fac47eaa6e3150e0f570185",
            "1e6050cdb31647efa8a2750212e86b1e",
            "7ada63ade42f4b84a92db45bac22d5e1",
            "a61c8a27f18e40dc9321b77db0e26341",
            "304f8aa3c0a9460fb49644fa7cec0a04",
            "4b2761a66d4c48559a66d5d083bc6f96",
            "d79dcf42f1ce431796320b5df7e9d199",
            "cca2047ef31145bc8bbda91bafeb37ee",
            "b0eb10d15dea4c5d8781ab69e3d92afc",
            "e9b17149535b46fd97f1f4b347e2777e",
            "b171ba26b1164d208cbf6996528f90fb",
            "c071b8116654457f9e173a091ee8dc8e",
            "b6b0fc126046439389f9ff81e6714ca5",
            "f33b4dba14454e369fefa2e09a785549",
            "b2e48b90602941289bbc8cb0c43e6860",
            "cc7f8ccb4cc64e22b7a56a7f6983eb99",
            "aa991166fa154898a19e6941a2985658",
            "17795d9f980746fda8e36e9f066a985c",
            "7c66fa3eca3249c9ad5758f266b1cfbd",
            "038bd0bb2877463f9e52b655c72ec5b2",
            "219f17fc64e242e8bb809ee0d525f990",
            "0d934c2f82ed44d19326bd82d2b588a5",
            "fd0a87bb1e224b76adb59b69ec57d21a",
            "e15b12baa3904519a1ef00a803bf57d7",
            "97851533c03045a3bc8ea99e1b41bcf3",
            "d6fa1206bebf43b58f9a48c6cb89398a",
            "8b0f76f659a54dac8a7be93b0ad132fa",
            "f7c2f34d8dd548ae9424a741377ae2a3",
            "3d18016161f741809e5fc72c016f45b6",
            "652957498fcf46d6ae9cad03c9adffe5",
            "c6991f346e5d4cbfa2333934b008b03c",
            "00a17b6604ff4d89a3826197538a4e47",
            "261d4b1059304c29bd5c5cdda11856a1",
            "03c6d959e58e44f58f08d369b5923773",
            "d451be8f9e2148bd9805cb7ceeecbe07",
            "72a998b38bbd42d69a7055db4383594e",
            "aeaa7e35b2664702b02a53dd21d10fe3",
            "facbe3cccda644d897e6835034e6823f",
            "ff4236d47b7e4076825525f363da6f26",
            "36a7e9667a7f465787623bb447472bcd",
            "c6a060850efc4ccb8302016026e714a6",
            "6ddc26c32da34ac984a7fd35838a71ed",
            "084dc779c19d41b199025d36f60809e5",
            "a533771b2cb34f16a5c062c7e3cc8f76",
            "46cfac4fc6df48f9a26e808e59d86b68",
            "e63ca27f9f7b483b88961cf64446aadc",
            "0dc2bfbb3fc1491e88cbf36a3e5e78c8",
            "7380bdd998184228ab15f7f02d94f3bf",
            "b054dad628564aaab76dd32f407b352e",
            "e44e36cd5c0042ad8c75f92b54de1a52",
            "ec9f7bc6f53241a1b01da81b87caf45d",
            "65cec3d9675a41a581917816197855c4",
            "26d338c4a26a40ab90212646168c8117",
            "fbdbcedf2748424795a15c09afc838f5"
          ]
        },
        "outputId": "92ca8952-c79e-4420-bb49-3337ce1b42d5"
      },
      "execution_count": null,
      "outputs": [
        {
          "output_type": "display_data",
          "data": {
            "text/plain": [
              "Updating BM25 representation...:   0%|          | 0/10 [00:00<?, ? docs/s]"
            ],
            "application/vnd.jupyter.widget-view+json": {
              "version_major": 2,
              "version_minor": 0,
              "model_id": "5065db376d8f4bc9b92c34cf11b4f0db"
            }
          },
          "metadata": {}
        },
        {
          "output_type": "display_data",
          "data": {
            "text/plain": [
              "Updating BM25 representation...:   0%|          | 0/29 [00:00<?, ? docs/s]"
            ],
            "application/vnd.jupyter.widget-view+json": {
              "version_major": 2,
              "version_minor": 0,
              "model_id": "7e3f039ee6634383b09120da0c58ad70"
            }
          },
          "metadata": {}
        },
        {
          "output_type": "display_data",
          "data": {
            "text/plain": [
              "Updating BM25 representation...:   0%|          | 0/55 [00:00<?, ? docs/s]"
            ],
            "application/vnd.jupyter.widget-view+json": {
              "version_major": 2,
              "version_minor": 0,
              "model_id": "6820615948754900a2e6bd6e65f2539c"
            }
          },
          "metadata": {}
        },
        {
          "output_type": "display_data",
          "data": {
            "text/plain": [
              "Updating BM25 representation...:   0%|          | 0/71 [00:00<?, ? docs/s]"
            ],
            "application/vnd.jupyter.widget-view+json": {
              "version_major": 2,
              "version_minor": 0,
              "model_id": "b171ba26b1164d208cbf6996528f90fb"
            }
          },
          "metadata": {}
        },
        {
          "output_type": "display_data",
          "data": {
            "text/plain": [
              "Updating BM25 representation...:   0%|          | 0/375 [00:00<?, ? docs/s]"
            ],
            "application/vnd.jupyter.widget-view+json": {
              "version_major": 2,
              "version_minor": 0,
              "model_id": "0d934c2f82ed44d19326bd82d2b588a5"
            }
          },
          "metadata": {}
        },
        {
          "output_type": "display_data",
          "data": {
            "text/plain": [
              "Updating BM25 representation...:   0%|          | 0/385 [00:00<?, ? docs/s]"
            ],
            "application/vnd.jupyter.widget-view+json": {
              "version_major": 2,
              "version_minor": 0,
              "model_id": "261d4b1059304c29bd5c5cdda11856a1"
            }
          },
          "metadata": {}
        },
        {
          "output_type": "display_data",
          "data": {
            "text/plain": [
              "Updating BM25 representation...:   0%|          | 0/411 [00:00<?, ? docs/s]"
            ],
            "application/vnd.jupyter.widget-view+json": {
              "version_major": 2,
              "version_minor": 0,
              "model_id": "a533771b2cb34f16a5c062c7e3cc8f76"
            }
          },
          "metadata": {}
        }
      ]
    },
    {
      "cell_type": "markdown",
      "source": [
        "## **2.2 Retriever**"
      ],
      "metadata": {
        "id": "46O3tzK7BBGw"
      }
    },
    {
      "cell_type": "markdown",
      "source": [
        "The Retriever performs document retrieval by sweeping through a DocumentStore and returning a set of candidate Documents that are relevant to the *query*.\n",
        "\n",
        "**Retrieve()** method returns a list of Document objects."
      ],
      "metadata": {
        "id": "nybVhxQROSu0"
      }
    },
    {
      "cell_type": "code",
      "source": [
        "candidate_documents = retriever.retrieve(\n",
        "    query=query,\n",
        "    top_k=5,\n",
        ")"
      ],
      "metadata": {
        "id": "uOLLteMtPsF1"
      },
      "execution_count": null,
      "outputs": []
    },
    {
      "cell_type": "markdown",
      "source": [
        "Top 5 candidate_document context are combined as one.\n"
      ],
      "metadata": {
        "id": "1REzJNP8P0Ci"
      }
    },
    {
      "cell_type": "code",
      "source": [
        "data=pd.DataFrame(candidate_documents)\n",
        "context=' '.join(data.content)"
      ],
      "metadata": {
        "id": "lbfPRarecxLA"
      },
      "execution_count": null,
      "outputs": []
    },
    {
      "cell_type": "code",
      "source": [
        "context"
      ],
      "metadata": {
        "colab": {
          "base_uri": "https://localhost:8080/",
          "height": 122
        },
        "id": "0BLx9irxdDrJ",
        "outputId": "b2be8135-15db-483f-c254-1477695a3023"
      },
      "execution_count": null,
      "outputs": [
        {
          "output_type": "execute_result",
          "data": {
            "text/plain": [
              "'Another large\\nsystematic genomic study reclassified 12 tumor types into 11 subtypes based on the\\nsequencing data from 3527 tumor cases (DNA copy number, DNA methylation, mRNA\\nexpression, microRNA expression, protein expression and somatic point mutation). Somatic\\nmutations such as KEAP1 and STK11 are preferentially mutated in LUAD-enriched tumors\\ngroup, containing most of the lung adenocarcinoma cases, while CDKN2A, NOTCH1,\\nMLL2 and NFE2L2 were found mutated preferentially in squamous-like tumors group\\nencompassing most of the lung squamous cell carcinoma cases. Squamous-like tumors also\\nshowed frequent MYC amplification and loss of CDKN2A, RB1 and TP53.  Takada M, Fukuoka M, Kawahara M, Sugiura T, Yokoyama A, Yokota S, Nishiwaki Y,\\nWatanabe K, Noda K, Tamura T, Fukuda H, et al. Phase iii study of concurrent versus sequential\\nthoracic radiotherapy in combination with cisplatin and etoposide for limited-stage small-cell\\nlung cancer: Results of the japan clinical oncology group study 9104. Journal of clinical\\noncology : official journal of the American Society of Clinical Oncology. 2002; 20(14):3054–\\n3060. [PubMed: 12118018]\\n277. Ready NE, Dudek AZ, Pang HH, Hodgson LD, Graziano SL, Green MR, Vokes EE.  Other environmental factors, such as exposure to asbestos (blf.org.uk/support-for-\\nyou/asbestos-related-conditions/what-is-asbestos) and radon (blf.org.uk/support-for-you/indoor-air-\\npollution/causes), can increase the risk as well.\\nIt’s increasingly recognised that other factors, such as air pollution (blf.org.uk/support-for-you/air-\\npollution/effects), as well as a variety of occupations are associated with an increased risk of getting lung\\ncancer.\\nPeople who’ve never smoked are more likely to develop one particular type of lung cancer called\\nadenocarcinoma.\\nLung cancer usually affects people over the age of 60. Younger people can develop lung cancer, but this is\\nless common.\\nWhat are the symptoms of lung cancer?\\n Recently updated data from a phase IIB randomized study treating stage\\nIIIB/IV NSCLC patients with L-BLP25 showed significant improvement in the vaccine\\ngroup comparing to the supportive group (3-year survival rates: 31 vs. 17 % [241]).\\nThe efficacy of TG4010, a recombinant vaccinia virus that combines the human MUC1 and\\ninterleukin-2 coding sequences [66], in combination with cisplatin and vinorelbine or as\\nmonotherapy has been investigated in a randomized phase II study for advanced NSCLC\\npatients [242,243]. A subgroup with a detectable CD8+ T-cell response was able to generate\\nan immune response against MUC1 and had longer median survival [243].  Symptom improvement in lung cancer patients treated\\nwith erlotinib: Quality of life analysis of the national cancer institute of canada clinical trials\\ngroup study br.21. Journal of clinical oncology : official journal of the American Society of\\nClinical Oncology. 2006; 24(24):3831–3837. [PubMed: 16921034]\\n128. Ciuleanu T, Stelmakh L, Cicenas S, Miliauskas S, Grigorescu AC, Hillenbach C, Johannsdottir\\nHK, Klughammer B, Gonzalez EE. Efficacy and safety of erlotinib versus chemotherapy in\\nsecond-line treatment of patients with advanced, non-small-cell lung cancer with poor prognosis\\n(titan): A randomised multicentre, open-label, phase 3 study. Lancet Oncol. 2012; 13(3):300–\\n308. [PubMed: 22277837]\\n129. '"
            ],
            "application/vnd.google.colaboratory.intrinsic+json": {
              "type": "string"
            }
          },
          "metadata": {},
          "execution_count": 15
        }
      ]
    },
    {
      "cell_type": "markdown",
      "source": [
        "# **3. Extractive qna**"
      ],
      "metadata": {
        "id": "J08-kqXywXNe"
      }
    },
    {
      "cell_type": "markdown",
      "source": [
        "The predict function takes a context and the question and extracts the answer from the given context\n",
        "\n",
        "The context here could be a text, or table. This is usually solved with BERT-like models.\n",
        "\n",
        "If the model name is not specified in the function,**default model(deepset/tinyroberta-squad2)** is taken into consideration.\n",
        "\n",
        "We can use any qna pre trained model from Huggingface or our fine tuned Huggingface qna model to infer on the test input."
      ],
      "metadata": {
        "id": "wBUjnGOYXRSp"
      }
    },
    {
      "cell_type": "markdown",
      "source": [
        "We can pass any kwargs inside inference function. (i.e doc_stride,max_answer_length,..) \n",
        "\n",
        "Refer https://huggingface.co/docs/transformers/main_classes/pipelines#transformers.QuestionAnsweringPipeline to know about list of available parameters for qna"
      ],
      "metadata": {
        "id": "2tEPyCb2gVb6"
      }
    },
    {
      "cell_type": "markdown",
      "source": [
        "Below is an example snippet to use:"
      ],
      "metadata": {
        "id": "vadvLkkiYAp8"
      }
    },
    {
      "cell_type": "markdown",
      "source": [
        "\n",
        "**Initialize the class**"
      ],
      "metadata": {
        "id": "eErzf5CTe-9R"
      }
    },
    {
      "cell_type": "code",
      "source": [
        "%cd /content/drive/MyDrive/semantic_search_package_final/qna"
      ],
      "metadata": {
        "colab": {
          "base_uri": "https://localhost:8080/"
        },
        "id": "Z5-0OCCAz2Bh",
        "outputId": "9f7af86f-4a35-40b1-c915-84bf25536895"
      },
      "execution_count": null,
      "outputs": [
        {
          "output_type": "stream",
          "name": "stdout",
          "text": [
            "/content/drive/MyDrive/semantic_search_package_final/qna\n"
          ]
        }
      ]
    },
    {
      "cell_type": "code",
      "source": [
        "from question_answer import QnA\n",
        "qna=QnA()"
      ],
      "metadata": {
        "id": "z7eD8PTk2euZ"
      },
      "execution_count": null,
      "outputs": []
    },
    {
      "cell_type": "code",
      "source": [
        "output=qna.predict(question=query,context=context,model_name='deepset/roberta-base-squad2')"
      ],
      "metadata": {
        "colab": {
          "base_uri": "https://localhost:8080/"
        },
        "id": "tpQSru4kdmgB",
        "outputId": "a591f81e-e641-40b9-ce8e-6230fc2c50d8"
      },
      "execution_count": null,
      "outputs": [
        {
          "output_type": "stream",
          "name": "stdout",
          "text": [
            "Executed\n",
            "Model Name: deepset/roberta-base-squad2\n"
          ]
        }
      ]
    },
    {
      "cell_type": "code",
      "source": [
        "output"
      ],
      "metadata": {
        "id": "DwRfkIcufZCx",
        "colab": {
          "base_uri": "https://localhost:8080/"
        },
        "outputId": "5723263f-92c2-4f7b-9fd9-0f1112d1235f"
      },
      "execution_count": null,
      "outputs": [
        {
          "output_type": "execute_result",
          "data": {
            "text/plain": [
              "[{'question': 'What are the findings of NSCLC group of study?',\n",
              "  'context': 'Another large\\nsystematic genomic study reclassified 12 tumor types into 11 subtypes based on the\\nsequencing data from 3527 tumor cases (DNA copy number, DNA methylation, mRNA\\nexpression, microRNA expression, protein expression and somatic point mutation). Somatic\\nmutations such as KEAP1 and STK11 are preferentially mutated in LUAD-enriched tumors\\ngroup, containing most of the lung adenocarcinoma cases, while CDKN2A, NOTCH1,\\nMLL2 and NFE2L2 were found mutated preferentially in squamous-like tumors group\\nencompassing most of the lung squamous cell carcinoma cases. Squamous-like tumors also\\nshowed frequent MYC amplification and loss of CDKN2A, RB1 and TP53.  Takada M, Fukuoka M, Kawahara M, Sugiura T, Yokoyama A, Yokota S, Nishiwaki Y,\\nWatanabe K, Noda K, Tamura T, Fukuda H, et al. Phase iii study of concurrent versus sequential\\nthoracic radiotherapy in combination with cisplatin and etoposide for limited-stage small-cell\\nlung cancer: Results of the japan clinical oncology group study 9104. Journal of clinical\\noncology : official journal of the American Society of Clinical Oncology. 2002; 20(14):3054–\\n3060. [PubMed: 12118018]\\n277. Ready NE, Dudek AZ, Pang HH, Hodgson LD, Graziano SL, Green MR, Vokes EE.  Other environmental factors, such as exposure to asbestos (blf.org.uk/support-for-\\nyou/asbestos-related-conditions/what-is-asbestos) and radon (blf.org.uk/support-for-you/indoor-air-\\npollution/causes), can increase the risk as well.\\nIt’s increasingly recognised that other factors, such as air pollution (blf.org.uk/support-for-you/air-\\npollution/effects), as well as a variety of occupations are associated with an increased risk of getting lung\\ncancer.\\nPeople who’ve never smoked are more likely to develop one particular type of lung cancer called\\nadenocarcinoma.\\nLung cancer usually affects people over the age of 60. Younger people can develop lung cancer, but this is\\nless common.\\nWhat are the symptoms of lung cancer?\\n Recently updated data from a phase IIB randomized study treating stage\\nIIIB/IV NSCLC patients with L-BLP25 showed significant improvement in the vaccine\\ngroup comparing to the supportive group (3-year survival rates: 31 vs. 17 % [241]).\\nThe efficacy of TG4010, a recombinant vaccinia virus that combines the human MUC1 and\\ninterleukin-2 coding sequences [66], in combination with cisplatin and vinorelbine or as\\nmonotherapy has been investigated in a randomized phase II study for advanced NSCLC\\npatients [242,243]. A subgroup with a detectable CD8+ T-cell response was able to generate\\nan immune response against MUC1 and had longer median survival [243].  Symptom improvement in lung cancer patients treated\\nwith erlotinib: Quality of life analysis of the national cancer institute of canada clinical trials\\ngroup study br.21. Journal of clinical oncology : official journal of the American Society of\\nClinical Oncology. 2006; 24(24):3831–3837. [PubMed: 16921034]\\n128. Ciuleanu T, Stelmakh L, Cicenas S, Miliauskas S, Grigorescu AC, Hillenbach C, Johannsdottir\\nHK, Klughammer B, Gonzalez EE. Efficacy and safety of erlotinib versus chemotherapy in\\nsecond-line treatment of patients with advanced, non-small-cell lung cancer with poor prognosis\\n(titan): A randomised multicentre, open-label, phase 3 study. Lancet Oncol. 2012; 13(3):300–\\n308. [PubMed: 22277837]\\n129. ',\n",
              "  'predicted_answer': 'significant improvement in the vaccine\\ngroup comparing to the supportive group',\n",
              "  'model_name': 'deepset/roberta-base-squad2',\n",
              "  'score': 0.041722968220710754,\n",
              "  'start': 2061,\n",
              "  'end': 2139}]"
            ]
          },
          "metadata": {},
          "execution_count": 20
        }
      ]
    },
    {
      "cell_type": "markdown",
      "source": [
        "**Storing the results in the dataframe**"
      ],
      "metadata": {
        "id": "ZV2Wbth5g65y"
      }
    },
    {
      "cell_type": "code",
      "source": [
        "df=pd.DataFrame(output)\n",
        "data[['name','split_id']]=data['meta'].apply(pd.Series)\n",
        "df"
      ],
      "metadata": {
        "colab": {
          "base_uri": "https://localhost:8080/",
          "height": 142
        },
        "id": "f66H3Kw-dwJb",
        "outputId": "ed05615d-4094-4955-a7eb-c0993a440376"
      },
      "execution_count": null,
      "outputs": [
        {
          "output_type": "execute_result",
          "data": {
            "text/plain": [
              "                                         question  \\\n",
              "0  What are the findings of NSCLC group of study?   \n",
              "\n",
              "                                                                           context  \\\n",
              "0  Another large\\nsystematic genomic study reclassified 12 tumor types into 11 ...   \n",
              "\n",
              "                                                                  predicted_answer  \\\n",
              "0  significant improvement in the vaccine\\ngroup comparing to the supportive group   \n",
              "\n",
              "                    model_name     score  start   end  \n",
              "0  deepset/roberta-base-squad2  0.041723   2061  2139  "
            ],
            "text/html": [
              "\n",
              "  <div id=\"df-0ab0f1d1-f4a0-4511-9e95-f067fdd212f1\">\n",
              "    <div class=\"colab-df-container\">\n",
              "      <div>\n",
              "<style scoped>\n",
              "    .dataframe tbody tr th:only-of-type {\n",
              "        vertical-align: middle;\n",
              "    }\n",
              "\n",
              "    .dataframe tbody tr th {\n",
              "        vertical-align: top;\n",
              "    }\n",
              "\n",
              "    .dataframe thead th {\n",
              "        text-align: right;\n",
              "    }\n",
              "</style>\n",
              "<table border=\"1\" class=\"dataframe\">\n",
              "  <thead>\n",
              "    <tr style=\"text-align: right;\">\n",
              "      <th></th>\n",
              "      <th>question</th>\n",
              "      <th>context</th>\n",
              "      <th>predicted_answer</th>\n",
              "      <th>model_name</th>\n",
              "      <th>score</th>\n",
              "      <th>start</th>\n",
              "      <th>end</th>\n",
              "    </tr>\n",
              "  </thead>\n",
              "  <tbody>\n",
              "    <tr>\n",
              "      <th>0</th>\n",
              "      <td>What are the findings of NSCLC group of study?</td>\n",
              "      <td>Another large\\nsystematic genomic study reclassified 12 tumor types into 11 ...</td>\n",
              "      <td>significant improvement in the vaccine\\ngroup comparing to the supportive group</td>\n",
              "      <td>deepset/roberta-base-squad2</td>\n",
              "      <td>0.041723</td>\n",
              "      <td>2061</td>\n",
              "      <td>2139</td>\n",
              "    </tr>\n",
              "  </tbody>\n",
              "</table>\n",
              "</div>\n",
              "      <button class=\"colab-df-convert\" onclick=\"convertToInteractive('df-0ab0f1d1-f4a0-4511-9e95-f067fdd212f1')\"\n",
              "              title=\"Convert this dataframe to an interactive table.\"\n",
              "              style=\"display:none;\">\n",
              "        \n",
              "  <svg xmlns=\"http://www.w3.org/2000/svg\" height=\"24px\"viewBox=\"0 0 24 24\"\n",
              "       width=\"24px\">\n",
              "    <path d=\"M0 0h24v24H0V0z\" fill=\"none\"/>\n",
              "    <path d=\"M18.56 5.44l.94 2.06.94-2.06 2.06-.94-2.06-.94-.94-2.06-.94 2.06-2.06.94zm-11 1L8.5 8.5l.94-2.06 2.06-.94-2.06-.94L8.5 2.5l-.94 2.06-2.06.94zm10 10l.94 2.06.94-2.06 2.06-.94-2.06-.94-.94-2.06-.94 2.06-2.06.94z\"/><path d=\"M17.41 7.96l-1.37-1.37c-.4-.4-.92-.59-1.43-.59-.52 0-1.04.2-1.43.59L10.3 9.45l-7.72 7.72c-.78.78-.78 2.05 0 2.83L4 21.41c.39.39.9.59 1.41.59.51 0 1.02-.2 1.41-.59l7.78-7.78 2.81-2.81c.8-.78.8-2.07 0-2.86zM5.41 20L4 18.59l7.72-7.72 1.47 1.35L5.41 20z\"/>\n",
              "  </svg>\n",
              "      </button>\n",
              "      \n",
              "  <style>\n",
              "    .colab-df-container {\n",
              "      display:flex;\n",
              "      flex-wrap:wrap;\n",
              "      gap: 12px;\n",
              "    }\n",
              "\n",
              "    .colab-df-convert {\n",
              "      background-color: #E8F0FE;\n",
              "      border: none;\n",
              "      border-radius: 50%;\n",
              "      cursor: pointer;\n",
              "      display: none;\n",
              "      fill: #1967D2;\n",
              "      height: 32px;\n",
              "      padding: 0 0 0 0;\n",
              "      width: 32px;\n",
              "    }\n",
              "\n",
              "    .colab-df-convert:hover {\n",
              "      background-color: #E2EBFA;\n",
              "      box-shadow: 0px 1px 2px rgba(60, 64, 67, 0.3), 0px 1px 3px 1px rgba(60, 64, 67, 0.15);\n",
              "      fill: #174EA6;\n",
              "    }\n",
              "\n",
              "    [theme=dark] .colab-df-convert {\n",
              "      background-color: #3B4455;\n",
              "      fill: #D2E3FC;\n",
              "    }\n",
              "\n",
              "    [theme=dark] .colab-df-convert:hover {\n",
              "      background-color: #434B5C;\n",
              "      box-shadow: 0px 1px 3px 1px rgba(0, 0, 0, 0.15);\n",
              "      filter: drop-shadow(0px 1px 2px rgba(0, 0, 0, 0.3));\n",
              "      fill: #FFFFFF;\n",
              "    }\n",
              "  </style>\n",
              "\n",
              "      <script>\n",
              "        const buttonEl =\n",
              "          document.querySelector('#df-0ab0f1d1-f4a0-4511-9e95-f067fdd212f1 button.colab-df-convert');\n",
              "        buttonEl.style.display =\n",
              "          google.colab.kernel.accessAllowed ? 'block' : 'none';\n",
              "\n",
              "        async function convertToInteractive(key) {\n",
              "          const element = document.querySelector('#df-0ab0f1d1-f4a0-4511-9e95-f067fdd212f1');\n",
              "          const dataTable =\n",
              "            await google.colab.kernel.invokeFunction('convertToInteractive',\n",
              "                                                     [key], {});\n",
              "          if (!dataTable) return;\n",
              "\n",
              "          const docLinkHtml = 'Like what you see? Visit the ' +\n",
              "            '<a target=\"_blank\" href=https://colab.research.google.com/notebooks/data_table.ipynb>data table notebook</a>'\n",
              "            + ' to learn more about interactive tables.';\n",
              "          element.innerHTML = '';\n",
              "          dataTable['output_type'] = 'display_data';\n",
              "          await google.colab.output.renderOutput(dataTable, element);\n",
              "          const docLink = document.createElement('div');\n",
              "          docLink.innerHTML = docLinkHtml;\n",
              "          element.appendChild(docLink);\n",
              "        }\n",
              "      </script>\n",
              "    </div>\n",
              "  </div>\n",
              "  "
            ]
          },
          "metadata": {},
          "execution_count": 21
        }
      ]
    },
    {
      "cell_type": "markdown",
      "source": [
        "# **4. Text Summarization**"
      ],
      "metadata": {
        "id": "hTb4LGmGf777"
      }
    },
    {
      "cell_type": "markdown",
      "source": [
        "The inference function takes context and extracts the summary for the given context.The context here could be a text, or table.\n",
        "\n",
        "See the up-to-date list of available models on https://huggingface.co/models?pipeline_tag=summarization\n",
        "\n",
        "If the model name is not specified in the function,default model(**facebook/bart-large-cnn**) is taken into consideration.\n",
        "\n",
        "We can use any text summarization pre trained model from Huggingface or our fine tuned Huggingface model to infer on the test input.\n",
        "\n",
        "We can pass any kwargs inside predict function. (i.e min_length, max_length,..)\n",
        "\n",
        "Refer https://huggingface.co/docs/transformers/main_classes/pipelines#transformers.SummarizationPipeline to know about list of available parameters for summarization"
      ],
      "metadata": {
        "id": "2BZzxQx4mONZ"
      }
    },
    {
      "cell_type": "markdown",
      "source": [
        "Initialize the class"
      ],
      "metadata": {
        "id": "5TG2cVgQeiKu"
      }
    },
    {
      "cell_type": "code",
      "source": [
        "%cd /content/drive/MyDrive/semantic_search_package_final/summarization/"
      ],
      "metadata": {
        "colab": {
          "base_uri": "https://localhost:8080/"
        },
        "id": "_B2jRrxc1MVN",
        "outputId": "e404dd35-0dd1-4ebb-841e-16abb3474ddf"
      },
      "execution_count": null,
      "outputs": [
        {
          "output_type": "stream",
          "name": "stdout",
          "text": [
            "/content/drive/MyDrive/semantic_search_package_final/summarization\n"
          ]
        }
      ]
    },
    {
      "cell_type": "code",
      "source": [
        "from table_text_summarization import Summarizer\n",
        "summarizer=Summarizer()"
      ],
      "metadata": {
        "id": "asdKLvOHewFB"
      },
      "execution_count": null,
      "outputs": []
    },
    {
      "cell_type": "markdown",
      "source": [
        "## **4.1 Context summary**"
      ],
      "metadata": {
        "id": "mzdP-J3qfEFo"
      }
    },
    {
      "cell_type": "markdown",
      "source": [
        "For context summary, added 300 words before and after the **predicted answer** using start and end index."
      ],
      "metadata": {
        "id": "5mGTtmJBlzJY"
      }
    },
    {
      "cell_type": "code",
      "source": [
        "context_window=300\n",
        "# answer = str(df.predicted_answer)\n",
        "score = int(df.score)\n",
        "start = int(df.start)\n",
        "end = int(df.end)\n",
        "context_subset=context[context_window-start:end+context_window]"
      ],
      "metadata": {
        "id": "2C7Clo2wh6Up"
      },
      "execution_count": null,
      "outputs": []
    },
    {
      "cell_type": "code",
      "source": [
        "context_subset"
      ],
      "metadata": {
        "colab": {
          "base_uri": "https://localhost:8080/",
          "height": 104
        },
        "id": "fg9cHdV0h6ey",
        "outputId": "5e1ecaac-ccbc-4cb4-867b-7f7d5a1662be"
      },
      "execution_count": null,
      "outputs": [
        {
          "output_type": "execute_result",
          "data": {
            "text/plain": [
              "'ir-\\npollution/effects), as well as a variety of occupations are associated with an increased risk of getting lung\\ncancer.\\nPeople who’ve never smoked are more likely to develop one particular type of lung cancer called\\nadenocarcinoma.\\nLung cancer usually affects people over the age of 60. Younger people can develop lung cancer, but this is\\nless common.\\nWhat are the symptoms of lung cancer?\\n Recently updated data from a phase IIB randomized study treating stage\\nIIIB/IV NSCLC patients with L-BLP25 showed significant improvement in the vaccine\\ngroup comparing to the supportive group (3-year survival rates: 31 vs. 17 % [241]).\\nThe efficacy of TG4010, a recombinant vaccinia virus that combines the human MUC1 and\\ninterleukin-2 coding sequences [66], in combination with cisplatin and vinorelbine or as\\nmonotherapy has been investigated in a randomized phase II study for advanced NS'"
            ],
            "application/vnd.google.colaboratory.intrinsic+json": {
              "type": "string"
            }
          },
          "metadata": {},
          "execution_count": 25
        }
      ]
    },
    {
      "cell_type": "code",
      "source": [
        "subset_summary=summarizer.predict(context=context_subset,model_name=\"facebook/bart-large-cnn\",min_length=5, max_length=10)\n",
        "subset_summary"
      ],
      "metadata": {
        "colab": {
          "base_uri": "https://localhost:8080/"
        },
        "id": "z-tyUK-ylOtW",
        "outputId": "83460bbd-d527-417c-89f2-6000dc4a3f07"
      },
      "execution_count": null,
      "outputs": [
        {
          "output_type": "execute_result",
          "data": {
            "text/plain": [
              "[{'context': 'ir-\\npollution/effects), as well as a variety of occupations are associated with an increased risk of getting lung\\ncancer.\\nPeople who’ve never smoked are more likely to develop one particular type of lung cancer called\\nadenocarcinoma.\\nLung cancer usually affects people over the age of 60. Younger people can develop lung cancer, but this is\\nless common.\\nWhat are the symptoms of lung cancer?\\n Recently updated data from a phase IIB randomized study treating stage\\nIIIB/IV NSCLC patients with L-BLP25 showed significant improvement in the vaccine\\ngroup comparing to the supportive group (3-year survival rates: 31 vs. 17 % [241]).\\nThe efficacy of TG4010, a recombinant vaccinia virus that combines the human MUC1 and\\ninterleukin-2 coding sequences [66], in combination with cisplatin and vinorelbine or as\\nmonotherapy has been investigated in a randomized phase II study for advanced NS',\n",
              "  'predicted_summary': 'Lung cancer usually affects people over',\n",
              "  'model_name': 'facebook/bart-large-cnn'}]"
            ]
          },
          "metadata": {},
          "execution_count": 26
        }
      ]
    },
    {
      "cell_type": "markdown",
      "source": [
        "## **4.2 Document summary**"
      ],
      "metadata": {
        "id": "vHy7vdh4fc6O"
      }
    },
    {
      "cell_type": "code",
      "source": [
        "summary=summarizer.predict(context=context,model_name=\"facebook/bart-large-cnn\")"
      ],
      "metadata": {
        "id": "Jl4YHm9RezQd"
      },
      "execution_count": null,
      "outputs": []
    },
    {
      "cell_type": "code",
      "source": [
        "summary"
      ],
      "metadata": {
        "colab": {
          "base_uri": "https://localhost:8080/"
        },
        "id": "dnPUt7DcfDnL",
        "outputId": "85556f8d-2ce9-435d-aea6-9aa2a5bb4933"
      },
      "execution_count": null,
      "outputs": [
        {
          "output_type": "execute_result",
          "data": {
            "text/plain": [
              "[{'context': 'Another large\\nsystematic genomic study reclassified 12 tumor types into 11 subtypes based on the\\nsequencing data from 3527 tumor cases (DNA copy number, DNA methylation, mRNA\\nexpression, microRNA expression, protein expression and somatic point mutation). Somatic\\nmutations such as KEAP1 and STK11 are preferentially mutated in LUAD-enriched tumors\\ngroup, containing most of the lung adenocarcinoma cases, while CDKN2A, NOTCH1,\\nMLL2 and NFE2L2 were found mutated preferentially in squamous-like tumors group\\nencompassing most of the lung squamous cell carcinoma cases. Squamous-like tumors also\\nshowed frequent MYC amplification and loss of CDKN2A, RB1 and TP53.  Takada M, Fukuoka M, Kawahara M, Sugiura T, Yokoyama A, Yokota S, Nishiwaki Y,\\nWatanabe K, Noda K, Tamura T, Fukuda H, et al. Phase iii study of concurrent versus sequential\\nthoracic radiotherapy in combination with cisplatin and etoposide for limited-stage small-cell\\nlung cancer: Results of the japan clinical oncology group study 9104. Journal of clinical\\noncology : official journal of the American Society of Clinical Oncology. 2002; 20(14):3054–\\n3060. [PubMed: 12118018]\\n277. Ready NE, Dudek AZ, Pang HH, Hodgson LD, Graziano SL, Green MR, Vokes EE.  Other environmental factors, such as exposure to asbestos (blf.org.uk/support-for-\\nyou/asbestos-related-conditions/what-is-asbestos) and radon (blf.org.uk/support-for-you/indoor-air-\\npollution/causes), can increase the risk as well.\\nIt’s increasingly recognised that other factors, such as air pollution (blf.org.uk/support-for-you/air-\\npollution/effects), as well as a variety of occupations are associated with an increased risk of getting lung\\ncancer.\\nPeople who’ve never smoked are more likely to develop one particular type of lung cancer called\\nadenocarcinoma.\\nLung cancer usually affects people over the age of 60. Younger people can develop lung cancer, but this is\\nless common.\\nWhat are the symptoms of lung cancer?\\n Recently updated data from a phase IIB randomized study treating stage\\nIIIB/IV NSCLC patients with L-BLP25 showed significant improvement in the vaccine\\ngroup comparing to the supportive group (3-year survival rates: 31 vs. 17 % [241]).\\nThe efficacy of TG4010, a recombinant vaccinia virus that combines the human MUC1 and\\ninterleukin-2 coding sequences [66], in combination with cisplatin and vinorelbine or as\\nmonotherapy has been investigated in a randomized phase II study for advanced NSCLC\\npatients [242,243]. A subgroup with a detectable CD8+ T-cell response was able to generate\\nan immune response against MUC1 and had longer median survival [243].  Symptom improvement in lung cancer patients treated\\nwith erlotinib: Quality of life analysis of the national cancer institute of canada clinical trials\\ngroup study br.21. Journal of clinical oncology : official journal of the American Society of\\nClinical Oncology. 2006; 24(24):3831–3837. [PubMed: 16921034]\\n128. Ciuleanu T, Stelmakh L, Cicenas S, Miliauskas S, Grigorescu AC, Hillenbach C, Johannsdottir\\nHK, Klughammer B, Gonzalez EE. Efficacy and safety of erlotinib versus chemotherapy in\\nsecond-line treatment of patients with advanced, non-small-cell lung cancer with poor prognosis\\n(titan): A randomised multicentre, open-label, phase 3 study. Lancet Oncol. 2012; 13(3):300–\\n308. [PubMed: 22277837]\\n129. ',\n",
              "  'predicted_summary': 'Somatic mutations such as KEAP1 and STK11 are preferentially mutated in LUAD-enriched tumors. Squamous-like tumors also showed frequent MYC amplification and loss of CDKN2A, RB1 and TP53. A subgroup with a detectable CD8+ T-cell response was able to generate an immune response against MUC1 and had longer median survival.',\n",
              "  'model_name': 'facebook/bart-large-cnn'}]"
            ]
          },
          "metadata": {},
          "execution_count": 28
        }
      ]
    },
    {
      "cell_type": "code",
      "source": [
        "len(context)"
      ],
      "metadata": {
        "colab": {
          "base_uri": "https://localhost:8080/"
        },
        "id": "gh2ltR6LqwGL",
        "outputId": "894a5eb6-ee39-448e-b8ad-7b229686bca2"
      },
      "execution_count": null,
      "outputs": [
        {
          "output_type": "execute_result",
          "data": {
            "text/plain": [
              "3315"
            ]
          },
          "metadata": {},
          "execution_count": 29
        }
      ]
    },
    {
      "cell_type": "markdown",
      "source": [
        "chunk the document if the size is huge"
      ],
      "metadata": {
        "id": "x8Q4GNH46wr5"
      }
    },
    {
      "cell_type": "code",
      "source": [
        "def get_chunks(s, maxlength):\n",
        "    start = 0\n",
        "    end = 0\n",
        "    while start + maxlength  < len(s) and end != -1:\n",
        "        end = s.rfind(\" \", start, start + maxlength + 1)\n",
        "        yield s[start:end]\n",
        "        start = end +1\n",
        "    yield s[start:]\n",
        "\n",
        "chunks = get_chunks(context, 500)\n",
        "\n",
        "#Make list with line lengths:\n",
        "# [n for n in chunks]\n",
        "for n in chunks:\n",
        "  summary=summarizer.predict(context=n,model_name=\"facebook/bart-large-cnn\")\n",
        "  print(summary)"
      ],
      "metadata": {
        "colab": {
          "base_uri": "https://localhost:8080/"
        },
        "id": "VgHARMpmfvu-",
        "outputId": "c934a650-aa7b-46e6-d050-d4c42e5b8e0e"
      },
      "execution_count": null,
      "outputs": [
        {
          "output_type": "stream",
          "name": "stderr",
          "text": [
            "Your max_length is set to 142, but you input_length is only 128. You might consider decreasing max_length manually, e.g. summarizer('...', max_length=64)\n"
          ]
        },
        {
          "output_type": "stream",
          "name": "stdout",
          "text": [
            "[{'context': 'Another large\\nsystematic genomic study reclassified 12 tumor types into 11 subtypes based on the\\nsequencing data from 3527 tumor cases (DNA copy number, DNA methylation, mRNA\\nexpression, microRNA expression, protein expression and somatic point mutation). Somatic\\nmutations such as KEAP1 and STK11 are preferentially mutated in LUAD-enriched tumors\\ngroup, containing most of the lung adenocarcinoma cases, while CDKN2A, NOTCH1,\\nMLL2 and NFE2L2 were found mutated preferentially in squamous-like', 'predicted_summary': 'Another large-scale genomic study reclassified 12 tumor types into 11 subtypes. Somatic mutations such as KEAP1 and STK11 are preferentially mutated in LUAD-enriched tumors. CDKN2A, NOTCH1, MLL2 and NFE2L2 were found mutated preferently in squamous-like tumors.', 'model_name': 'facebook/bart-large-cnn'}]\n",
            "[{'context': 'tumors group\\nencompassing most of the lung squamous cell carcinoma cases. Squamous-like tumors also\\nshowed frequent MYC amplification and loss of CDKN2A, RB1 and TP53.  Takada M, Fukuoka M, Kawahara M, Sugiura T, Yokoyama A, Yokota S, Nishiwaki Y,\\nWatanabe K, Noda K, Tamura T, Fukuda H, et al. Phase iii study of concurrent versus sequential\\nthoracic radiotherapy in combination with cisplatin and etoposide for limited-stage small-cell\\nlung cancer: Results of the japan clinical oncology group', 'predicted_summary': 'Squamous-like tumors also showed frequent MYC amplification and loss of CDKN2A, RB1 and TP53. tumors group \\xa0 \\xa0 \\xa0 \\xa0 \\xa0 \\xa0 \\xa0 \\xa0encompassing most of the lung squamous cell carcinoma cases. Study of concurrent versus sequential sequential radiotherapy in combination with cisplatin and etoposide.', 'model_name': 'facebook/bart-large-cnn'}]\n",
            "[{'context': 'study 9104. Journal of clinical\\noncology : official journal of the American Society of Clinical Oncology. 2002; 20(14):3054–\\n3060. [PubMed: 12118018]\\n277. Ready NE, Dudek AZ, Pang HH, Hodgson LD, Graziano SL, Green MR, Vokes EE.  Other environmental factors, such as exposure to asbestos (blf.org.uk/support-for-\\nyou/asbestos-related-conditions/what-is-asbestos) and radon (blf.org.uk/support-for-you/indoor-air-\\npollution/causes), can increase the risk as well.\\nIt’s increasingly recognised that', 'predicted_summary': 'Other environmental factors, such as exposure to asbestos (blf.org.uk/support-for-you/asbestos-related-conditions/what-is-asbestos) and radon can increase the risk as well. Study 9104. Journal of clinicaloncology. 2002; 20(14):3054–3060. [PubMed: 12118018]', 'model_name': 'facebook/bart-large-cnn'}]\n"
          ]
        },
        {
          "output_type": "stream",
          "name": "stderr",
          "text": [
            "Your max_length is set to 142, but you input_length is only 122. You might consider decreasing max_length manually, e.g. summarizer('...', max_length=61)\n"
          ]
        },
        {
          "output_type": "stream",
          "name": "stdout",
          "text": [
            "[{'context': 'other factors, such as air pollution (blf.org.uk/support-for-you/air-\\npollution/effects), as well as a variety of occupations are associated with an increased risk of getting lung\\ncancer.\\nPeople who’ve never smoked are more likely to develop one particular type of lung cancer called\\nadenocarcinoma.\\nLung cancer usually affects people over the age of 60. Younger people can develop lung cancer, but this is\\nless common.\\nWhat are the symptoms of lung cancer?\\n Recently updated data from a phase IIB', 'predicted_summary': 'Lung cancer usually affects people over the age of 60. Younger people can develop lung cancer, but this is less common. Other factors, such as air pollution (blf.org.uk/support-for-you/air-pollution/effects), as well as a variety of occupations are associated with an increased risk.', 'model_name': 'facebook/bart-large-cnn'}]\n"
          ]
        },
        {
          "output_type": "stream",
          "name": "stderr",
          "text": [
            "Your max_length is set to 142, but you input_length is only 127. You might consider decreasing max_length manually, e.g. summarizer('...', max_length=63)\n"
          ]
        },
        {
          "output_type": "stream",
          "name": "stdout",
          "text": [
            "[{'context': 'randomized study treating stage\\nIIIB/IV NSCLC patients with L-BLP25 showed significant improvement in the vaccine\\ngroup comparing to the supportive group (3-year survival rates: 31 vs. 17 % [241]).\\nThe efficacy of TG4010, a recombinant vaccinia virus that combines the human MUC1 and\\ninterleukin-2 coding sequences [66], in combination with cisplatin and vinorelbine or as\\nmonotherapy has been investigated in a randomized phase II study for advanced NSCLC\\npatients [242,243]. A subgroup with a', 'predicted_summary': 'The efficacy of TG4010, a recombinant vaccinia virus that combines the human MUC1 and \\xa0 \\xa0 \\xa0 \\xa0 \\xa0 \\xa0 \\xa0 \\xa0interleukin-2 coding sequences, in combination with cisplatin and vinorelbine or as asmonotherapy has been investigated in a randomized phase II study for advanced NSCLC patients.', 'model_name': 'facebook/bart-large-cnn'}]\n"
          ]
        },
        {
          "output_type": "stream",
          "name": "stderr",
          "text": [
            "Your max_length is set to 142, but you input_length is only 141. You might consider decreasing max_length manually, e.g. summarizer('...', max_length=70)\n"
          ]
        },
        {
          "output_type": "stream",
          "name": "stdout",
          "text": [
            "[{'context': 'detectable CD8+ T-cell response was able to generate\\nan immune response against MUC1 and had longer median survival [243].  Symptom improvement in lung cancer patients treated\\nwith erlotinib: Quality of life analysis of the national cancer institute of canada clinical trials\\ngroup study br.21. Journal of clinical oncology : official journal of the American Society of\\nClinical Oncology. 2006; 24(24):3831–3837. [PubMed: 16921034]\\n128. Ciuleanu T, Stelmakh L, Cicenas S, Miliauskas S, Grigorescu AC,', 'predicted_summary': 'Elotinib was able to generate an immune response against MUC1 and had longer median survival. detectable CD8+ T-cell response. Patients treated with the drug had a better quality of life, according to a Canadian clinical trials study. The study was published in the Journal of clinical oncology.', 'model_name': 'facebook/bart-large-cnn'}]\n"
          ]
        },
        {
          "output_type": "stream",
          "name": "stderr",
          "text": [
            "Your max_length is set to 142, but you input_length is only 104. You might consider decreasing max_length manually, e.g. summarizer('...', max_length=52)\n"
          ]
        },
        {
          "output_type": "stream",
          "name": "stdout",
          "text": [
            "[{'context': 'Hillenbach C, Johannsdottir\\nHK, Klughammer B, Gonzalez EE. Efficacy and safety of erlotinib versus chemotherapy in\\nsecond-line treatment of patients with advanced, non-small-cell lung cancer with poor prognosis\\n(titan): A randomised multicentre, open-label, phase 3 study. Lancet Oncol. 2012; 13(3):300–\\n308. [PubMed: 22277837]\\n129. ', 'predicted_summary': 'Elotinib is being trialled in patients with non-small-cell lung cancer with poor prognosis. The study was a randomised multicentre, open-label, phase 3 study. The results of the study were published in the Lancet Oncol 2012.', 'model_name': 'facebook/bart-large-cnn'}]\n"
          ]
        }
      ]
    },
    {
      "cell_type": "code",
      "source": [],
      "metadata": {
        "id": "ytM94mXJ4l60"
      },
      "execution_count": null,
      "outputs": []
    }
  ],
  "metadata": {
    "colab": {
      "provenance": []
    },
    "gpuClass": "standard",
    "kernelspec": {
      "display_name": "Python 3",
      "name": "python3"
    },
    "language_info": {
      "name": "python"
    },
    "widgets": {
      "application/vnd.jupyter.widget-state+json": {
        "5065db376d8f4bc9b92c34cf11b4f0db": {
          "model_module": "@jupyter-widgets/controls",
          "model_name": "HBoxModel",
          "model_module_version": "1.5.0",
          "state": {
            "_dom_classes": [],
            "_model_module": "@jupyter-widgets/controls",
            "_model_module_version": "1.5.0",
            "_model_name": "HBoxModel",
            "_view_count": null,
            "_view_module": "@jupyter-widgets/controls",
            "_view_module_version": "1.5.0",
            "_view_name": "HBoxView",
            "box_style": "",
            "children": [
              "IPY_MODEL_fd51845120764951aa2e229b1c3184a4",
              "IPY_MODEL_01e78b814aa745008971bffe45e69559",
              "IPY_MODEL_702f9ee8bea04defb2fcd1a85b76b2cc"
            ],
            "layout": "IPY_MODEL_9eeb59ea077f4c5085f6c0f72d74542b"
          }
        },
        "fd51845120764951aa2e229b1c3184a4": {
          "model_module": "@jupyter-widgets/controls",
          "model_name": "HTMLModel",
          "model_module_version": "1.5.0",
          "state": {
            "_dom_classes": [],
            "_model_module": "@jupyter-widgets/controls",
            "_model_module_version": "1.5.0",
            "_model_name": "HTMLModel",
            "_view_count": null,
            "_view_module": "@jupyter-widgets/controls",
            "_view_module_version": "1.5.0",
            "_view_name": "HTMLView",
            "description": "",
            "description_tooltip": null,
            "layout": "IPY_MODEL_1eb70e84603444f2ae10d3bc1ba8f09d",
            "placeholder": "​",
            "style": "IPY_MODEL_6eadb7a69146480b9736b864e3ffdab0",
            "value": "Updating BM25 representation...: 100%"
          }
        },
        "01e78b814aa745008971bffe45e69559": {
          "model_module": "@jupyter-widgets/controls",
          "model_name": "FloatProgressModel",
          "model_module_version": "1.5.0",
          "state": {
            "_dom_classes": [],
            "_model_module": "@jupyter-widgets/controls",
            "_model_module_version": "1.5.0",
            "_model_name": "FloatProgressModel",
            "_view_count": null,
            "_view_module": "@jupyter-widgets/controls",
            "_view_module_version": "1.5.0",
            "_view_name": "ProgressView",
            "bar_style": "success",
            "description": "",
            "description_tooltip": null,
            "layout": "IPY_MODEL_3dbead5f28de4dcaa4dc04d75e78d17d",
            "max": 10,
            "min": 0,
            "orientation": "horizontal",
            "style": "IPY_MODEL_b91cd2d78239489f918c9a1901cd6013",
            "value": 10
          }
        },
        "702f9ee8bea04defb2fcd1a85b76b2cc": {
          "model_module": "@jupyter-widgets/controls",
          "model_name": "HTMLModel",
          "model_module_version": "1.5.0",
          "state": {
            "_dom_classes": [],
            "_model_module": "@jupyter-widgets/controls",
            "_model_module_version": "1.5.0",
            "_model_name": "HTMLModel",
            "_view_count": null,
            "_view_module": "@jupyter-widgets/controls",
            "_view_module_version": "1.5.0",
            "_view_name": "HTMLView",
            "description": "",
            "description_tooltip": null,
            "layout": "IPY_MODEL_c17eee5639434bdf9678b01a2078afd1",
            "placeholder": "​",
            "style": "IPY_MODEL_9a668f17cd4249fcacb0a2a75e51bd20",
            "value": " 10/10 [00:00&lt;00:00, 338.84 docs/s]"
          }
        },
        "9eeb59ea077f4c5085f6c0f72d74542b": {
          "model_module": "@jupyter-widgets/base",
          "model_name": "LayoutModel",
          "model_module_version": "1.2.0",
          "state": {
            "_model_module": "@jupyter-widgets/base",
            "_model_module_version": "1.2.0",
            "_model_name": "LayoutModel",
            "_view_count": null,
            "_view_module": "@jupyter-widgets/base",
            "_view_module_version": "1.2.0",
            "_view_name": "LayoutView",
            "align_content": null,
            "align_items": null,
            "align_self": null,
            "border": null,
            "bottom": null,
            "display": null,
            "flex": null,
            "flex_flow": null,
            "grid_area": null,
            "grid_auto_columns": null,
            "grid_auto_flow": null,
            "grid_auto_rows": null,
            "grid_column": null,
            "grid_gap": null,
            "grid_row": null,
            "grid_template_areas": null,
            "grid_template_columns": null,
            "grid_template_rows": null,
            "height": null,
            "justify_content": null,
            "justify_items": null,
            "left": null,
            "margin": null,
            "max_height": null,
            "max_width": null,
            "min_height": null,
            "min_width": null,
            "object_fit": null,
            "object_position": null,
            "order": null,
            "overflow": null,
            "overflow_x": null,
            "overflow_y": null,
            "padding": null,
            "right": null,
            "top": null,
            "visibility": null,
            "width": null
          }
        },
        "1eb70e84603444f2ae10d3bc1ba8f09d": {
          "model_module": "@jupyter-widgets/base",
          "model_name": "LayoutModel",
          "model_module_version": "1.2.0",
          "state": {
            "_model_module": "@jupyter-widgets/base",
            "_model_module_version": "1.2.0",
            "_model_name": "LayoutModel",
            "_view_count": null,
            "_view_module": "@jupyter-widgets/base",
            "_view_module_version": "1.2.0",
            "_view_name": "LayoutView",
            "align_content": null,
            "align_items": null,
            "align_self": null,
            "border": null,
            "bottom": null,
            "display": null,
            "flex": null,
            "flex_flow": null,
            "grid_area": null,
            "grid_auto_columns": null,
            "grid_auto_flow": null,
            "grid_auto_rows": null,
            "grid_column": null,
            "grid_gap": null,
            "grid_row": null,
            "grid_template_areas": null,
            "grid_template_columns": null,
            "grid_template_rows": null,
            "height": null,
            "justify_content": null,
            "justify_items": null,
            "left": null,
            "margin": null,
            "max_height": null,
            "max_width": null,
            "min_height": null,
            "min_width": null,
            "object_fit": null,
            "object_position": null,
            "order": null,
            "overflow": null,
            "overflow_x": null,
            "overflow_y": null,
            "padding": null,
            "right": null,
            "top": null,
            "visibility": null,
            "width": null
          }
        },
        "6eadb7a69146480b9736b864e3ffdab0": {
          "model_module": "@jupyter-widgets/controls",
          "model_name": "DescriptionStyleModel",
          "model_module_version": "1.5.0",
          "state": {
            "_model_module": "@jupyter-widgets/controls",
            "_model_module_version": "1.5.0",
            "_model_name": "DescriptionStyleModel",
            "_view_count": null,
            "_view_module": "@jupyter-widgets/base",
            "_view_module_version": "1.2.0",
            "_view_name": "StyleView",
            "description_width": ""
          }
        },
        "3dbead5f28de4dcaa4dc04d75e78d17d": {
          "model_module": "@jupyter-widgets/base",
          "model_name": "LayoutModel",
          "model_module_version": "1.2.0",
          "state": {
            "_model_module": "@jupyter-widgets/base",
            "_model_module_version": "1.2.0",
            "_model_name": "LayoutModel",
            "_view_count": null,
            "_view_module": "@jupyter-widgets/base",
            "_view_module_version": "1.2.0",
            "_view_name": "LayoutView",
            "align_content": null,
            "align_items": null,
            "align_self": null,
            "border": null,
            "bottom": null,
            "display": null,
            "flex": null,
            "flex_flow": null,
            "grid_area": null,
            "grid_auto_columns": null,
            "grid_auto_flow": null,
            "grid_auto_rows": null,
            "grid_column": null,
            "grid_gap": null,
            "grid_row": null,
            "grid_template_areas": null,
            "grid_template_columns": null,
            "grid_template_rows": null,
            "height": null,
            "justify_content": null,
            "justify_items": null,
            "left": null,
            "margin": null,
            "max_height": null,
            "max_width": null,
            "min_height": null,
            "min_width": null,
            "object_fit": null,
            "object_position": null,
            "order": null,
            "overflow": null,
            "overflow_x": null,
            "overflow_y": null,
            "padding": null,
            "right": null,
            "top": null,
            "visibility": null,
            "width": null
          }
        },
        "b91cd2d78239489f918c9a1901cd6013": {
          "model_module": "@jupyter-widgets/controls",
          "model_name": "ProgressStyleModel",
          "model_module_version": "1.5.0",
          "state": {
            "_model_module": "@jupyter-widgets/controls",
            "_model_module_version": "1.5.0",
            "_model_name": "ProgressStyleModel",
            "_view_count": null,
            "_view_module": "@jupyter-widgets/base",
            "_view_module_version": "1.2.0",
            "_view_name": "StyleView",
            "bar_color": null,
            "description_width": ""
          }
        },
        "c17eee5639434bdf9678b01a2078afd1": {
          "model_module": "@jupyter-widgets/base",
          "model_name": "LayoutModel",
          "model_module_version": "1.2.0",
          "state": {
            "_model_module": "@jupyter-widgets/base",
            "_model_module_version": "1.2.0",
            "_model_name": "LayoutModel",
            "_view_count": null,
            "_view_module": "@jupyter-widgets/base",
            "_view_module_version": "1.2.0",
            "_view_name": "LayoutView",
            "align_content": null,
            "align_items": null,
            "align_self": null,
            "border": null,
            "bottom": null,
            "display": null,
            "flex": null,
            "flex_flow": null,
            "grid_area": null,
            "grid_auto_columns": null,
            "grid_auto_flow": null,
            "grid_auto_rows": null,
            "grid_column": null,
            "grid_gap": null,
            "grid_row": null,
            "grid_template_areas": null,
            "grid_template_columns": null,
            "grid_template_rows": null,
            "height": null,
            "justify_content": null,
            "justify_items": null,
            "left": null,
            "margin": null,
            "max_height": null,
            "max_width": null,
            "min_height": null,
            "min_width": null,
            "object_fit": null,
            "object_position": null,
            "order": null,
            "overflow": null,
            "overflow_x": null,
            "overflow_y": null,
            "padding": null,
            "right": null,
            "top": null,
            "visibility": null,
            "width": null
          }
        },
        "9a668f17cd4249fcacb0a2a75e51bd20": {
          "model_module": "@jupyter-widgets/controls",
          "model_name": "DescriptionStyleModel",
          "model_module_version": "1.5.0",
          "state": {
            "_model_module": "@jupyter-widgets/controls",
            "_model_module_version": "1.5.0",
            "_model_name": "DescriptionStyleModel",
            "_view_count": null,
            "_view_module": "@jupyter-widgets/base",
            "_view_module_version": "1.2.0",
            "_view_name": "StyleView",
            "description_width": ""
          }
        },
        "7e3f039ee6634383b09120da0c58ad70": {
          "model_module": "@jupyter-widgets/controls",
          "model_name": "HBoxModel",
          "model_module_version": "1.5.0",
          "state": {
            "_dom_classes": [],
            "_model_module": "@jupyter-widgets/controls",
            "_model_module_version": "1.5.0",
            "_model_name": "HBoxModel",
            "_view_count": null,
            "_view_module": "@jupyter-widgets/controls",
            "_view_module_version": "1.5.0",
            "_view_name": "HBoxView",
            "box_style": "",
            "children": [
              "IPY_MODEL_6d95362acfa24406bbea973e41e1edc3",
              "IPY_MODEL_458fdb2009864e6c85804f291da8dc70",
              "IPY_MODEL_9d5417a0e68c4f2abe650fecc8e6efc4"
            ],
            "layout": "IPY_MODEL_d7e208a4e26f4f28b9075a1ca6478c53"
          }
        },
        "6d95362acfa24406bbea973e41e1edc3": {
          "model_module": "@jupyter-widgets/controls",
          "model_name": "HTMLModel",
          "model_module_version": "1.5.0",
          "state": {
            "_dom_classes": [],
            "_model_module": "@jupyter-widgets/controls",
            "_model_module_version": "1.5.0",
            "_model_name": "HTMLModel",
            "_view_count": null,
            "_view_module": "@jupyter-widgets/controls",
            "_view_module_version": "1.5.0",
            "_view_name": "HTMLView",
            "description": "",
            "description_tooltip": null,
            "layout": "IPY_MODEL_44d5b2a2648348868283bb37ced5b660",
            "placeholder": "​",
            "style": "IPY_MODEL_c5b8f2f655d449d5873afc40f8765c4c",
            "value": "Updating BM25 representation...: 100%"
          }
        },
        "458fdb2009864e6c85804f291da8dc70": {
          "model_module": "@jupyter-widgets/controls",
          "model_name": "FloatProgressModel",
          "model_module_version": "1.5.0",
          "state": {
            "_dom_classes": [],
            "_model_module": "@jupyter-widgets/controls",
            "_model_module_version": "1.5.0",
            "_model_name": "FloatProgressModel",
            "_view_count": null,
            "_view_module": "@jupyter-widgets/controls",
            "_view_module_version": "1.5.0",
            "_view_name": "ProgressView",
            "bar_style": "success",
            "description": "",
            "description_tooltip": null,
            "layout": "IPY_MODEL_b4487454e8794de59c723b16df91dfc5",
            "max": 29,
            "min": 0,
            "orientation": "horizontal",
            "style": "IPY_MODEL_f3c53fccbd824e4a872bd96dc578df54",
            "value": 29
          }
        },
        "9d5417a0e68c4f2abe650fecc8e6efc4": {
          "model_module": "@jupyter-widgets/controls",
          "model_name": "HTMLModel",
          "model_module_version": "1.5.0",
          "state": {
            "_dom_classes": [],
            "_model_module": "@jupyter-widgets/controls",
            "_model_module_version": "1.5.0",
            "_model_name": "HTMLModel",
            "_view_count": null,
            "_view_module": "@jupyter-widgets/controls",
            "_view_module_version": "1.5.0",
            "_view_name": "HTMLView",
            "description": "",
            "description_tooltip": null,
            "layout": "IPY_MODEL_ce6d88c875424efd817f41c1aa363fcc",
            "placeholder": "​",
            "style": "IPY_MODEL_2a3ad522f1d142169c82e309c75034d9",
            "value": " 29/29 [00:00&lt;00:00, 826.74 docs/s]"
          }
        },
        "d7e208a4e26f4f28b9075a1ca6478c53": {
          "model_module": "@jupyter-widgets/base",
          "model_name": "LayoutModel",
          "model_module_version": "1.2.0",
          "state": {
            "_model_module": "@jupyter-widgets/base",
            "_model_module_version": "1.2.0",
            "_model_name": "LayoutModel",
            "_view_count": null,
            "_view_module": "@jupyter-widgets/base",
            "_view_module_version": "1.2.0",
            "_view_name": "LayoutView",
            "align_content": null,
            "align_items": null,
            "align_self": null,
            "border": null,
            "bottom": null,
            "display": null,
            "flex": null,
            "flex_flow": null,
            "grid_area": null,
            "grid_auto_columns": null,
            "grid_auto_flow": null,
            "grid_auto_rows": null,
            "grid_column": null,
            "grid_gap": null,
            "grid_row": null,
            "grid_template_areas": null,
            "grid_template_columns": null,
            "grid_template_rows": null,
            "height": null,
            "justify_content": null,
            "justify_items": null,
            "left": null,
            "margin": null,
            "max_height": null,
            "max_width": null,
            "min_height": null,
            "min_width": null,
            "object_fit": null,
            "object_position": null,
            "order": null,
            "overflow": null,
            "overflow_x": null,
            "overflow_y": null,
            "padding": null,
            "right": null,
            "top": null,
            "visibility": null,
            "width": null
          }
        },
        "44d5b2a2648348868283bb37ced5b660": {
          "model_module": "@jupyter-widgets/base",
          "model_name": "LayoutModel",
          "model_module_version": "1.2.0",
          "state": {
            "_model_module": "@jupyter-widgets/base",
            "_model_module_version": "1.2.0",
            "_model_name": "LayoutModel",
            "_view_count": null,
            "_view_module": "@jupyter-widgets/base",
            "_view_module_version": "1.2.0",
            "_view_name": "LayoutView",
            "align_content": null,
            "align_items": null,
            "align_self": null,
            "border": null,
            "bottom": null,
            "display": null,
            "flex": null,
            "flex_flow": null,
            "grid_area": null,
            "grid_auto_columns": null,
            "grid_auto_flow": null,
            "grid_auto_rows": null,
            "grid_column": null,
            "grid_gap": null,
            "grid_row": null,
            "grid_template_areas": null,
            "grid_template_columns": null,
            "grid_template_rows": null,
            "height": null,
            "justify_content": null,
            "justify_items": null,
            "left": null,
            "margin": null,
            "max_height": null,
            "max_width": null,
            "min_height": null,
            "min_width": null,
            "object_fit": null,
            "object_position": null,
            "order": null,
            "overflow": null,
            "overflow_x": null,
            "overflow_y": null,
            "padding": null,
            "right": null,
            "top": null,
            "visibility": null,
            "width": null
          }
        },
        "c5b8f2f655d449d5873afc40f8765c4c": {
          "model_module": "@jupyter-widgets/controls",
          "model_name": "DescriptionStyleModel",
          "model_module_version": "1.5.0",
          "state": {
            "_model_module": "@jupyter-widgets/controls",
            "_model_module_version": "1.5.0",
            "_model_name": "DescriptionStyleModel",
            "_view_count": null,
            "_view_module": "@jupyter-widgets/base",
            "_view_module_version": "1.2.0",
            "_view_name": "StyleView",
            "description_width": ""
          }
        },
        "b4487454e8794de59c723b16df91dfc5": {
          "model_module": "@jupyter-widgets/base",
          "model_name": "LayoutModel",
          "model_module_version": "1.2.0",
          "state": {
            "_model_module": "@jupyter-widgets/base",
            "_model_module_version": "1.2.0",
            "_model_name": "LayoutModel",
            "_view_count": null,
            "_view_module": "@jupyter-widgets/base",
            "_view_module_version": "1.2.0",
            "_view_name": "LayoutView",
            "align_content": null,
            "align_items": null,
            "align_self": null,
            "border": null,
            "bottom": null,
            "display": null,
            "flex": null,
            "flex_flow": null,
            "grid_area": null,
            "grid_auto_columns": null,
            "grid_auto_flow": null,
            "grid_auto_rows": null,
            "grid_column": null,
            "grid_gap": null,
            "grid_row": null,
            "grid_template_areas": null,
            "grid_template_columns": null,
            "grid_template_rows": null,
            "height": null,
            "justify_content": null,
            "justify_items": null,
            "left": null,
            "margin": null,
            "max_height": null,
            "max_width": null,
            "min_height": null,
            "min_width": null,
            "object_fit": null,
            "object_position": null,
            "order": null,
            "overflow": null,
            "overflow_x": null,
            "overflow_y": null,
            "padding": null,
            "right": null,
            "top": null,
            "visibility": null,
            "width": null
          }
        },
        "f3c53fccbd824e4a872bd96dc578df54": {
          "model_module": "@jupyter-widgets/controls",
          "model_name": "ProgressStyleModel",
          "model_module_version": "1.5.0",
          "state": {
            "_model_module": "@jupyter-widgets/controls",
            "_model_module_version": "1.5.0",
            "_model_name": "ProgressStyleModel",
            "_view_count": null,
            "_view_module": "@jupyter-widgets/base",
            "_view_module_version": "1.2.0",
            "_view_name": "StyleView",
            "bar_color": null,
            "description_width": ""
          }
        },
        "ce6d88c875424efd817f41c1aa363fcc": {
          "model_module": "@jupyter-widgets/base",
          "model_name": "LayoutModel",
          "model_module_version": "1.2.0",
          "state": {
            "_model_module": "@jupyter-widgets/base",
            "_model_module_version": "1.2.0",
            "_model_name": "LayoutModel",
            "_view_count": null,
            "_view_module": "@jupyter-widgets/base",
            "_view_module_version": "1.2.0",
            "_view_name": "LayoutView",
            "align_content": null,
            "align_items": null,
            "align_self": null,
            "border": null,
            "bottom": null,
            "display": null,
            "flex": null,
            "flex_flow": null,
            "grid_area": null,
            "grid_auto_columns": null,
            "grid_auto_flow": null,
            "grid_auto_rows": null,
            "grid_column": null,
            "grid_gap": null,
            "grid_row": null,
            "grid_template_areas": null,
            "grid_template_columns": null,
            "grid_template_rows": null,
            "height": null,
            "justify_content": null,
            "justify_items": null,
            "left": null,
            "margin": null,
            "max_height": null,
            "max_width": null,
            "min_height": null,
            "min_width": null,
            "object_fit": null,
            "object_position": null,
            "order": null,
            "overflow": null,
            "overflow_x": null,
            "overflow_y": null,
            "padding": null,
            "right": null,
            "top": null,
            "visibility": null,
            "width": null
          }
        },
        "2a3ad522f1d142169c82e309c75034d9": {
          "model_module": "@jupyter-widgets/controls",
          "model_name": "DescriptionStyleModel",
          "model_module_version": "1.5.0",
          "state": {
            "_model_module": "@jupyter-widgets/controls",
            "_model_module_version": "1.5.0",
            "_model_name": "DescriptionStyleModel",
            "_view_count": null,
            "_view_module": "@jupyter-widgets/base",
            "_view_module_version": "1.2.0",
            "_view_name": "StyleView",
            "description_width": ""
          }
        },
        "6820615948754900a2e6bd6e65f2539c": {
          "model_module": "@jupyter-widgets/controls",
          "model_name": "HBoxModel",
          "model_module_version": "1.5.0",
          "state": {
            "_dom_classes": [],
            "_model_module": "@jupyter-widgets/controls",
            "_model_module_version": "1.5.0",
            "_model_name": "HBoxModel",
            "_view_count": null,
            "_view_module": "@jupyter-widgets/controls",
            "_view_module_version": "1.5.0",
            "_view_name": "HBoxView",
            "box_style": "",
            "children": [
              "IPY_MODEL_331285801fac47eaa6e3150e0f570185",
              "IPY_MODEL_1e6050cdb31647efa8a2750212e86b1e",
              "IPY_MODEL_7ada63ade42f4b84a92db45bac22d5e1"
            ],
            "layout": "IPY_MODEL_a61c8a27f18e40dc9321b77db0e26341"
          }
        },
        "331285801fac47eaa6e3150e0f570185": {
          "model_module": "@jupyter-widgets/controls",
          "model_name": "HTMLModel",
          "model_module_version": "1.5.0",
          "state": {
            "_dom_classes": [],
            "_model_module": "@jupyter-widgets/controls",
            "_model_module_version": "1.5.0",
            "_model_name": "HTMLModel",
            "_view_count": null,
            "_view_module": "@jupyter-widgets/controls",
            "_view_module_version": "1.5.0",
            "_view_name": "HTMLView",
            "description": "",
            "description_tooltip": null,
            "layout": "IPY_MODEL_304f8aa3c0a9460fb49644fa7cec0a04",
            "placeholder": "​",
            "style": "IPY_MODEL_4b2761a66d4c48559a66d5d083bc6f96",
            "value": "Updating BM25 representation...: 100%"
          }
        },
        "1e6050cdb31647efa8a2750212e86b1e": {
          "model_module": "@jupyter-widgets/controls",
          "model_name": "FloatProgressModel",
          "model_module_version": "1.5.0",
          "state": {
            "_dom_classes": [],
            "_model_module": "@jupyter-widgets/controls",
            "_model_module_version": "1.5.0",
            "_model_name": "FloatProgressModel",
            "_view_count": null,
            "_view_module": "@jupyter-widgets/controls",
            "_view_module_version": "1.5.0",
            "_view_name": "ProgressView",
            "bar_style": "success",
            "description": "",
            "description_tooltip": null,
            "layout": "IPY_MODEL_d79dcf42f1ce431796320b5df7e9d199",
            "max": 55,
            "min": 0,
            "orientation": "horizontal",
            "style": "IPY_MODEL_cca2047ef31145bc8bbda91bafeb37ee",
            "value": 55
          }
        },
        "7ada63ade42f4b84a92db45bac22d5e1": {
          "model_module": "@jupyter-widgets/controls",
          "model_name": "HTMLModel",
          "model_module_version": "1.5.0",
          "state": {
            "_dom_classes": [],
            "_model_module": "@jupyter-widgets/controls",
            "_model_module_version": "1.5.0",
            "_model_name": "HTMLModel",
            "_view_count": null,
            "_view_module": "@jupyter-widgets/controls",
            "_view_module_version": "1.5.0",
            "_view_name": "HTMLView",
            "description": "",
            "description_tooltip": null,
            "layout": "IPY_MODEL_b0eb10d15dea4c5d8781ab69e3d92afc",
            "placeholder": "​",
            "style": "IPY_MODEL_e9b17149535b46fd97f1f4b347e2777e",
            "value": " 55/55 [00:00&lt;00:00, 1895.15 docs/s]"
          }
        },
        "a61c8a27f18e40dc9321b77db0e26341": {
          "model_module": "@jupyter-widgets/base",
          "model_name": "LayoutModel",
          "model_module_version": "1.2.0",
          "state": {
            "_model_module": "@jupyter-widgets/base",
            "_model_module_version": "1.2.0",
            "_model_name": "LayoutModel",
            "_view_count": null,
            "_view_module": "@jupyter-widgets/base",
            "_view_module_version": "1.2.0",
            "_view_name": "LayoutView",
            "align_content": null,
            "align_items": null,
            "align_self": null,
            "border": null,
            "bottom": null,
            "display": null,
            "flex": null,
            "flex_flow": null,
            "grid_area": null,
            "grid_auto_columns": null,
            "grid_auto_flow": null,
            "grid_auto_rows": null,
            "grid_column": null,
            "grid_gap": null,
            "grid_row": null,
            "grid_template_areas": null,
            "grid_template_columns": null,
            "grid_template_rows": null,
            "height": null,
            "justify_content": null,
            "justify_items": null,
            "left": null,
            "margin": null,
            "max_height": null,
            "max_width": null,
            "min_height": null,
            "min_width": null,
            "object_fit": null,
            "object_position": null,
            "order": null,
            "overflow": null,
            "overflow_x": null,
            "overflow_y": null,
            "padding": null,
            "right": null,
            "top": null,
            "visibility": null,
            "width": null
          }
        },
        "304f8aa3c0a9460fb49644fa7cec0a04": {
          "model_module": "@jupyter-widgets/base",
          "model_name": "LayoutModel",
          "model_module_version": "1.2.0",
          "state": {
            "_model_module": "@jupyter-widgets/base",
            "_model_module_version": "1.2.0",
            "_model_name": "LayoutModel",
            "_view_count": null,
            "_view_module": "@jupyter-widgets/base",
            "_view_module_version": "1.2.0",
            "_view_name": "LayoutView",
            "align_content": null,
            "align_items": null,
            "align_self": null,
            "border": null,
            "bottom": null,
            "display": null,
            "flex": null,
            "flex_flow": null,
            "grid_area": null,
            "grid_auto_columns": null,
            "grid_auto_flow": null,
            "grid_auto_rows": null,
            "grid_column": null,
            "grid_gap": null,
            "grid_row": null,
            "grid_template_areas": null,
            "grid_template_columns": null,
            "grid_template_rows": null,
            "height": null,
            "justify_content": null,
            "justify_items": null,
            "left": null,
            "margin": null,
            "max_height": null,
            "max_width": null,
            "min_height": null,
            "min_width": null,
            "object_fit": null,
            "object_position": null,
            "order": null,
            "overflow": null,
            "overflow_x": null,
            "overflow_y": null,
            "padding": null,
            "right": null,
            "top": null,
            "visibility": null,
            "width": null
          }
        },
        "4b2761a66d4c48559a66d5d083bc6f96": {
          "model_module": "@jupyter-widgets/controls",
          "model_name": "DescriptionStyleModel",
          "model_module_version": "1.5.0",
          "state": {
            "_model_module": "@jupyter-widgets/controls",
            "_model_module_version": "1.5.0",
            "_model_name": "DescriptionStyleModel",
            "_view_count": null,
            "_view_module": "@jupyter-widgets/base",
            "_view_module_version": "1.2.0",
            "_view_name": "StyleView",
            "description_width": ""
          }
        },
        "d79dcf42f1ce431796320b5df7e9d199": {
          "model_module": "@jupyter-widgets/base",
          "model_name": "LayoutModel",
          "model_module_version": "1.2.0",
          "state": {
            "_model_module": "@jupyter-widgets/base",
            "_model_module_version": "1.2.0",
            "_model_name": "LayoutModel",
            "_view_count": null,
            "_view_module": "@jupyter-widgets/base",
            "_view_module_version": "1.2.0",
            "_view_name": "LayoutView",
            "align_content": null,
            "align_items": null,
            "align_self": null,
            "border": null,
            "bottom": null,
            "display": null,
            "flex": null,
            "flex_flow": null,
            "grid_area": null,
            "grid_auto_columns": null,
            "grid_auto_flow": null,
            "grid_auto_rows": null,
            "grid_column": null,
            "grid_gap": null,
            "grid_row": null,
            "grid_template_areas": null,
            "grid_template_columns": null,
            "grid_template_rows": null,
            "height": null,
            "justify_content": null,
            "justify_items": null,
            "left": null,
            "margin": null,
            "max_height": null,
            "max_width": null,
            "min_height": null,
            "min_width": null,
            "object_fit": null,
            "object_position": null,
            "order": null,
            "overflow": null,
            "overflow_x": null,
            "overflow_y": null,
            "padding": null,
            "right": null,
            "top": null,
            "visibility": null,
            "width": null
          }
        },
        "cca2047ef31145bc8bbda91bafeb37ee": {
          "model_module": "@jupyter-widgets/controls",
          "model_name": "ProgressStyleModel",
          "model_module_version": "1.5.0",
          "state": {
            "_model_module": "@jupyter-widgets/controls",
            "_model_module_version": "1.5.0",
            "_model_name": "ProgressStyleModel",
            "_view_count": null,
            "_view_module": "@jupyter-widgets/base",
            "_view_module_version": "1.2.0",
            "_view_name": "StyleView",
            "bar_color": null,
            "description_width": ""
          }
        },
        "b0eb10d15dea4c5d8781ab69e3d92afc": {
          "model_module": "@jupyter-widgets/base",
          "model_name": "LayoutModel",
          "model_module_version": "1.2.0",
          "state": {
            "_model_module": "@jupyter-widgets/base",
            "_model_module_version": "1.2.0",
            "_model_name": "LayoutModel",
            "_view_count": null,
            "_view_module": "@jupyter-widgets/base",
            "_view_module_version": "1.2.0",
            "_view_name": "LayoutView",
            "align_content": null,
            "align_items": null,
            "align_self": null,
            "border": null,
            "bottom": null,
            "display": null,
            "flex": null,
            "flex_flow": null,
            "grid_area": null,
            "grid_auto_columns": null,
            "grid_auto_flow": null,
            "grid_auto_rows": null,
            "grid_column": null,
            "grid_gap": null,
            "grid_row": null,
            "grid_template_areas": null,
            "grid_template_columns": null,
            "grid_template_rows": null,
            "height": null,
            "justify_content": null,
            "justify_items": null,
            "left": null,
            "margin": null,
            "max_height": null,
            "max_width": null,
            "min_height": null,
            "min_width": null,
            "object_fit": null,
            "object_position": null,
            "order": null,
            "overflow": null,
            "overflow_x": null,
            "overflow_y": null,
            "padding": null,
            "right": null,
            "top": null,
            "visibility": null,
            "width": null
          }
        },
        "e9b17149535b46fd97f1f4b347e2777e": {
          "model_module": "@jupyter-widgets/controls",
          "model_name": "DescriptionStyleModel",
          "model_module_version": "1.5.0",
          "state": {
            "_model_module": "@jupyter-widgets/controls",
            "_model_module_version": "1.5.0",
            "_model_name": "DescriptionStyleModel",
            "_view_count": null,
            "_view_module": "@jupyter-widgets/base",
            "_view_module_version": "1.2.0",
            "_view_name": "StyleView",
            "description_width": ""
          }
        },
        "b171ba26b1164d208cbf6996528f90fb": {
          "model_module": "@jupyter-widgets/controls",
          "model_name": "HBoxModel",
          "model_module_version": "1.5.0",
          "state": {
            "_dom_classes": [],
            "_model_module": "@jupyter-widgets/controls",
            "_model_module_version": "1.5.0",
            "_model_name": "HBoxModel",
            "_view_count": null,
            "_view_module": "@jupyter-widgets/controls",
            "_view_module_version": "1.5.0",
            "_view_name": "HBoxView",
            "box_style": "",
            "children": [
              "IPY_MODEL_c071b8116654457f9e173a091ee8dc8e",
              "IPY_MODEL_b6b0fc126046439389f9ff81e6714ca5",
              "IPY_MODEL_f33b4dba14454e369fefa2e09a785549"
            ],
            "layout": "IPY_MODEL_b2e48b90602941289bbc8cb0c43e6860"
          }
        },
        "c071b8116654457f9e173a091ee8dc8e": {
          "model_module": "@jupyter-widgets/controls",
          "model_name": "HTMLModel",
          "model_module_version": "1.5.0",
          "state": {
            "_dom_classes": [],
            "_model_module": "@jupyter-widgets/controls",
            "_model_module_version": "1.5.0",
            "_model_name": "HTMLModel",
            "_view_count": null,
            "_view_module": "@jupyter-widgets/controls",
            "_view_module_version": "1.5.0",
            "_view_name": "HTMLView",
            "description": "",
            "description_tooltip": null,
            "layout": "IPY_MODEL_cc7f8ccb4cc64e22b7a56a7f6983eb99",
            "placeholder": "​",
            "style": "IPY_MODEL_aa991166fa154898a19e6941a2985658",
            "value": "Updating BM25 representation...: 100%"
          }
        },
        "b6b0fc126046439389f9ff81e6714ca5": {
          "model_module": "@jupyter-widgets/controls",
          "model_name": "FloatProgressModel",
          "model_module_version": "1.5.0",
          "state": {
            "_dom_classes": [],
            "_model_module": "@jupyter-widgets/controls",
            "_model_module_version": "1.5.0",
            "_model_name": "FloatProgressModel",
            "_view_count": null,
            "_view_module": "@jupyter-widgets/controls",
            "_view_module_version": "1.5.0",
            "_view_name": "ProgressView",
            "bar_style": "success",
            "description": "",
            "description_tooltip": null,
            "layout": "IPY_MODEL_17795d9f980746fda8e36e9f066a985c",
            "max": 71,
            "min": 0,
            "orientation": "horizontal",
            "style": "IPY_MODEL_7c66fa3eca3249c9ad5758f266b1cfbd",
            "value": 71
          }
        },
        "f33b4dba14454e369fefa2e09a785549": {
          "model_module": "@jupyter-widgets/controls",
          "model_name": "HTMLModel",
          "model_module_version": "1.5.0",
          "state": {
            "_dom_classes": [],
            "_model_module": "@jupyter-widgets/controls",
            "_model_module_version": "1.5.0",
            "_model_name": "HTMLModel",
            "_view_count": null,
            "_view_module": "@jupyter-widgets/controls",
            "_view_module_version": "1.5.0",
            "_view_name": "HTMLView",
            "description": "",
            "description_tooltip": null,
            "layout": "IPY_MODEL_038bd0bb2877463f9e52b655c72ec5b2",
            "placeholder": "​",
            "style": "IPY_MODEL_219f17fc64e242e8bb809ee0d525f990",
            "value": " 71/71 [00:00&lt;00:00, 2681.37 docs/s]"
          }
        },
        "b2e48b90602941289bbc8cb0c43e6860": {
          "model_module": "@jupyter-widgets/base",
          "model_name": "LayoutModel",
          "model_module_version": "1.2.0",
          "state": {
            "_model_module": "@jupyter-widgets/base",
            "_model_module_version": "1.2.0",
            "_model_name": "LayoutModel",
            "_view_count": null,
            "_view_module": "@jupyter-widgets/base",
            "_view_module_version": "1.2.0",
            "_view_name": "LayoutView",
            "align_content": null,
            "align_items": null,
            "align_self": null,
            "border": null,
            "bottom": null,
            "display": null,
            "flex": null,
            "flex_flow": null,
            "grid_area": null,
            "grid_auto_columns": null,
            "grid_auto_flow": null,
            "grid_auto_rows": null,
            "grid_column": null,
            "grid_gap": null,
            "grid_row": null,
            "grid_template_areas": null,
            "grid_template_columns": null,
            "grid_template_rows": null,
            "height": null,
            "justify_content": null,
            "justify_items": null,
            "left": null,
            "margin": null,
            "max_height": null,
            "max_width": null,
            "min_height": null,
            "min_width": null,
            "object_fit": null,
            "object_position": null,
            "order": null,
            "overflow": null,
            "overflow_x": null,
            "overflow_y": null,
            "padding": null,
            "right": null,
            "top": null,
            "visibility": null,
            "width": null
          }
        },
        "cc7f8ccb4cc64e22b7a56a7f6983eb99": {
          "model_module": "@jupyter-widgets/base",
          "model_name": "LayoutModel",
          "model_module_version": "1.2.0",
          "state": {
            "_model_module": "@jupyter-widgets/base",
            "_model_module_version": "1.2.0",
            "_model_name": "LayoutModel",
            "_view_count": null,
            "_view_module": "@jupyter-widgets/base",
            "_view_module_version": "1.2.0",
            "_view_name": "LayoutView",
            "align_content": null,
            "align_items": null,
            "align_self": null,
            "border": null,
            "bottom": null,
            "display": null,
            "flex": null,
            "flex_flow": null,
            "grid_area": null,
            "grid_auto_columns": null,
            "grid_auto_flow": null,
            "grid_auto_rows": null,
            "grid_column": null,
            "grid_gap": null,
            "grid_row": null,
            "grid_template_areas": null,
            "grid_template_columns": null,
            "grid_template_rows": null,
            "height": null,
            "justify_content": null,
            "justify_items": null,
            "left": null,
            "margin": null,
            "max_height": null,
            "max_width": null,
            "min_height": null,
            "min_width": null,
            "object_fit": null,
            "object_position": null,
            "order": null,
            "overflow": null,
            "overflow_x": null,
            "overflow_y": null,
            "padding": null,
            "right": null,
            "top": null,
            "visibility": null,
            "width": null
          }
        },
        "aa991166fa154898a19e6941a2985658": {
          "model_module": "@jupyter-widgets/controls",
          "model_name": "DescriptionStyleModel",
          "model_module_version": "1.5.0",
          "state": {
            "_model_module": "@jupyter-widgets/controls",
            "_model_module_version": "1.5.0",
            "_model_name": "DescriptionStyleModel",
            "_view_count": null,
            "_view_module": "@jupyter-widgets/base",
            "_view_module_version": "1.2.0",
            "_view_name": "StyleView",
            "description_width": ""
          }
        },
        "17795d9f980746fda8e36e9f066a985c": {
          "model_module": "@jupyter-widgets/base",
          "model_name": "LayoutModel",
          "model_module_version": "1.2.0",
          "state": {
            "_model_module": "@jupyter-widgets/base",
            "_model_module_version": "1.2.0",
            "_model_name": "LayoutModel",
            "_view_count": null,
            "_view_module": "@jupyter-widgets/base",
            "_view_module_version": "1.2.0",
            "_view_name": "LayoutView",
            "align_content": null,
            "align_items": null,
            "align_self": null,
            "border": null,
            "bottom": null,
            "display": null,
            "flex": null,
            "flex_flow": null,
            "grid_area": null,
            "grid_auto_columns": null,
            "grid_auto_flow": null,
            "grid_auto_rows": null,
            "grid_column": null,
            "grid_gap": null,
            "grid_row": null,
            "grid_template_areas": null,
            "grid_template_columns": null,
            "grid_template_rows": null,
            "height": null,
            "justify_content": null,
            "justify_items": null,
            "left": null,
            "margin": null,
            "max_height": null,
            "max_width": null,
            "min_height": null,
            "min_width": null,
            "object_fit": null,
            "object_position": null,
            "order": null,
            "overflow": null,
            "overflow_x": null,
            "overflow_y": null,
            "padding": null,
            "right": null,
            "top": null,
            "visibility": null,
            "width": null
          }
        },
        "7c66fa3eca3249c9ad5758f266b1cfbd": {
          "model_module": "@jupyter-widgets/controls",
          "model_name": "ProgressStyleModel",
          "model_module_version": "1.5.0",
          "state": {
            "_model_module": "@jupyter-widgets/controls",
            "_model_module_version": "1.5.0",
            "_model_name": "ProgressStyleModel",
            "_view_count": null,
            "_view_module": "@jupyter-widgets/base",
            "_view_module_version": "1.2.0",
            "_view_name": "StyleView",
            "bar_color": null,
            "description_width": ""
          }
        },
        "038bd0bb2877463f9e52b655c72ec5b2": {
          "model_module": "@jupyter-widgets/base",
          "model_name": "LayoutModel",
          "model_module_version": "1.2.0",
          "state": {
            "_model_module": "@jupyter-widgets/base",
            "_model_module_version": "1.2.0",
            "_model_name": "LayoutModel",
            "_view_count": null,
            "_view_module": "@jupyter-widgets/base",
            "_view_module_version": "1.2.0",
            "_view_name": "LayoutView",
            "align_content": null,
            "align_items": null,
            "align_self": null,
            "border": null,
            "bottom": null,
            "display": null,
            "flex": null,
            "flex_flow": null,
            "grid_area": null,
            "grid_auto_columns": null,
            "grid_auto_flow": null,
            "grid_auto_rows": null,
            "grid_column": null,
            "grid_gap": null,
            "grid_row": null,
            "grid_template_areas": null,
            "grid_template_columns": null,
            "grid_template_rows": null,
            "height": null,
            "justify_content": null,
            "justify_items": null,
            "left": null,
            "margin": null,
            "max_height": null,
            "max_width": null,
            "min_height": null,
            "min_width": null,
            "object_fit": null,
            "object_position": null,
            "order": null,
            "overflow": null,
            "overflow_x": null,
            "overflow_y": null,
            "padding": null,
            "right": null,
            "top": null,
            "visibility": null,
            "width": null
          }
        },
        "219f17fc64e242e8bb809ee0d525f990": {
          "model_module": "@jupyter-widgets/controls",
          "model_name": "DescriptionStyleModel",
          "model_module_version": "1.5.0",
          "state": {
            "_model_module": "@jupyter-widgets/controls",
            "_model_module_version": "1.5.0",
            "_model_name": "DescriptionStyleModel",
            "_view_count": null,
            "_view_module": "@jupyter-widgets/base",
            "_view_module_version": "1.2.0",
            "_view_name": "StyleView",
            "description_width": ""
          }
        },
        "0d934c2f82ed44d19326bd82d2b588a5": {
          "model_module": "@jupyter-widgets/controls",
          "model_name": "HBoxModel",
          "model_module_version": "1.5.0",
          "state": {
            "_dom_classes": [],
            "_model_module": "@jupyter-widgets/controls",
            "_model_module_version": "1.5.0",
            "_model_name": "HBoxModel",
            "_view_count": null,
            "_view_module": "@jupyter-widgets/controls",
            "_view_module_version": "1.5.0",
            "_view_name": "HBoxView",
            "box_style": "",
            "children": [
              "IPY_MODEL_fd0a87bb1e224b76adb59b69ec57d21a",
              "IPY_MODEL_e15b12baa3904519a1ef00a803bf57d7",
              "IPY_MODEL_97851533c03045a3bc8ea99e1b41bcf3"
            ],
            "layout": "IPY_MODEL_d6fa1206bebf43b58f9a48c6cb89398a"
          }
        },
        "fd0a87bb1e224b76adb59b69ec57d21a": {
          "model_module": "@jupyter-widgets/controls",
          "model_name": "HTMLModel",
          "model_module_version": "1.5.0",
          "state": {
            "_dom_classes": [],
            "_model_module": "@jupyter-widgets/controls",
            "_model_module_version": "1.5.0",
            "_model_name": "HTMLModel",
            "_view_count": null,
            "_view_module": "@jupyter-widgets/controls",
            "_view_module_version": "1.5.0",
            "_view_name": "HTMLView",
            "description": "",
            "description_tooltip": null,
            "layout": "IPY_MODEL_8b0f76f659a54dac8a7be93b0ad132fa",
            "placeholder": "​",
            "style": "IPY_MODEL_f7c2f34d8dd548ae9424a741377ae2a3",
            "value": "Updating BM25 representation...: 100%"
          }
        },
        "e15b12baa3904519a1ef00a803bf57d7": {
          "model_module": "@jupyter-widgets/controls",
          "model_name": "FloatProgressModel",
          "model_module_version": "1.5.0",
          "state": {
            "_dom_classes": [],
            "_model_module": "@jupyter-widgets/controls",
            "_model_module_version": "1.5.0",
            "_model_name": "FloatProgressModel",
            "_view_count": null,
            "_view_module": "@jupyter-widgets/controls",
            "_view_module_version": "1.5.0",
            "_view_name": "ProgressView",
            "bar_style": "success",
            "description": "",
            "description_tooltip": null,
            "layout": "IPY_MODEL_3d18016161f741809e5fc72c016f45b6",
            "max": 375,
            "min": 0,
            "orientation": "horizontal",
            "style": "IPY_MODEL_652957498fcf46d6ae9cad03c9adffe5",
            "value": 375
          }
        },
        "97851533c03045a3bc8ea99e1b41bcf3": {
          "model_module": "@jupyter-widgets/controls",
          "model_name": "HTMLModel",
          "model_module_version": "1.5.0",
          "state": {
            "_dom_classes": [],
            "_model_module": "@jupyter-widgets/controls",
            "_model_module_version": "1.5.0",
            "_model_name": "HTMLModel",
            "_view_count": null,
            "_view_module": "@jupyter-widgets/controls",
            "_view_module_version": "1.5.0",
            "_view_name": "HTMLView",
            "description": "",
            "description_tooltip": null,
            "layout": "IPY_MODEL_c6991f346e5d4cbfa2333934b008b03c",
            "placeholder": "​",
            "style": "IPY_MODEL_00a17b6604ff4d89a3826197538a4e47",
            "value": " 375/375 [00:00&lt;00:00, 7891.63 docs/s]"
          }
        },
        "d6fa1206bebf43b58f9a48c6cb89398a": {
          "model_module": "@jupyter-widgets/base",
          "model_name": "LayoutModel",
          "model_module_version": "1.2.0",
          "state": {
            "_model_module": "@jupyter-widgets/base",
            "_model_module_version": "1.2.0",
            "_model_name": "LayoutModel",
            "_view_count": null,
            "_view_module": "@jupyter-widgets/base",
            "_view_module_version": "1.2.0",
            "_view_name": "LayoutView",
            "align_content": null,
            "align_items": null,
            "align_self": null,
            "border": null,
            "bottom": null,
            "display": null,
            "flex": null,
            "flex_flow": null,
            "grid_area": null,
            "grid_auto_columns": null,
            "grid_auto_flow": null,
            "grid_auto_rows": null,
            "grid_column": null,
            "grid_gap": null,
            "grid_row": null,
            "grid_template_areas": null,
            "grid_template_columns": null,
            "grid_template_rows": null,
            "height": null,
            "justify_content": null,
            "justify_items": null,
            "left": null,
            "margin": null,
            "max_height": null,
            "max_width": null,
            "min_height": null,
            "min_width": null,
            "object_fit": null,
            "object_position": null,
            "order": null,
            "overflow": null,
            "overflow_x": null,
            "overflow_y": null,
            "padding": null,
            "right": null,
            "top": null,
            "visibility": null,
            "width": null
          }
        },
        "8b0f76f659a54dac8a7be93b0ad132fa": {
          "model_module": "@jupyter-widgets/base",
          "model_name": "LayoutModel",
          "model_module_version": "1.2.0",
          "state": {
            "_model_module": "@jupyter-widgets/base",
            "_model_module_version": "1.2.0",
            "_model_name": "LayoutModel",
            "_view_count": null,
            "_view_module": "@jupyter-widgets/base",
            "_view_module_version": "1.2.0",
            "_view_name": "LayoutView",
            "align_content": null,
            "align_items": null,
            "align_self": null,
            "border": null,
            "bottom": null,
            "display": null,
            "flex": null,
            "flex_flow": null,
            "grid_area": null,
            "grid_auto_columns": null,
            "grid_auto_flow": null,
            "grid_auto_rows": null,
            "grid_column": null,
            "grid_gap": null,
            "grid_row": null,
            "grid_template_areas": null,
            "grid_template_columns": null,
            "grid_template_rows": null,
            "height": null,
            "justify_content": null,
            "justify_items": null,
            "left": null,
            "margin": null,
            "max_height": null,
            "max_width": null,
            "min_height": null,
            "min_width": null,
            "object_fit": null,
            "object_position": null,
            "order": null,
            "overflow": null,
            "overflow_x": null,
            "overflow_y": null,
            "padding": null,
            "right": null,
            "top": null,
            "visibility": null,
            "width": null
          }
        },
        "f7c2f34d8dd548ae9424a741377ae2a3": {
          "model_module": "@jupyter-widgets/controls",
          "model_name": "DescriptionStyleModel",
          "model_module_version": "1.5.0",
          "state": {
            "_model_module": "@jupyter-widgets/controls",
            "_model_module_version": "1.5.0",
            "_model_name": "DescriptionStyleModel",
            "_view_count": null,
            "_view_module": "@jupyter-widgets/base",
            "_view_module_version": "1.2.0",
            "_view_name": "StyleView",
            "description_width": ""
          }
        },
        "3d18016161f741809e5fc72c016f45b6": {
          "model_module": "@jupyter-widgets/base",
          "model_name": "LayoutModel",
          "model_module_version": "1.2.0",
          "state": {
            "_model_module": "@jupyter-widgets/base",
            "_model_module_version": "1.2.0",
            "_model_name": "LayoutModel",
            "_view_count": null,
            "_view_module": "@jupyter-widgets/base",
            "_view_module_version": "1.2.0",
            "_view_name": "LayoutView",
            "align_content": null,
            "align_items": null,
            "align_self": null,
            "border": null,
            "bottom": null,
            "display": null,
            "flex": null,
            "flex_flow": null,
            "grid_area": null,
            "grid_auto_columns": null,
            "grid_auto_flow": null,
            "grid_auto_rows": null,
            "grid_column": null,
            "grid_gap": null,
            "grid_row": null,
            "grid_template_areas": null,
            "grid_template_columns": null,
            "grid_template_rows": null,
            "height": null,
            "justify_content": null,
            "justify_items": null,
            "left": null,
            "margin": null,
            "max_height": null,
            "max_width": null,
            "min_height": null,
            "min_width": null,
            "object_fit": null,
            "object_position": null,
            "order": null,
            "overflow": null,
            "overflow_x": null,
            "overflow_y": null,
            "padding": null,
            "right": null,
            "top": null,
            "visibility": null,
            "width": null
          }
        },
        "652957498fcf46d6ae9cad03c9adffe5": {
          "model_module": "@jupyter-widgets/controls",
          "model_name": "ProgressStyleModel",
          "model_module_version": "1.5.0",
          "state": {
            "_model_module": "@jupyter-widgets/controls",
            "_model_module_version": "1.5.0",
            "_model_name": "ProgressStyleModel",
            "_view_count": null,
            "_view_module": "@jupyter-widgets/base",
            "_view_module_version": "1.2.0",
            "_view_name": "StyleView",
            "bar_color": null,
            "description_width": ""
          }
        },
        "c6991f346e5d4cbfa2333934b008b03c": {
          "model_module": "@jupyter-widgets/base",
          "model_name": "LayoutModel",
          "model_module_version": "1.2.0",
          "state": {
            "_model_module": "@jupyter-widgets/base",
            "_model_module_version": "1.2.0",
            "_model_name": "LayoutModel",
            "_view_count": null,
            "_view_module": "@jupyter-widgets/base",
            "_view_module_version": "1.2.0",
            "_view_name": "LayoutView",
            "align_content": null,
            "align_items": null,
            "align_self": null,
            "border": null,
            "bottom": null,
            "display": null,
            "flex": null,
            "flex_flow": null,
            "grid_area": null,
            "grid_auto_columns": null,
            "grid_auto_flow": null,
            "grid_auto_rows": null,
            "grid_column": null,
            "grid_gap": null,
            "grid_row": null,
            "grid_template_areas": null,
            "grid_template_columns": null,
            "grid_template_rows": null,
            "height": null,
            "justify_content": null,
            "justify_items": null,
            "left": null,
            "margin": null,
            "max_height": null,
            "max_width": null,
            "min_height": null,
            "min_width": null,
            "object_fit": null,
            "object_position": null,
            "order": null,
            "overflow": null,
            "overflow_x": null,
            "overflow_y": null,
            "padding": null,
            "right": null,
            "top": null,
            "visibility": null,
            "width": null
          }
        },
        "00a17b6604ff4d89a3826197538a4e47": {
          "model_module": "@jupyter-widgets/controls",
          "model_name": "DescriptionStyleModel",
          "model_module_version": "1.5.0",
          "state": {
            "_model_module": "@jupyter-widgets/controls",
            "_model_module_version": "1.5.0",
            "_model_name": "DescriptionStyleModel",
            "_view_count": null,
            "_view_module": "@jupyter-widgets/base",
            "_view_module_version": "1.2.0",
            "_view_name": "StyleView",
            "description_width": ""
          }
        },
        "261d4b1059304c29bd5c5cdda11856a1": {
          "model_module": "@jupyter-widgets/controls",
          "model_name": "HBoxModel",
          "model_module_version": "1.5.0",
          "state": {
            "_dom_classes": [],
            "_model_module": "@jupyter-widgets/controls",
            "_model_module_version": "1.5.0",
            "_model_name": "HBoxModel",
            "_view_count": null,
            "_view_module": "@jupyter-widgets/controls",
            "_view_module_version": "1.5.0",
            "_view_name": "HBoxView",
            "box_style": "",
            "children": [
              "IPY_MODEL_03c6d959e58e44f58f08d369b5923773",
              "IPY_MODEL_d451be8f9e2148bd9805cb7ceeecbe07",
              "IPY_MODEL_72a998b38bbd42d69a7055db4383594e"
            ],
            "layout": "IPY_MODEL_aeaa7e35b2664702b02a53dd21d10fe3"
          }
        },
        "03c6d959e58e44f58f08d369b5923773": {
          "model_module": "@jupyter-widgets/controls",
          "model_name": "HTMLModel",
          "model_module_version": "1.5.0",
          "state": {
            "_dom_classes": [],
            "_model_module": "@jupyter-widgets/controls",
            "_model_module_version": "1.5.0",
            "_model_name": "HTMLModel",
            "_view_count": null,
            "_view_module": "@jupyter-widgets/controls",
            "_view_module_version": "1.5.0",
            "_view_name": "HTMLView",
            "description": "",
            "description_tooltip": null,
            "layout": "IPY_MODEL_facbe3cccda644d897e6835034e6823f",
            "placeholder": "​",
            "style": "IPY_MODEL_ff4236d47b7e4076825525f363da6f26",
            "value": "Updating BM25 representation...: 100%"
          }
        },
        "d451be8f9e2148bd9805cb7ceeecbe07": {
          "model_module": "@jupyter-widgets/controls",
          "model_name": "FloatProgressModel",
          "model_module_version": "1.5.0",
          "state": {
            "_dom_classes": [],
            "_model_module": "@jupyter-widgets/controls",
            "_model_module_version": "1.5.0",
            "_model_name": "FloatProgressModel",
            "_view_count": null,
            "_view_module": "@jupyter-widgets/controls",
            "_view_module_version": "1.5.0",
            "_view_name": "ProgressView",
            "bar_style": "success",
            "description": "",
            "description_tooltip": null,
            "layout": "IPY_MODEL_36a7e9667a7f465787623bb447472bcd",
            "max": 385,
            "min": 0,
            "orientation": "horizontal",
            "style": "IPY_MODEL_c6a060850efc4ccb8302016026e714a6",
            "value": 385
          }
        },
        "72a998b38bbd42d69a7055db4383594e": {
          "model_module": "@jupyter-widgets/controls",
          "model_name": "HTMLModel",
          "model_module_version": "1.5.0",
          "state": {
            "_dom_classes": [],
            "_model_module": "@jupyter-widgets/controls",
            "_model_module_version": "1.5.0",
            "_model_name": "HTMLModel",
            "_view_count": null,
            "_view_module": "@jupyter-widgets/controls",
            "_view_module_version": "1.5.0",
            "_view_name": "HTMLView",
            "description": "",
            "description_tooltip": null,
            "layout": "IPY_MODEL_6ddc26c32da34ac984a7fd35838a71ed",
            "placeholder": "​",
            "style": "IPY_MODEL_084dc779c19d41b199025d36f60809e5",
            "value": " 385/385 [00:00&lt;00:00, 6612.64 docs/s]"
          }
        },
        "aeaa7e35b2664702b02a53dd21d10fe3": {
          "model_module": "@jupyter-widgets/base",
          "model_name": "LayoutModel",
          "model_module_version": "1.2.0",
          "state": {
            "_model_module": "@jupyter-widgets/base",
            "_model_module_version": "1.2.0",
            "_model_name": "LayoutModel",
            "_view_count": null,
            "_view_module": "@jupyter-widgets/base",
            "_view_module_version": "1.2.0",
            "_view_name": "LayoutView",
            "align_content": null,
            "align_items": null,
            "align_self": null,
            "border": null,
            "bottom": null,
            "display": null,
            "flex": null,
            "flex_flow": null,
            "grid_area": null,
            "grid_auto_columns": null,
            "grid_auto_flow": null,
            "grid_auto_rows": null,
            "grid_column": null,
            "grid_gap": null,
            "grid_row": null,
            "grid_template_areas": null,
            "grid_template_columns": null,
            "grid_template_rows": null,
            "height": null,
            "justify_content": null,
            "justify_items": null,
            "left": null,
            "margin": null,
            "max_height": null,
            "max_width": null,
            "min_height": null,
            "min_width": null,
            "object_fit": null,
            "object_position": null,
            "order": null,
            "overflow": null,
            "overflow_x": null,
            "overflow_y": null,
            "padding": null,
            "right": null,
            "top": null,
            "visibility": null,
            "width": null
          }
        },
        "facbe3cccda644d897e6835034e6823f": {
          "model_module": "@jupyter-widgets/base",
          "model_name": "LayoutModel",
          "model_module_version": "1.2.0",
          "state": {
            "_model_module": "@jupyter-widgets/base",
            "_model_module_version": "1.2.0",
            "_model_name": "LayoutModel",
            "_view_count": null,
            "_view_module": "@jupyter-widgets/base",
            "_view_module_version": "1.2.0",
            "_view_name": "LayoutView",
            "align_content": null,
            "align_items": null,
            "align_self": null,
            "border": null,
            "bottom": null,
            "display": null,
            "flex": null,
            "flex_flow": null,
            "grid_area": null,
            "grid_auto_columns": null,
            "grid_auto_flow": null,
            "grid_auto_rows": null,
            "grid_column": null,
            "grid_gap": null,
            "grid_row": null,
            "grid_template_areas": null,
            "grid_template_columns": null,
            "grid_template_rows": null,
            "height": null,
            "justify_content": null,
            "justify_items": null,
            "left": null,
            "margin": null,
            "max_height": null,
            "max_width": null,
            "min_height": null,
            "min_width": null,
            "object_fit": null,
            "object_position": null,
            "order": null,
            "overflow": null,
            "overflow_x": null,
            "overflow_y": null,
            "padding": null,
            "right": null,
            "top": null,
            "visibility": null,
            "width": null
          }
        },
        "ff4236d47b7e4076825525f363da6f26": {
          "model_module": "@jupyter-widgets/controls",
          "model_name": "DescriptionStyleModel",
          "model_module_version": "1.5.0",
          "state": {
            "_model_module": "@jupyter-widgets/controls",
            "_model_module_version": "1.5.0",
            "_model_name": "DescriptionStyleModel",
            "_view_count": null,
            "_view_module": "@jupyter-widgets/base",
            "_view_module_version": "1.2.0",
            "_view_name": "StyleView",
            "description_width": ""
          }
        },
        "36a7e9667a7f465787623bb447472bcd": {
          "model_module": "@jupyter-widgets/base",
          "model_name": "LayoutModel",
          "model_module_version": "1.2.0",
          "state": {
            "_model_module": "@jupyter-widgets/base",
            "_model_module_version": "1.2.0",
            "_model_name": "LayoutModel",
            "_view_count": null,
            "_view_module": "@jupyter-widgets/base",
            "_view_module_version": "1.2.0",
            "_view_name": "LayoutView",
            "align_content": null,
            "align_items": null,
            "align_self": null,
            "border": null,
            "bottom": null,
            "display": null,
            "flex": null,
            "flex_flow": null,
            "grid_area": null,
            "grid_auto_columns": null,
            "grid_auto_flow": null,
            "grid_auto_rows": null,
            "grid_column": null,
            "grid_gap": null,
            "grid_row": null,
            "grid_template_areas": null,
            "grid_template_columns": null,
            "grid_template_rows": null,
            "height": null,
            "justify_content": null,
            "justify_items": null,
            "left": null,
            "margin": null,
            "max_height": null,
            "max_width": null,
            "min_height": null,
            "min_width": null,
            "object_fit": null,
            "object_position": null,
            "order": null,
            "overflow": null,
            "overflow_x": null,
            "overflow_y": null,
            "padding": null,
            "right": null,
            "top": null,
            "visibility": null,
            "width": null
          }
        },
        "c6a060850efc4ccb8302016026e714a6": {
          "model_module": "@jupyter-widgets/controls",
          "model_name": "ProgressStyleModel",
          "model_module_version": "1.5.0",
          "state": {
            "_model_module": "@jupyter-widgets/controls",
            "_model_module_version": "1.5.0",
            "_model_name": "ProgressStyleModel",
            "_view_count": null,
            "_view_module": "@jupyter-widgets/base",
            "_view_module_version": "1.2.0",
            "_view_name": "StyleView",
            "bar_color": null,
            "description_width": ""
          }
        },
        "6ddc26c32da34ac984a7fd35838a71ed": {
          "model_module": "@jupyter-widgets/base",
          "model_name": "LayoutModel",
          "model_module_version": "1.2.0",
          "state": {
            "_model_module": "@jupyter-widgets/base",
            "_model_module_version": "1.2.0",
            "_model_name": "LayoutModel",
            "_view_count": null,
            "_view_module": "@jupyter-widgets/base",
            "_view_module_version": "1.2.0",
            "_view_name": "LayoutView",
            "align_content": null,
            "align_items": null,
            "align_self": null,
            "border": null,
            "bottom": null,
            "display": null,
            "flex": null,
            "flex_flow": null,
            "grid_area": null,
            "grid_auto_columns": null,
            "grid_auto_flow": null,
            "grid_auto_rows": null,
            "grid_column": null,
            "grid_gap": null,
            "grid_row": null,
            "grid_template_areas": null,
            "grid_template_columns": null,
            "grid_template_rows": null,
            "height": null,
            "justify_content": null,
            "justify_items": null,
            "left": null,
            "margin": null,
            "max_height": null,
            "max_width": null,
            "min_height": null,
            "min_width": null,
            "object_fit": null,
            "object_position": null,
            "order": null,
            "overflow": null,
            "overflow_x": null,
            "overflow_y": null,
            "padding": null,
            "right": null,
            "top": null,
            "visibility": null,
            "width": null
          }
        },
        "084dc779c19d41b199025d36f60809e5": {
          "model_module": "@jupyter-widgets/controls",
          "model_name": "DescriptionStyleModel",
          "model_module_version": "1.5.0",
          "state": {
            "_model_module": "@jupyter-widgets/controls",
            "_model_module_version": "1.5.0",
            "_model_name": "DescriptionStyleModel",
            "_view_count": null,
            "_view_module": "@jupyter-widgets/base",
            "_view_module_version": "1.2.0",
            "_view_name": "StyleView",
            "description_width": ""
          }
        },
        "a533771b2cb34f16a5c062c7e3cc8f76": {
          "model_module": "@jupyter-widgets/controls",
          "model_name": "HBoxModel",
          "model_module_version": "1.5.0",
          "state": {
            "_dom_classes": [],
            "_model_module": "@jupyter-widgets/controls",
            "_model_module_version": "1.5.0",
            "_model_name": "HBoxModel",
            "_view_count": null,
            "_view_module": "@jupyter-widgets/controls",
            "_view_module_version": "1.5.0",
            "_view_name": "HBoxView",
            "box_style": "",
            "children": [
              "IPY_MODEL_46cfac4fc6df48f9a26e808e59d86b68",
              "IPY_MODEL_e63ca27f9f7b483b88961cf64446aadc",
              "IPY_MODEL_0dc2bfbb3fc1491e88cbf36a3e5e78c8"
            ],
            "layout": "IPY_MODEL_7380bdd998184228ab15f7f02d94f3bf"
          }
        },
        "46cfac4fc6df48f9a26e808e59d86b68": {
          "model_module": "@jupyter-widgets/controls",
          "model_name": "HTMLModel",
          "model_module_version": "1.5.0",
          "state": {
            "_dom_classes": [],
            "_model_module": "@jupyter-widgets/controls",
            "_model_module_version": "1.5.0",
            "_model_name": "HTMLModel",
            "_view_count": null,
            "_view_module": "@jupyter-widgets/controls",
            "_view_module_version": "1.5.0",
            "_view_name": "HTMLView",
            "description": "",
            "description_tooltip": null,
            "layout": "IPY_MODEL_b054dad628564aaab76dd32f407b352e",
            "placeholder": "​",
            "style": "IPY_MODEL_e44e36cd5c0042ad8c75f92b54de1a52",
            "value": "Updating BM25 representation...: 100%"
          }
        },
        "e63ca27f9f7b483b88961cf64446aadc": {
          "model_module": "@jupyter-widgets/controls",
          "model_name": "FloatProgressModel",
          "model_module_version": "1.5.0",
          "state": {
            "_dom_classes": [],
            "_model_module": "@jupyter-widgets/controls",
            "_model_module_version": "1.5.0",
            "_model_name": "FloatProgressModel",
            "_view_count": null,
            "_view_module": "@jupyter-widgets/controls",
            "_view_module_version": "1.5.0",
            "_view_name": "ProgressView",
            "bar_style": "success",
            "description": "",
            "description_tooltip": null,
            "layout": "IPY_MODEL_ec9f7bc6f53241a1b01da81b87caf45d",
            "max": 411,
            "min": 0,
            "orientation": "horizontal",
            "style": "IPY_MODEL_65cec3d9675a41a581917816197855c4",
            "value": 411
          }
        },
        "0dc2bfbb3fc1491e88cbf36a3e5e78c8": {
          "model_module": "@jupyter-widgets/controls",
          "model_name": "HTMLModel",
          "model_module_version": "1.5.0",
          "state": {
            "_dom_classes": [],
            "_model_module": "@jupyter-widgets/controls",
            "_model_module_version": "1.5.0",
            "_model_name": "HTMLModel",
            "_view_count": null,
            "_view_module": "@jupyter-widgets/controls",
            "_view_module_version": "1.5.0",
            "_view_name": "HTMLView",
            "description": "",
            "description_tooltip": null,
            "layout": "IPY_MODEL_26d338c4a26a40ab90212646168c8117",
            "placeholder": "​",
            "style": "IPY_MODEL_fbdbcedf2748424795a15c09afc838f5",
            "value": " 411/411 [00:00&lt;00:00, 6949.84 docs/s]"
          }
        },
        "7380bdd998184228ab15f7f02d94f3bf": {
          "model_module": "@jupyter-widgets/base",
          "model_name": "LayoutModel",
          "model_module_version": "1.2.0",
          "state": {
            "_model_module": "@jupyter-widgets/base",
            "_model_module_version": "1.2.0",
            "_model_name": "LayoutModel",
            "_view_count": null,
            "_view_module": "@jupyter-widgets/base",
            "_view_module_version": "1.2.0",
            "_view_name": "LayoutView",
            "align_content": null,
            "align_items": null,
            "align_self": null,
            "border": null,
            "bottom": null,
            "display": null,
            "flex": null,
            "flex_flow": null,
            "grid_area": null,
            "grid_auto_columns": null,
            "grid_auto_flow": null,
            "grid_auto_rows": null,
            "grid_column": null,
            "grid_gap": null,
            "grid_row": null,
            "grid_template_areas": null,
            "grid_template_columns": null,
            "grid_template_rows": null,
            "height": null,
            "justify_content": null,
            "justify_items": null,
            "left": null,
            "margin": null,
            "max_height": null,
            "max_width": null,
            "min_height": null,
            "min_width": null,
            "object_fit": null,
            "object_position": null,
            "order": null,
            "overflow": null,
            "overflow_x": null,
            "overflow_y": null,
            "padding": null,
            "right": null,
            "top": null,
            "visibility": null,
            "width": null
          }
        },
        "b054dad628564aaab76dd32f407b352e": {
          "model_module": "@jupyter-widgets/base",
          "model_name": "LayoutModel",
          "model_module_version": "1.2.0",
          "state": {
            "_model_module": "@jupyter-widgets/base",
            "_model_module_version": "1.2.0",
            "_model_name": "LayoutModel",
            "_view_count": null,
            "_view_module": "@jupyter-widgets/base",
            "_view_module_version": "1.2.0",
            "_view_name": "LayoutView",
            "align_content": null,
            "align_items": null,
            "align_self": null,
            "border": null,
            "bottom": null,
            "display": null,
            "flex": null,
            "flex_flow": null,
            "grid_area": null,
            "grid_auto_columns": null,
            "grid_auto_flow": null,
            "grid_auto_rows": null,
            "grid_column": null,
            "grid_gap": null,
            "grid_row": null,
            "grid_template_areas": null,
            "grid_template_columns": null,
            "grid_template_rows": null,
            "height": null,
            "justify_content": null,
            "justify_items": null,
            "left": null,
            "margin": null,
            "max_height": null,
            "max_width": null,
            "min_height": null,
            "min_width": null,
            "object_fit": null,
            "object_position": null,
            "order": null,
            "overflow": null,
            "overflow_x": null,
            "overflow_y": null,
            "padding": null,
            "right": null,
            "top": null,
            "visibility": null,
            "width": null
          }
        },
        "e44e36cd5c0042ad8c75f92b54de1a52": {
          "model_module": "@jupyter-widgets/controls",
          "model_name": "DescriptionStyleModel",
          "model_module_version": "1.5.0",
          "state": {
            "_model_module": "@jupyter-widgets/controls",
            "_model_module_version": "1.5.0",
            "_model_name": "DescriptionStyleModel",
            "_view_count": null,
            "_view_module": "@jupyter-widgets/base",
            "_view_module_version": "1.2.0",
            "_view_name": "StyleView",
            "description_width": ""
          }
        },
        "ec9f7bc6f53241a1b01da81b87caf45d": {
          "model_module": "@jupyter-widgets/base",
          "model_name": "LayoutModel",
          "model_module_version": "1.2.0",
          "state": {
            "_model_module": "@jupyter-widgets/base",
            "_model_module_version": "1.2.0",
            "_model_name": "LayoutModel",
            "_view_count": null,
            "_view_module": "@jupyter-widgets/base",
            "_view_module_version": "1.2.0",
            "_view_name": "LayoutView",
            "align_content": null,
            "align_items": null,
            "align_self": null,
            "border": null,
            "bottom": null,
            "display": null,
            "flex": null,
            "flex_flow": null,
            "grid_area": null,
            "grid_auto_columns": null,
            "grid_auto_flow": null,
            "grid_auto_rows": null,
            "grid_column": null,
            "grid_gap": null,
            "grid_row": null,
            "grid_template_areas": null,
            "grid_template_columns": null,
            "grid_template_rows": null,
            "height": null,
            "justify_content": null,
            "justify_items": null,
            "left": null,
            "margin": null,
            "max_height": null,
            "max_width": null,
            "min_height": null,
            "min_width": null,
            "object_fit": null,
            "object_position": null,
            "order": null,
            "overflow": null,
            "overflow_x": null,
            "overflow_y": null,
            "padding": null,
            "right": null,
            "top": null,
            "visibility": null,
            "width": null
          }
        },
        "65cec3d9675a41a581917816197855c4": {
          "model_module": "@jupyter-widgets/controls",
          "model_name": "ProgressStyleModel",
          "model_module_version": "1.5.0",
          "state": {
            "_model_module": "@jupyter-widgets/controls",
            "_model_module_version": "1.5.0",
            "_model_name": "ProgressStyleModel",
            "_view_count": null,
            "_view_module": "@jupyter-widgets/base",
            "_view_module_version": "1.2.0",
            "_view_name": "StyleView",
            "bar_color": null,
            "description_width": ""
          }
        },
        "26d338c4a26a40ab90212646168c8117": {
          "model_module": "@jupyter-widgets/base",
          "model_name": "LayoutModel",
          "model_module_version": "1.2.0",
          "state": {
            "_model_module": "@jupyter-widgets/base",
            "_model_module_version": "1.2.0",
            "_model_name": "LayoutModel",
            "_view_count": null,
            "_view_module": "@jupyter-widgets/base",
            "_view_module_version": "1.2.0",
            "_view_name": "LayoutView",
            "align_content": null,
            "align_items": null,
            "align_self": null,
            "border": null,
            "bottom": null,
            "display": null,
            "flex": null,
            "flex_flow": null,
            "grid_area": null,
            "grid_auto_columns": null,
            "grid_auto_flow": null,
            "grid_auto_rows": null,
            "grid_column": null,
            "grid_gap": null,
            "grid_row": null,
            "grid_template_areas": null,
            "grid_template_columns": null,
            "grid_template_rows": null,
            "height": null,
            "justify_content": null,
            "justify_items": null,
            "left": null,
            "margin": null,
            "max_height": null,
            "max_width": null,
            "min_height": null,
            "min_width": null,
            "object_fit": null,
            "object_position": null,
            "order": null,
            "overflow": null,
            "overflow_x": null,
            "overflow_y": null,
            "padding": null,
            "right": null,
            "top": null,
            "visibility": null,
            "width": null
          }
        },
        "fbdbcedf2748424795a15c09afc838f5": {
          "model_module": "@jupyter-widgets/controls",
          "model_name": "DescriptionStyleModel",
          "model_module_version": "1.5.0",
          "state": {
            "_model_module": "@jupyter-widgets/controls",
            "_model_module_version": "1.5.0",
            "_model_name": "DescriptionStyleModel",
            "_view_count": null,
            "_view_module": "@jupyter-widgets/base",
            "_view_module_version": "1.2.0",
            "_view_name": "StyleView",
            "description_width": ""
          }
        }
      }
    }
  },
  "nbformat": 4,
  "nbformat_minor": 0
}