{
  "cells": [
    {
      "cell_type": "code",
      "source": [
        "from google.colab import drive\n",
        "drive.mount('/content/drive')"
      ],
      "metadata": {
        "id": "OpbrIKNuOl2o",
        "colab": {
          "base_uri": "https://localhost:8080/"
        },
        "outputId": "1b83b3f9-0937-4af4-dff8-1676d68d1710"
      },
      "execution_count": null,
      "outputs": [
        {
          "output_type": "stream",
          "name": "stdout",
          "text": [
            "Mounted at /content/drive\n"
          ]
        }
      ]
    },
    {
      "cell_type": "code",
      "source": [
        "%cd /content/drive/MyDrive/semantic_search_package_final"
      ],
      "metadata": {
        "colab": {
          "base_uri": "https://localhost:8080/"
        },
        "id": "TStcqBrgOhrd",
        "outputId": "9220f687-966a-4e1d-c09f-97f0a69fbeae"
      },
      "execution_count": null,
      "outputs": [
        {
          "output_type": "stream",
          "name": "stdout",
          "text": [
            "/content/drive/MyDrive/semantic_search_package_final\n"
          ]
        }
      ]
    },
    {
      "cell_type": "markdown",
      "metadata": {
        "id": "fsCYAvLPjcN5"
      },
      "source": [
        "# **Semantic Search Engine**\n",
        "\n",
        "This notebook is meant to showcase how to combine **Data processing, Retriever systems, QnA model & Summarization model** to get useful insights from different documents based on user query.\n",
        "\n",
        "The below codes are based on **haystack pipeline**, **tiger nlp** and **huggingface models** but every function can be replaces with a custom module to make things better."
      ]
    },
    {
      "cell_type": "markdown",
      "metadata": {
        "id": "GWLzUQp6cA3W"
      },
      "source": [
        "### **Imports and installations**\n",
        "\n",
        "\n"
      ]
    },
    {
      "cell_type": "code",
      "source": [
        "!pip install -r requirements.txt\n",
        "# !pip uninstall -r requirements.txt -y"
      ],
      "metadata": {
        "id": "oepZF0R83j4d"
      },
      "execution_count": null,
      "outputs": []
    },
    {
      "cell_type": "code",
      "execution_count": null,
      "metadata": {
        "id": "kolk4MvcMDKj"
      },
      "outputs": [],
      "source": [
        "!wget --no-check-certificate https://dl.xpdfreader.com/xpdf-tools-linux-4.04.tar.gz\n",
        "!tar -xvf xpdf-tools-linux-4.04.tar.gz\n",
        "!sudo cp xpdf-tools-linux-4.04/bin64/pdftotext /usr/local/bin"
      ]
    },
    {
      "cell_type": "code",
      "source": [
        "from haystack.nodes import PDFToTextConverter,PreProcessor, BM25Retriever, TfidfRetriever,EmbeddingRetriever, DensePassageRetriever\n",
        "from haystack.utils import print_documents, convert_files_to_docs\n",
        "from haystack.document_stores import InMemoryDocumentStore,ElasticsearchDocumentStore,FAISSDocumentStore\n",
        "import os, re\n",
        "import pandas as pd\n",
        "import numpy as np\n",
        "from tqdm import tqdm\n",
        "import warnings\n",
        "warnings.filterwarnings(\"ignore\") \n",
        "os.environ[\"TOKENIZERS_PARALLELISM\"] = \"false\""
      ],
      "metadata": {
        "id": "9NtaYmf_GBb2"
      },
      "execution_count": null,
      "outputs": []
    },
    {
      "cell_type": "markdown",
      "source": [
        "# **1. Knowledge base creation**"
      ],
      "metadata": {
        "id": "st9w-OseQlcD"
      }
    },
    {
      "cell_type": "markdown",
      "source": [
        "This section aims to convert our files into documents and then clean the documents using haystack pipeline.\n",
        "\n",
        "**Haystack** is an open-source framework for building search systems that work intelligently over large document collection. \n",
        "\n",
        "For more information on haystack pipeline refer below link\n",
        "\n",
        "https://docs.haystack.deepset.ai/docs/intro"
      ],
      "metadata": {
        "id": "G-UwAvI3Z9Gp"
      }
    },
    {
      "cell_type": "markdown",
      "metadata": {
        "id": "7UHUtYjYcL9G"
      },
      "source": [
        "## **1.1 Data Parsing**"
      ]
    },
    {
      "cell_type": "markdown",
      "source": [
        "This function reads different data sources (pdf/doc/images) and extracts information using haystacks pipeline. \n",
        "\n",
        "The PreProcessor class is designed to clean text and split text into sensible units.It performs cleaning of consecutive whitespaces and splits a single large document into smaller documents. Each document is up to 1000 words long and document breaks cannot fall in the middle of sentences.\n",
        "\n",
        "The Preprocessed document are then saved as document object.\n",
        "\n",
        "Refer https://haystack.deepset.ai/tutorials/08_preprocessing for more information on this section"
      ],
      "metadata": {
        "id": "1wIJoxeKNTCP"
      }
    },
    {
      "cell_type": "code",
      "source": [
        "def data_processing(doc_dir = ''):\n",
        "  \"\"\"\n",
        "  Data retrieval/processing function\n",
        "  \n",
        "  Parameters:\n",
        "  doc_dir (str): Path to document location\n",
        "\n",
        "  Returns:\n",
        "  list: List of retrieved/processed documents \n",
        "\n",
        "  \"\"\"\n",
        "\n",
        "  # converting all documents to text for future use\n",
        "  all_docs = convert_files_to_docs(dir_path=doc_dir)\n",
        "\n",
        "  # Using preprocessor to clean the docs\n",
        "  preprocessor = PreProcessor(\n",
        "      clean_empty_lines=True,\n",
        "      clean_whitespace=True,\n",
        "      clean_header_footer=True,\n",
        "      split_by=\"word\",\n",
        "      split_length=100,\n",
        "      split_respect_sentence_boundary=True,\n",
        "  )\n",
        "  #Preprocessing the documents\n",
        "  docs_processed = []\n",
        "  for doc in all_docs:\n",
        "      docs_processed.append(preprocessor.process(doc))\n",
        "  docs = docs_processed.copy()\n",
        "  \n",
        "  return docs"
      ],
      "metadata": {
        "id": "4SZqatF_MXtx"
      },
      "execution_count": null,
      "outputs": []
    },
    {
      "cell_type": "code",
      "source": [
        "processed_data = data_processing(doc_dir = 'data')\n",
        "print(len(processed_data))"
      ],
      "metadata": {
        "id": "iWuZBDoOMijp",
        "colab": {
          "base_uri": "https://localhost:8080/"
        },
        "outputId": "303984a5-008d-4419-f00c-abba40c9ebad"
      },
      "execution_count": null,
      "outputs": [
        {
          "output_type": "stream",
          "name": "stderr",
          "text": [
            "WARNING:haystack.nodes.preprocessor.preprocessor:We found one or more sentences whose word count is higher than the split length.\n"
          ]
        },
        {
          "output_type": "stream",
          "name": "stdout",
          "text": [
            "7\n"
          ]
        }
      ]
    },
    {
      "cell_type": "markdown",
      "source": [
        "# **2. Retrieval system**"
      ],
      "metadata": {
        "id": "p2FpaR8-Aurl"
      }
    },
    {
      "cell_type": "markdown",
      "source": [
        "The Retriever takes a query as input and checks it against the Documents contained in the DocumentStore. It scores each document for its relevance to the query and returns the top candidates."
      ],
      "metadata": {
        "id": "NfYa-dH7c2KC"
      }
    },
    {
      "cell_type": "markdown",
      "source": [
        "## **2.1 Document store creation**"
      ],
      "metadata": {
        "id": "hGaqPtA8A4QF"
      }
    },
    {
      "cell_type": "markdown",
      "source": [
        "DocumentStore is a database that stores our texts and meta data and provides them to the Retriever at query time.\n",
        "\n",
        "We provide DocumentStore as an argument when we initialize a Retriever.\n",
        "\n",
        "We cast our data into Document objects before writing into a DocumentStore. Load the processed data saved in above step.\n",
        "\n",
        "Refer https://docs.haystack.deepset.ai/docs/document_store and \n",
        "https://docs.haystack.deepset.ai/docs/retriever for more information on this section."
      ],
      "metadata": {
        "id": "H5L9KSPvQd0W"
      }
    },
    {
      "cell_type": "code",
      "source": [
        "def semantic_search(processed_doc = '', retriever_type='bm25'):\n",
        "  \"\"\"\n",
        "  Semantic search for finding top documents based on query\n",
        "\n",
        "  Parameters:\n",
        "  query (str): User query\n",
        "  processed_doc (list): list of processed docs\n",
        "  retriever_type (str): Type of retriever to be used\n",
        "\n",
        "  Returns:\n",
        "  Object: Retriever object\n",
        "  Object: Document store object\n",
        "\n",
        "  \"\"\"\n",
        "  if retriever_type == 'bm25':\n",
        "    document_store = InMemoryDocumentStore(use_bm25=True)\n",
        "  else:\n",
        "    document_store = InMemoryDocumentStore()\n",
        "\n",
        "  # Writing the document to document store to be used by retriever pipeline\n",
        "  for doc in processed_doc:\n",
        "        document_store.write_documents(doc)\n",
        "\n",
        "  if retriever_type == 'tf-idf':\n",
        "    retriever = TfidfRetriever(document_store)\n",
        "    \n",
        "  elif retriever_type == 'bm25':\n",
        "    retriever = BM25Retriever(document_store)\n",
        "\n",
        "  return retriever, document_store"
      ],
      "metadata": {
        "id": "r8sK163IPsgw"
      },
      "execution_count": null,
      "outputs": []
    },
    {
      "cell_type": "code",
      "source": [
        "query='What are the findings of NSCLC group of study?'\n",
        "retriever_type = 'bm25'"
      ],
      "metadata": {
        "id": "QDm61xrAQUBn"
      },
      "execution_count": null,
      "outputs": []
    },
    {
      "cell_type": "code",
      "source": [
        "retriever, document_store = semantic_search(processed_doc = processed_data, retriever_type=retriever_type)"
      ],
      "metadata": {
        "id": "mhocDQ1bPzBO",
        "colab": {
          "base_uri": "https://localhost:8080/",
          "height": 241,
          "referenced_widgets": [
            "cf85e4660c984a1ab0e6cfb3a19fd24f",
            "3bfa12f966e5430aaf309e3edc83a831",
            "6c7ae261c879422fb5a268eea11bec20",
            "7acfd28f6d9c48229625f68a20ae408a",
            "7b0af9f7a347424eb0e5e54fff906512",
            "54cdaba8dd6344e9ada90259fe56e89b",
            "1e5e0a488bb94eed872bdb6b5c097cea",
            "eb8e075aa5ac42809c30d67a30ed3ef9",
            "e15b749b943d4c72a4512f6f029881d0",
            "c97e73b890374fd5baccef2c8c6497b8",
            "ac363a84d0044f038012bda6cd58245a",
            "bd29a19a116a4bd4953d00884db550a1",
            "8c747c90228543bb9d62f9e14bc1f1c0",
            "6efe8d86baca44f8bd74809a7dd60324",
            "65b264bdfd244dffa9154581a363bc83",
            "fc29d9e505e646b2ba05532901260f9d",
            "bac5fefa535f46f68487955c833136f8",
            "58f2006900e34951a91fba4bb30ef68e",
            "8dfa04338b43464aa66b3b626ad7e06d",
            "c1e02396c09c4f0a9074cabe5e79605a",
            "27a83f7f8781437ba939dad248e2950b",
            "b63a6aa460b14c40917892b0ebd96b12",
            "1abe5ac61e5f4eedacb48ba97a616979",
            "a33eb402da6d4975afebad2467f516df",
            "f981daa27a2d4536b5460a43a8eb4064",
            "3b2b7105a3ea4c0f9a65341c3bcc6339",
            "5734a9ea36d642d6862b442548f8892a",
            "51933598ccf94b1aae464a9a8bdb992b",
            "0223d0b506f6467381a9d5abc84ae721",
            "7a4dd39d58874db386dba5ba5697e9c2",
            "051ef3c31b7941b08caf429baa8e8d78",
            "f780aae5a20e497dabf4b000a026b762",
            "2b41b7f1195947748bcb15ac14c85ea1",
            "84cac71ed13341818fcb9ce1d4869670",
            "e6aa0406e9304b0bba650ddbfbca195a",
            "bab4e726f35a4731ba17cf7513785577",
            "c10f1af8187344d3807de25dc4936e76",
            "6e0eb0a8e2d74abca932b9d3f0ef0061",
            "a3f66df8168e40d9a59aae9799c63d4a",
            "6eb12a4aee394df28d5fcf213e9337c8",
            "f2fb8b25c2154a359dd9ed523c96ffc5",
            "633ab6af214342f1880e040d43503e0c",
            "a08adfeb1f7d49f880252406e4f43722",
            "5bc3f6886ed443af9e18c6d3bfc728a3",
            "5c4c394f984f4536bd4834f0e2b718f9",
            "e95810963aa944698b849d7c92eba68c",
            "5a43bc1d45f44116b655738c0c227cc7",
            "66a95c0347134aedb2c0cebc65a6c54b",
            "3a728a6c868047a1bd5aca5fc849d051",
            "79138d66ea784ff2bce97a0ec98b376e",
            "daa885d692d94b638977fb8679e6a4a8",
            "dcafdbf293f94da18077ea4896e0c935",
            "ca88442ed6634c16aec9c11956ba961b",
            "9b8d2a195b32466fbe925a75915c493c",
            "a4c47ec3fc45452086b4bcf73f4a567b",
            "941304932a70446f9ba7164d7068880d",
            "e9b2dd24e7944ede9c77adc0c5010156",
            "e5f66d649e924dd19bdf5d40d3fcd4af",
            "b07fb80169764293a114f7cc0934c6e5",
            "e54a690aafc84c2fb179de4e3627828a",
            "2c5281c6df3c40cf83aaaf82ab17ee2d",
            "1291253d3e8d48f988099e60ff26fc11",
            "79696dcd76734236a5019ed354017d23",
            "e769192b35694dee9d79723f4a90ffc5",
            "2dc014648c82472887daf3bfdfa5c293",
            "391c00692262493d967ad3fd8ea255d0",
            "3f056aa982e843839c0db3299eb1edbf",
            "a3e2944427ce4a03822f79064443cec1",
            "19ad6f24ddb642168349fc9123a21aad",
            "879ace31c90245cab833d5440668866c",
            "fabf9fe3713548c087f8bb982f505d70",
            "05e4b3a3ef5347749c7a805a5eda9c4c",
            "b7ec4d0e49984dd0a2778e043229195c",
            "5676c4c1b42e4fd38b6e60ac1f6d9a67",
            "1808744cf5ed4d26b7f3e4dc1788b553",
            "0c865824024744ec905117e42a1f3fb2",
            "96b1a440567b4697b5b8fcc3dc477623"
          ]
        },
        "outputId": "e11af82b-663b-4213-c434-a79ee1945fe6"
      },
      "execution_count": null,
      "outputs": [
        {
          "output_type": "display_data",
          "data": {
            "text/plain": [
              "Updating BM25 representation...:   0%|          | 0/10 [00:00<?, ? docs/s]"
            ],
            "application/vnd.jupyter.widget-view+json": {
              "version_major": 2,
              "version_minor": 0,
              "model_id": "cf85e4660c984a1ab0e6cfb3a19fd24f"
            }
          },
          "metadata": {}
        },
        {
          "output_type": "display_data",
          "data": {
            "text/plain": [
              "Updating BM25 representation...:   0%|          | 0/29 [00:00<?, ? docs/s]"
            ],
            "application/vnd.jupyter.widget-view+json": {
              "version_major": 2,
              "version_minor": 0,
              "model_id": "bd29a19a116a4bd4953d00884db550a1"
            }
          },
          "metadata": {}
        },
        {
          "output_type": "display_data",
          "data": {
            "text/plain": [
              "Updating BM25 representation...:   0%|          | 0/55 [00:00<?, ? docs/s]"
            ],
            "application/vnd.jupyter.widget-view+json": {
              "version_major": 2,
              "version_minor": 0,
              "model_id": "1abe5ac61e5f4eedacb48ba97a616979"
            }
          },
          "metadata": {}
        },
        {
          "output_type": "display_data",
          "data": {
            "text/plain": [
              "Updating BM25 representation...:   0%|          | 0/71 [00:00<?, ? docs/s]"
            ],
            "application/vnd.jupyter.widget-view+json": {
              "version_major": 2,
              "version_minor": 0,
              "model_id": "84cac71ed13341818fcb9ce1d4869670"
            }
          },
          "metadata": {}
        },
        {
          "output_type": "display_data",
          "data": {
            "text/plain": [
              "Updating BM25 representation...:   0%|          | 0/375 [00:00<?, ? docs/s]"
            ],
            "application/vnd.jupyter.widget-view+json": {
              "version_major": 2,
              "version_minor": 0,
              "model_id": "5c4c394f984f4536bd4834f0e2b718f9"
            }
          },
          "metadata": {}
        },
        {
          "output_type": "display_data",
          "data": {
            "text/plain": [
              "Updating BM25 representation...:   0%|          | 0/385 [00:00<?, ? docs/s]"
            ],
            "application/vnd.jupyter.widget-view+json": {
              "version_major": 2,
              "version_minor": 0,
              "model_id": "941304932a70446f9ba7164d7068880d"
            }
          },
          "metadata": {}
        },
        {
          "output_type": "display_data",
          "data": {
            "text/plain": [
              "Updating BM25 representation...:   0%|          | 0/411 [00:00<?, ? docs/s]"
            ],
            "application/vnd.jupyter.widget-view+json": {
              "version_major": 2,
              "version_minor": 0,
              "model_id": "3f056aa982e843839c0db3299eb1edbf"
            }
          },
          "metadata": {}
        }
      ]
    },
    {
      "cell_type": "markdown",
      "source": [
        "## **2.2 Retriever**"
      ],
      "metadata": {
        "id": "46O3tzK7BBGw"
      }
    },
    {
      "cell_type": "markdown",
      "source": [
        "The Retriever performs document retrieval by sweeping through a DocumentStore and returning a set of candidate Documents that are relevant to the *query*.\n",
        "\n",
        "**Retrieve()** method returns a list of Document objects."
      ],
      "metadata": {
        "id": "nybVhxQROSu0"
      }
    },
    {
      "cell_type": "code",
      "source": [
        "candidate_documents = retriever.retrieve(\n",
        "    query=query,\n",
        "    top_k=5,\n",
        ")"
      ],
      "metadata": {
        "id": "uOLLteMtPsF1"
      },
      "execution_count": null,
      "outputs": []
    },
    {
      "cell_type": "markdown",
      "source": [
        "Top 5 candidate_document context are combined as one.\n"
      ],
      "metadata": {
        "id": "1REzJNP8P0Ci"
      }
    },
    {
      "cell_type": "code",
      "source": [
        "data=pd.DataFrame(candidate_documents)\n",
        "context=' '.join(data.content)"
      ],
      "metadata": {
        "id": "lbfPRarecxLA"
      },
      "execution_count": null,
      "outputs": []
    },
    {
      "cell_type": "code",
      "source": [
        "context"
      ],
      "metadata": {
        "colab": {
          "base_uri": "https://localhost:8080/",
          "height": 104
        },
        "id": "0BLx9irxdDrJ",
        "outputId": "4b027534-4c9e-4b97-fda6-3551f7aedf05"
      },
      "execution_count": null,
      "outputs": [
        {
          "output_type": "execute_result",
          "data": {
            "text/plain": [
              "'Another large\\nsystematic genomic study reclassified 12 tumor types into 11 subtypes based on the\\nsequencing data from 3527 tumor cases (DNA copy number, DNA methylation, mRNA\\nexpression, microRNA expression, protein expression and somatic point mutation). Somatic\\nmutations such as KEAP1 and STK11 are preferentially mutated in LUAD-enriched tumors\\ngroup, containing most of the lung adenocarcinoma cases, while CDKN2A, NOTCH1,\\nMLL2 and NFE2L2 were found mutated preferentially in squamous-like tumors group\\nencompassing most of the lung squamous cell carcinoma cases. Squamous-like tumors also\\nshowed frequent MYC amplification and loss of CDKN2A, RB1 and TP53.  Takada M, Fukuoka M, Kawahara M, Sugiura T, Yokoyama A, Yokota S, Nishiwaki Y,\\nWatanabe K, Noda K, Tamura T, Fukuda H, et al. Phase iii study of concurrent versus sequential\\nthoracic radiotherapy in combination with cisplatin and etoposide for limited-stage small-cell\\nlung cancer: Results of the japan clinical oncology group study 9104. Journal of clinical\\noncology : official journal of the American Society of Clinical Oncology. 2002; 20(14):3054–\\n3060. [PubMed: 12118018]\\n277. Ready NE, Dudek AZ, Pang HH, Hodgson LD, Graziano SL, Green MR, Vokes EE.  Other environmental factors, such as exposure to asbestos (blf.org.uk/support-for-\\nyou/asbestos-related-conditions/what-is-asbestos) and radon (blf.org.uk/support-for-you/indoor-air-\\npollution/causes), can increase the risk as well.\\nIt’s increasingly recognised that other factors, such as air pollution (blf.org.uk/support-for-you/air-\\npollution/effects), as well as a variety of occupations are associated with an increased risk of getting lung\\ncancer.\\nPeople who’ve never smoked are more likely to develop one particular type of lung cancer called\\nadenocarcinoma.\\nLung cancer usually affects people over the age of 60. Younger people can develop lung cancer, but this is\\nless common.\\nWhat are the symptoms of lung cancer?\\n Recently updated data from a phase IIB randomized study treating stage\\nIIIB/IV NSCLC patients with L-BLP25 showed significant improvement in the vaccine\\ngroup comparing to the supportive group (3-year survival rates: 31 vs. 17 % [241]).\\nThe efficacy of TG4010, a recombinant vaccinia virus that combines the human MUC1 and\\ninterleukin-2 coding sequences [66], in combination with cisplatin and vinorelbine or as\\nmonotherapy has been investigated in a randomized phase II study for advanced NSCLC\\npatients [242,243]. A subgroup with a detectable CD8+ T-cell response was able to generate\\nan immune response against MUC1 and had longer median survival [243].  Symptom improvement in lung cancer patients treated\\nwith erlotinib: Quality of life analysis of the national cancer institute of canada clinical trials\\ngroup study br.21. Journal of clinical oncology : official journal of the American Society of\\nClinical Oncology. 2006; 24(24):3831–3837. [PubMed: 16921034]\\n128. Ciuleanu T, Stelmakh L, Cicenas S, Miliauskas S, Grigorescu AC, Hillenbach C, Johannsdottir\\nHK, Klughammer B, Gonzalez EE. Efficacy and safety of erlotinib versus chemotherapy in\\nsecond-line treatment of patients with advanced, non-small-cell lung cancer with poor prognosis\\n(titan): A randomised multicentre, open-label, phase 3 study. Lancet Oncol. 2012; 13(3):300–\\n308. [PubMed: 22277837]\\n129. '"
            ],
            "application/vnd.google.colaboratory.intrinsic+json": {
              "type": "string"
            }
          },
          "metadata": {},
          "execution_count": 12
        }
      ]
    },
    {
      "cell_type": "markdown",
      "source": [
        "# **3. Extractive qna**"
      ],
      "metadata": {
        "id": "J08-kqXywXNe"
      }
    },
    {
      "cell_type": "markdown",
      "source": [
        "The predict function takes a context and the question and extracts the answer from the given context\n",
        "\n",
        "The context here could be a text, or table. This is usually solved with BERT-like models.\n",
        "\n",
        "If the model name is not specified in the function,**default model(deepset/tinyroberta-squad2)** is taken into consideration.\n",
        "\n",
        "We can use any qna pre trained model from Huggingface or our fine tuned Huggingface qna model to infer on the test input."
      ],
      "metadata": {
        "id": "wBUjnGOYXRSp"
      }
    },
    {
      "cell_type": "markdown",
      "source": [
        "We can pass any kwargs inside inference function. (i.e doc_stride,max_answer_length,..) \n",
        "\n",
        "Refer https://huggingface.co/docs/transformers/main_classes/pipelines#transformers.QuestionAnsweringPipeline to know about list of available parameters for qna"
      ],
      "metadata": {
        "id": "2tEPyCb2gVb6"
      }
    },
    {
      "cell_type": "markdown",
      "source": [
        "Below is an example snippet to use:"
      ],
      "metadata": {
        "id": "vadvLkkiYAp8"
      }
    },
    {
      "cell_type": "markdown",
      "source": [
        "\n",
        "**Initialize the class**"
      ],
      "metadata": {
        "id": "eErzf5CTe-9R"
      }
    },
    {
      "cell_type": "code",
      "source": [
        "%cd /content/drive/MyDrive/semantic_search_package_final/qna"
      ],
      "metadata": {
        "colab": {
          "base_uri": "https://localhost:8080/"
        },
        "id": "Z5-0OCCAz2Bh",
        "outputId": "e4066e78-978f-4780-df77-0086b12efaa1"
      },
      "execution_count": null,
      "outputs": [
        {
          "output_type": "stream",
          "name": "stdout",
          "text": [
            "/content/drive/MyDrive/semantic_search_package_final/qna\n"
          ]
        }
      ]
    },
    {
      "cell_type": "code",
      "source": [
        "from question_answer import QnA\n",
        "qna=QnA()"
      ],
      "metadata": {
        "id": "z7eD8PTk2euZ"
      },
      "execution_count": null,
      "outputs": []
    },
    {
      "cell_type": "code",
      "source": [
        "output=qna.predict(question=query,context=context,model_name='deepset/roberta-base-squad2')"
      ],
      "metadata": {
        "colab": {
          "base_uri": "https://localhost:8080/"
        },
        "id": "tpQSru4kdmgB",
        "outputId": "4d3c88ab-22fe-4edc-ef42-2aa71cec3ea7"
      },
      "execution_count": null,
      "outputs": [
        {
          "output_type": "stream",
          "name": "stdout",
          "text": [
            "Executed\n",
            "Model Name: deepset/roberta-base-squad2\n"
          ]
        }
      ]
    },
    {
      "cell_type": "code",
      "source": [
        "output"
      ],
      "metadata": {
        "id": "DwRfkIcufZCx",
        "colab": {
          "base_uri": "https://localhost:8080/"
        },
        "outputId": "e72c6865-aad7-4b48-9290-f52c90cb44c6"
      },
      "execution_count": null,
      "outputs": [
        {
          "output_type": "execute_result",
          "data": {
            "text/plain": [
              "[{'question': 'What are the findings of NSCLC group of study?',\n",
              "  'context': 'Another large\\nsystematic genomic study reclassified 12 tumor types into 11 subtypes based on the\\nsequencing data from 3527 tumor cases (DNA copy number, DNA methylation, mRNA\\nexpression, microRNA expression, protein expression and somatic point mutation). Somatic\\nmutations such as KEAP1 and STK11 are preferentially mutated in LUAD-enriched tumors\\ngroup, containing most of the lung adenocarcinoma cases, while CDKN2A, NOTCH1,\\nMLL2 and NFE2L2 were found mutated preferentially in squamous-like tumors group\\nencompassing most of the lung squamous cell carcinoma cases. Squamous-like tumors also\\nshowed frequent MYC amplification and loss of CDKN2A, RB1 and TP53.  Takada M, Fukuoka M, Kawahara M, Sugiura T, Yokoyama A, Yokota S, Nishiwaki Y,\\nWatanabe K, Noda K, Tamura T, Fukuda H, et al. Phase iii study of concurrent versus sequential\\nthoracic radiotherapy in combination with cisplatin and etoposide for limited-stage small-cell\\nlung cancer: Results of the japan clinical oncology group study 9104. Journal of clinical\\noncology : official journal of the American Society of Clinical Oncology. 2002; 20(14):3054–\\n3060. [PubMed: 12118018]\\n277. Ready NE, Dudek AZ, Pang HH, Hodgson LD, Graziano SL, Green MR, Vokes EE.  Other environmental factors, such as exposure to asbestos (blf.org.uk/support-for-\\nyou/asbestos-related-conditions/what-is-asbestos) and radon (blf.org.uk/support-for-you/indoor-air-\\npollution/causes), can increase the risk as well.\\nIt’s increasingly recognised that other factors, such as air pollution (blf.org.uk/support-for-you/air-\\npollution/effects), as well as a variety of occupations are associated with an increased risk of getting lung\\ncancer.\\nPeople who’ve never smoked are more likely to develop one particular type of lung cancer called\\nadenocarcinoma.\\nLung cancer usually affects people over the age of 60. Younger people can develop lung cancer, but this is\\nless common.\\nWhat are the symptoms of lung cancer?\\n Recently updated data from a phase IIB randomized study treating stage\\nIIIB/IV NSCLC patients with L-BLP25 showed significant improvement in the vaccine\\ngroup comparing to the supportive group (3-year survival rates: 31 vs. 17 % [241]).\\nThe efficacy of TG4010, a recombinant vaccinia virus that combines the human MUC1 and\\ninterleukin-2 coding sequences [66], in combination with cisplatin and vinorelbine or as\\nmonotherapy has been investigated in a randomized phase II study for advanced NSCLC\\npatients [242,243]. A subgroup with a detectable CD8+ T-cell response was able to generate\\nan immune response against MUC1 and had longer median survival [243].  Symptom improvement in lung cancer patients treated\\nwith erlotinib: Quality of life analysis of the national cancer institute of canada clinical trials\\ngroup study br.21. Journal of clinical oncology : official journal of the American Society of\\nClinical Oncology. 2006; 24(24):3831–3837. [PubMed: 16921034]\\n128. Ciuleanu T, Stelmakh L, Cicenas S, Miliauskas S, Grigorescu AC, Hillenbach C, Johannsdottir\\nHK, Klughammer B, Gonzalez EE. Efficacy and safety of erlotinib versus chemotherapy in\\nsecond-line treatment of patients with advanced, non-small-cell lung cancer with poor prognosis\\n(titan): A randomised multicentre, open-label, phase 3 study. Lancet Oncol. 2012; 13(3):300–\\n308. [PubMed: 22277837]\\n129. ',\n",
              "  'predicted_answer': 'significant improvement in the vaccine\\ngroup comparing to the supportive group',\n",
              "  'model_name': 'deepset/roberta-base-squad2',\n",
              "  'score': 0.041722968220710754,\n",
              "  'start': 2061,\n",
              "  'end': 2139}]"
            ]
          },
          "metadata": {},
          "execution_count": 16
        }
      ]
    },
    {
      "cell_type": "markdown",
      "source": [
        "**Storing the results in the dataframe**"
      ],
      "metadata": {
        "id": "ZV2Wbth5g65y"
      }
    },
    {
      "cell_type": "code",
      "source": [
        "df=pd.DataFrame(output)\n",
        "data[['name','split_id']]=data['meta'].apply(pd.Series)\n",
        "df"
      ],
      "metadata": {
        "colab": {
          "base_uri": "https://localhost:8080/",
          "height": 142
        },
        "id": "f66H3Kw-dwJb",
        "outputId": "635a683f-f634-4abd-8648-47d79f08bf7d"
      },
      "execution_count": null,
      "outputs": [
        {
          "output_type": "execute_result",
          "data": {
            "text/plain": [
              "                                         question  \\\n",
              "0  What are the findings of NSCLC group of study?   \n",
              "\n",
              "                                                                           context  \\\n",
              "0  Another large\\nsystematic genomic study reclassified 12 tumor types into 11 ...   \n",
              "\n",
              "                                                                  predicted_answer  \\\n",
              "0  significant improvement in the vaccine\\ngroup comparing to the supportive group   \n",
              "\n",
              "                    model_name     score  start   end  \n",
              "0  deepset/roberta-base-squad2  0.041723   2061  2139  "
            ],
            "text/html": [
              "\n",
              "  <div id=\"df-fc4096d7-54e2-4b61-9959-6dbb66502b8a\">\n",
              "    <div class=\"colab-df-container\">\n",
              "      <div>\n",
              "<style scoped>\n",
              "    .dataframe tbody tr th:only-of-type {\n",
              "        vertical-align: middle;\n",
              "    }\n",
              "\n",
              "    .dataframe tbody tr th {\n",
              "        vertical-align: top;\n",
              "    }\n",
              "\n",
              "    .dataframe thead th {\n",
              "        text-align: right;\n",
              "    }\n",
              "</style>\n",
              "<table border=\"1\" class=\"dataframe\">\n",
              "  <thead>\n",
              "    <tr style=\"text-align: right;\">\n",
              "      <th></th>\n",
              "      <th>question</th>\n",
              "      <th>context</th>\n",
              "      <th>predicted_answer</th>\n",
              "      <th>model_name</th>\n",
              "      <th>score</th>\n",
              "      <th>start</th>\n",
              "      <th>end</th>\n",
              "    </tr>\n",
              "  </thead>\n",
              "  <tbody>\n",
              "    <tr>\n",
              "      <th>0</th>\n",
              "      <td>What are the findings of NSCLC group of study?</td>\n",
              "      <td>Another large\\nsystematic genomic study reclassified 12 tumor types into 11 ...</td>\n",
              "      <td>significant improvement in the vaccine\\ngroup comparing to the supportive group</td>\n",
              "      <td>deepset/roberta-base-squad2</td>\n",
              "      <td>0.041723</td>\n",
              "      <td>2061</td>\n",
              "      <td>2139</td>\n",
              "    </tr>\n",
              "  </tbody>\n",
              "</table>\n",
              "</div>\n",
              "      <button class=\"colab-df-convert\" onclick=\"convertToInteractive('df-fc4096d7-54e2-4b61-9959-6dbb66502b8a')\"\n",
              "              title=\"Convert this dataframe to an interactive table.\"\n",
              "              style=\"display:none;\">\n",
              "        \n",
              "  <svg xmlns=\"http://www.w3.org/2000/svg\" height=\"24px\"viewBox=\"0 0 24 24\"\n",
              "       width=\"24px\">\n",
              "    <path d=\"M0 0h24v24H0V0z\" fill=\"none\"/>\n",
              "    <path d=\"M18.56 5.44l.94 2.06.94-2.06 2.06-.94-2.06-.94-.94-2.06-.94 2.06-2.06.94zm-11 1L8.5 8.5l.94-2.06 2.06-.94-2.06-.94L8.5 2.5l-.94 2.06-2.06.94zm10 10l.94 2.06.94-2.06 2.06-.94-2.06-.94-.94-2.06-.94 2.06-2.06.94z\"/><path d=\"M17.41 7.96l-1.37-1.37c-.4-.4-.92-.59-1.43-.59-.52 0-1.04.2-1.43.59L10.3 9.45l-7.72 7.72c-.78.78-.78 2.05 0 2.83L4 21.41c.39.39.9.59 1.41.59.51 0 1.02-.2 1.41-.59l7.78-7.78 2.81-2.81c.8-.78.8-2.07 0-2.86zM5.41 20L4 18.59l7.72-7.72 1.47 1.35L5.41 20z\"/>\n",
              "  </svg>\n",
              "      </button>\n",
              "      \n",
              "  <style>\n",
              "    .colab-df-container {\n",
              "      display:flex;\n",
              "      flex-wrap:wrap;\n",
              "      gap: 12px;\n",
              "    }\n",
              "\n",
              "    .colab-df-convert {\n",
              "      background-color: #E8F0FE;\n",
              "      border: none;\n",
              "      border-radius: 50%;\n",
              "      cursor: pointer;\n",
              "      display: none;\n",
              "      fill: #1967D2;\n",
              "      height: 32px;\n",
              "      padding: 0 0 0 0;\n",
              "      width: 32px;\n",
              "    }\n",
              "\n",
              "    .colab-df-convert:hover {\n",
              "      background-color: #E2EBFA;\n",
              "      box-shadow: 0px 1px 2px rgba(60, 64, 67, 0.3), 0px 1px 3px 1px rgba(60, 64, 67, 0.15);\n",
              "      fill: #174EA6;\n",
              "    }\n",
              "\n",
              "    [theme=dark] .colab-df-convert {\n",
              "      background-color: #3B4455;\n",
              "      fill: #D2E3FC;\n",
              "    }\n",
              "\n",
              "    [theme=dark] .colab-df-convert:hover {\n",
              "      background-color: #434B5C;\n",
              "      box-shadow: 0px 1px 3px 1px rgba(0, 0, 0, 0.15);\n",
              "      filter: drop-shadow(0px 1px 2px rgba(0, 0, 0, 0.3));\n",
              "      fill: #FFFFFF;\n",
              "    }\n",
              "  </style>\n",
              "\n",
              "      <script>\n",
              "        const buttonEl =\n",
              "          document.querySelector('#df-fc4096d7-54e2-4b61-9959-6dbb66502b8a button.colab-df-convert');\n",
              "        buttonEl.style.display =\n",
              "          google.colab.kernel.accessAllowed ? 'block' : 'none';\n",
              "\n",
              "        async function convertToInteractive(key) {\n",
              "          const element = document.querySelector('#df-fc4096d7-54e2-4b61-9959-6dbb66502b8a');\n",
              "          const dataTable =\n",
              "            await google.colab.kernel.invokeFunction('convertToInteractive',\n",
              "                                                     [key], {});\n",
              "          if (!dataTable) return;\n",
              "\n",
              "          const docLinkHtml = 'Like what you see? Visit the ' +\n",
              "            '<a target=\"_blank\" href=https://colab.research.google.com/notebooks/data_table.ipynb>data table notebook</a>'\n",
              "            + ' to learn more about interactive tables.';\n",
              "          element.innerHTML = '';\n",
              "          dataTable['output_type'] = 'display_data';\n",
              "          await google.colab.output.renderOutput(dataTable, element);\n",
              "          const docLink = document.createElement('div');\n",
              "          docLink.innerHTML = docLinkHtml;\n",
              "          element.appendChild(docLink);\n",
              "        }\n",
              "      </script>\n",
              "    </div>\n",
              "  </div>\n",
              "  "
            ]
          },
          "metadata": {},
          "execution_count": 17
        }
      ]
    },
    {
      "cell_type": "markdown",
      "source": [
        "# **4. Text Summarization**"
      ],
      "metadata": {
        "id": "hTb4LGmGf777"
      }
    },
    {
      "cell_type": "markdown",
      "source": [
        "The inference function takes context and extracts the summary for the given context.The context here could be a text, or table.\n",
        "\n",
        "See the up-to-date list of available models on https://huggingface.co/models?pipeline_tag=summarization\n",
        "\n",
        "If the model name is not specified in the function,default model(**facebook/bart-large-cnn**) is taken into consideration.\n",
        "\n",
        "We can use any text summarization pre trained model from Huggingface or our fine tuned Huggingface model to infer on the test input. eg:model name - **\"text/training\"**\n",
        "\n",
        "We can pass any kwargs inside predict function. (i.e min_length, max_length,..)\n",
        "\n",
        "Refer https://huggingface.co/docs/transformers/main_classes/pipelines#transformers.SummarizationPipeline to know about list of available parameters for summarization"
      ],
      "metadata": {
        "id": "2BZzxQx4mONZ"
      }
    },
    {
      "cell_type": "markdown",
      "source": [
        "**Initialize the class**"
      ],
      "metadata": {
        "id": "5TG2cVgQeiKu"
      }
    },
    {
      "cell_type": "code",
      "source": [
        "%cd /content/drive/MyDrive/semantic_search_package_final/summarization/"
      ],
      "metadata": {
        "colab": {
          "base_uri": "https://localhost:8080/"
        },
        "id": "_B2jRrxc1MVN",
        "outputId": "62b3febc-8b44-4532-fcb7-125873bb6971"
      },
      "execution_count": null,
      "outputs": [
        {
          "output_type": "stream",
          "name": "stdout",
          "text": [
            "/content/drive/MyDrive/semantic_search_package_final/summarization\n"
          ]
        }
      ]
    },
    {
      "cell_type": "code",
      "source": [
        "from table_text_summarization import Summarizer\n",
        "summarizer=Summarizer()"
      ],
      "metadata": {
        "id": "asdKLvOHewFB"
      },
      "execution_count": null,
      "outputs": []
    },
    {
      "cell_type": "markdown",
      "source": [
        "## **4.1 Context summary**"
      ],
      "metadata": {
        "id": "mzdP-J3qfEFo"
      }
    },
    {
      "cell_type": "markdown",
      "source": [
        "For context summary, added 300 words before and after the **predicted answer** using start and end index."
      ],
      "metadata": {
        "id": "5mGTtmJBlzJY"
      }
    },
    {
      "cell_type": "code",
      "source": [
        "context_window=300\n",
        "# answer = str(df.predicted_answer)\n",
        "score = int(df.score)\n",
        "start = int(df.start)\n",
        "end = int(df.end)\n",
        "context_subset=context[context_window-start:end+context_window]"
      ],
      "metadata": {
        "id": "2C7Clo2wh6Up"
      },
      "execution_count": null,
      "outputs": []
    },
    {
      "cell_type": "code",
      "source": [
        "context_subset"
      ],
      "metadata": {
        "colab": {
          "base_uri": "https://localhost:8080/",
          "height": 104
        },
        "id": "fg9cHdV0h6ey",
        "outputId": "87b2c44c-71f4-4ca0-d614-f223e718589b"
      },
      "execution_count": null,
      "outputs": [
        {
          "output_type": "execute_result",
          "data": {
            "text/plain": [
              "'ir-\\npollution/effects), as well as a variety of occupations are associated with an increased risk of getting lung\\ncancer.\\nPeople who’ve never smoked are more likely to develop one particular type of lung cancer called\\nadenocarcinoma.\\nLung cancer usually affects people over the age of 60. Younger people can develop lung cancer, but this is\\nless common.\\nWhat are the symptoms of lung cancer?\\n Recently updated data from a phase IIB randomized study treating stage\\nIIIB/IV NSCLC patients with L-BLP25 showed significant improvement in the vaccine\\ngroup comparing to the supportive group (3-year survival rates: 31 vs. 17 % [241]).\\nThe efficacy of TG4010, a recombinant vaccinia virus that combines the human MUC1 and\\ninterleukin-2 coding sequences [66], in combination with cisplatin and vinorelbine or as\\nmonotherapy has been investigated in a randomized phase II study for advanced NS'"
            ],
            "application/vnd.google.colaboratory.intrinsic+json": {
              "type": "string"
            }
          },
          "metadata": {},
          "execution_count": 21
        }
      ]
    },
    {
      "cell_type": "code",
      "source": [
        "subset_summary=summarizer.predict(context=context_subset,model_name=\"facebook/bart-large-cnn\",min_length=5, max_length=10)\n",
        "subset_summary"
      ],
      "metadata": {
        "colab": {
          "base_uri": "https://localhost:8080/",
          "height": 298,
          "referenced_widgets": [
            "39e24bb6f28d4d6dbce4115b622c13f4",
            "9ffc668a823447859943f7a3df06477a",
            "8b806116a3374de8a2d0ec50e5b6c595",
            "55e5a97b933c4f148b7618b3d1e40312",
            "bd069d20c1da424fba57e2816b885e3b",
            "ee444c5a40294ec6bb33d37bbd4acfdc",
            "8dd16e53eb4e451d9bd4ee08f5a4f5ea",
            "2729b473b4264355a24e05c3db74d670",
            "b70364ba157743db8076e7d0f65d7253",
            "928793e1edc446d7bede85da64f4db41",
            "9a768f3619494db5ace9bc06041202ef",
            "8214283878c34d11a859bc9bbfbe40d6",
            "b89b0b4bcfea43bb9b368f95b9450175",
            "f267a03875194bfdb9e9cc2835fa736d",
            "26a47d259b4e492da0155dd3b0e4481c",
            "468a05dedf8a4c38a619be13df9d9830",
            "5b61afc0c9ce491f9a1d236d72f7cd90",
            "e0db9b65b5b445998c5bc6133b61e3e2",
            "3b49721a3f11499eabd7871090779343",
            "aef16e4b5aa04a2da5a61ecb7a0cf82a",
            "558f5fed24fd47d5966589d7e894b6ab",
            "08c626af014c44e2a67c714805077409",
            "c996993d6cd141be9fe7f57990b0594d",
            "32fe715561cb44d5a38daf13483ca061",
            "9a210d48b33645e48b1e2e55dbacea9b",
            "f1f5180fae6b414283549bd3d0dddf85",
            "941aace2bc2a429baf0a160af7aa9520",
            "42966f167b424622808b27f6701f8cc0",
            "0006d3a2c8484f14ab453ce9fb625e6a",
            "821370f61b7d4bd3af5bbb6b4a669923",
            "e9771e49cefe434d848fbb78e1dd72cb",
            "b242df9c441246a7abb0e76b6bcc9062",
            "3d28a1a045b7463283fa7abd62bd254c",
            "b007ca934cea4ee8b287a00ca1f9f43a",
            "67d78d1fe54142c991b54861a5198a7c",
            "408cc950b4ea4519a781edd0489be1b5",
            "c28b591dfc894de9a744754447533d21",
            "087aa6ccabc7413895bccafafd8e0f29",
            "f5646176a0484261840e08176f549bef",
            "764a5e484cc647a889a8c2040d30622d",
            "96a1e1c1552b4323adca79a6d933d95d",
            "f912f68bdc9d4f0a8d12314d44861db4",
            "1f2bd9903b314ad9a99a92ad5c08cb1a",
            "70bc448745bf4fba960a8479d7d269ca",
            "38f723c3e8fd424f898e36c399ac1d6c",
            "e311323cda354b7898d0cfbf88022330",
            "683a74994cc74f8cb1b72d6130845db5",
            "30131e5880934a0ea27a45a91054293e",
            "fb17c89a711d46f0ab46449bc83d0042",
            "50bec03caf7e44268e1156c780b1f630",
            "cd120970b0584291adcb915f469cb2bd",
            "b5d2bbde4a26491bb67f09e364542f11",
            "e2c28d933c514f739c5e28d11f8bd562",
            "555b455a618541f3991abfbfe69c264d",
            "1dff2d69b0524626b3b206d65b2e53d4"
          ]
        },
        "id": "z-tyUK-ylOtW",
        "outputId": "1e1bf622-1358-48ed-a869-4a01df668dfa"
      },
      "execution_count": null,
      "outputs": [
        {
          "output_type": "display_data",
          "data": {
            "text/plain": [
              "Downloading (…)lve/main/config.json:   0%|          | 0.00/1.58k [00:00<?, ?B/s]"
            ],
            "application/vnd.jupyter.widget-view+json": {
              "version_major": 2,
              "version_minor": 0,
              "model_id": "39e24bb6f28d4d6dbce4115b622c13f4"
            }
          },
          "metadata": {}
        },
        {
          "output_type": "display_data",
          "data": {
            "text/plain": [
              "Downloading pytorch_model.bin:   0%|          | 0.00/1.63G [00:00<?, ?B/s]"
            ],
            "application/vnd.jupyter.widget-view+json": {
              "version_major": 2,
              "version_minor": 0,
              "model_id": "8214283878c34d11a859bc9bbfbe40d6"
            }
          },
          "metadata": {}
        },
        {
          "output_type": "display_data",
          "data": {
            "text/plain": [
              "Downloading (…)olve/main/vocab.json:   0%|          | 0.00/899k [00:00<?, ?B/s]"
            ],
            "application/vnd.jupyter.widget-view+json": {
              "version_major": 2,
              "version_minor": 0,
              "model_id": "c996993d6cd141be9fe7f57990b0594d"
            }
          },
          "metadata": {}
        },
        {
          "output_type": "display_data",
          "data": {
            "text/plain": [
              "Downloading (…)olve/main/merges.txt:   0%|          | 0.00/456k [00:00<?, ?B/s]"
            ],
            "application/vnd.jupyter.widget-view+json": {
              "version_major": 2,
              "version_minor": 0,
              "model_id": "b007ca934cea4ee8b287a00ca1f9f43a"
            }
          },
          "metadata": {}
        },
        {
          "output_type": "display_data",
          "data": {
            "text/plain": [
              "Downloading (…)/main/tokenizer.json:   0%|          | 0.00/1.36M [00:00<?, ?B/s]"
            ],
            "application/vnd.jupyter.widget-view+json": {
              "version_major": 2,
              "version_minor": 0,
              "model_id": "38f723c3e8fd424f898e36c399ac1d6c"
            }
          },
          "metadata": {}
        },
        {
          "output_type": "execute_result",
          "data": {
            "text/plain": [
              "[{'context': 'ir-\\npollution/effects), as well as a variety of occupations are associated with an increased risk of getting lung\\ncancer.\\nPeople who’ve never smoked are more likely to develop one particular type of lung cancer called\\nadenocarcinoma.\\nLung cancer usually affects people over the age of 60. Younger people can develop lung cancer, but this is\\nless common.\\nWhat are the symptoms of lung cancer?\\n Recently updated data from a phase IIB randomized study treating stage\\nIIIB/IV NSCLC patients with L-BLP25 showed significant improvement in the vaccine\\ngroup comparing to the supportive group (3-year survival rates: 31 vs. 17 % [241]).\\nThe efficacy of TG4010, a recombinant vaccinia virus that combines the human MUC1 and\\ninterleukin-2 coding sequences [66], in combination with cisplatin and vinorelbine or as\\nmonotherapy has been investigated in a randomized phase II study for advanced NS',\n",
              "  'predicted_summary': 'Lung cancer usually affects people over',\n",
              "  'model_name': 'facebook/bart-large-cnn'}]"
            ]
          },
          "metadata": {},
          "execution_count": 22
        }
      ]
    },
    {
      "cell_type": "markdown",
      "source": [
        "## **4.2 Document summary**"
      ],
      "metadata": {
        "id": "vHy7vdh4fc6O"
      }
    },
    {
      "cell_type": "code",
      "source": [
        "summary=summarizer.predict(context=context,model_name=\"facebook/bart-large-cnn\")"
      ],
      "metadata": {
        "id": "Jl4YHm9RezQd"
      },
      "execution_count": null,
      "outputs": []
    },
    {
      "cell_type": "code",
      "source": [
        "summary"
      ],
      "metadata": {
        "colab": {
          "base_uri": "https://localhost:8080/"
        },
        "id": "dnPUt7DcfDnL",
        "outputId": "dbe4800c-d4ab-42e0-f58d-f4f6ad21267c"
      },
      "execution_count": null,
      "outputs": [
        {
          "output_type": "execute_result",
          "data": {
            "text/plain": [
              "[{'context': 'Another large\\nsystematic genomic study reclassified 12 tumor types into 11 subtypes based on the\\nsequencing data from 3527 tumor cases (DNA copy number, DNA methylation, mRNA\\nexpression, microRNA expression, protein expression and somatic point mutation). Somatic\\nmutations such as KEAP1 and STK11 are preferentially mutated in LUAD-enriched tumors\\ngroup, containing most of the lung adenocarcinoma cases, while CDKN2A, NOTCH1,\\nMLL2 and NFE2L2 were found mutated preferentially in squamous-like tumors group\\nencompassing most of the lung squamous cell carcinoma cases. Squamous-like tumors also\\nshowed frequent MYC amplification and loss of CDKN2A, RB1 and TP53.  Takada M, Fukuoka M, Kawahara M, Sugiura T, Yokoyama A, Yokota S, Nishiwaki Y,\\nWatanabe K, Noda K, Tamura T, Fukuda H, et al. Phase iii study of concurrent versus sequential\\nthoracic radiotherapy in combination with cisplatin and etoposide for limited-stage small-cell\\nlung cancer: Results of the japan clinical oncology group study 9104. Journal of clinical\\noncology : official journal of the American Society of Clinical Oncology. 2002; 20(14):3054–\\n3060. [PubMed: 12118018]\\n277. Ready NE, Dudek AZ, Pang HH, Hodgson LD, Graziano SL, Green MR, Vokes EE.  Other environmental factors, such as exposure to asbestos (blf.org.uk/support-for-\\nyou/asbestos-related-conditions/what-is-asbestos) and radon (blf.org.uk/support-for-you/indoor-air-\\npollution/causes), can increase the risk as well.\\nIt’s increasingly recognised that other factors, such as air pollution (blf.org.uk/support-for-you/air-\\npollution/effects), as well as a variety of occupations are associated with an increased risk of getting lung\\ncancer.\\nPeople who’ve never smoked are more likely to develop one particular type of lung cancer called\\nadenocarcinoma.\\nLung cancer usually affects people over the age of 60. Younger people can develop lung cancer, but this is\\nless common.\\nWhat are the symptoms of lung cancer?\\n Recently updated data from a phase IIB randomized study treating stage\\nIIIB/IV NSCLC patients with L-BLP25 showed significant improvement in the vaccine\\ngroup comparing to the supportive group (3-year survival rates: 31 vs. 17 % [241]).\\nThe efficacy of TG4010, a recombinant vaccinia virus that combines the human MUC1 and\\ninterleukin-2 coding sequences [66], in combination with cisplatin and vinorelbine or as\\nmonotherapy has been investigated in a randomized phase II study for advanced NSCLC\\npatients [242,243]. A subgroup with a detectable CD8+ T-cell response was able to generate\\nan immune response against MUC1 and had longer median survival [243].  Symptom improvement in lung cancer patients treated\\nwith erlotinib: Quality of life analysis of the national cancer institute of canada clinical trials\\ngroup study br.21. Journal of clinical oncology : official journal of the American Society of\\nClinical Oncology. 2006; 24(24):3831–3837. [PubMed: 16921034]\\n128. Ciuleanu T, Stelmakh L, Cicenas S, Miliauskas S, Grigorescu AC, Hillenbach C, Johannsdottir\\nHK, Klughammer B, Gonzalez EE. Efficacy and safety of erlotinib versus chemotherapy in\\nsecond-line treatment of patients with advanced, non-small-cell lung cancer with poor prognosis\\n(titan): A randomised multicentre, open-label, phase 3 study. Lancet Oncol. 2012; 13(3):300–\\n308. [PubMed: 22277837]\\n129. ',\n",
              "  'predicted_summary': 'Somatic mutations such as KEAP1 and STK11 are preferentially mutated in LUAD-enriched tumors. Squamous-like tumors also showed frequent MYC amplification and loss of CDKN2A, RB1 and TP53. A subgroup with a detectable CD8+ T-cell response was able to generate an immune response against MUC1 and had longer median survival.',\n",
              "  'model_name': 'facebook/bart-large-cnn'}]"
            ]
          },
          "metadata": {},
          "execution_count": 24
        }
      ]
    },
    {
      "cell_type": "code",
      "source": [
        "len(context)"
      ],
      "metadata": {
        "colab": {
          "base_uri": "https://localhost:8080/"
        },
        "id": "gh2ltR6LqwGL",
        "outputId": "f2b40b40-7ff7-4a42-db33-35edad36b48d"
      },
      "execution_count": null,
      "outputs": [
        {
          "output_type": "execute_result",
          "data": {
            "text/plain": [
              "3315"
            ]
          },
          "metadata": {},
          "execution_count": 25
        }
      ]
    },
    {
      "cell_type": "markdown",
      "source": [
        "chunk the document if the size is huge"
      ],
      "metadata": {
        "id": "x8Q4GNH46wr5"
      }
    },
    {
      "cell_type": "code",
      "source": [
        "def get_chunks(s, maxlength):\n",
        "    start = 0\n",
        "    end = 0\n",
        "    while start + maxlength  < len(s) and end != -1:\n",
        "        end = s.rfind(\" \", start, start + maxlength + 1)\n",
        "        yield s[start:end]\n",
        "        start = end +1\n",
        "    yield s[start:]\n",
        "\n",
        "chunks = get_chunks(context, 500)\n",
        "\n",
        "for n in chunks:\n",
        "  summary=summarizer.predict(context=n,model_name=\"facebook/bart-large-cnn\")\n",
        "  print(summary)"
      ],
      "metadata": {
        "colab": {
          "base_uri": "https://localhost:8080/"
        },
        "id": "VgHARMpmfvu-",
        "outputId": "b4f5a43b-2543-481f-c26e-459e1697b698"
      },
      "execution_count": null,
      "outputs": [
        {
          "output_type": "stream",
          "name": "stderr",
          "text": [
            "Your max_length is set to 142, but you input_length is only 128. You might consider decreasing max_length manually, e.g. summarizer('...', max_length=64)\n"
          ]
        },
        {
          "output_type": "stream",
          "name": "stdout",
          "text": [
            "[{'context': 'Another large\\nsystematic genomic study reclassified 12 tumor types into 11 subtypes based on the\\nsequencing data from 3527 tumor cases (DNA copy number, DNA methylation, mRNA\\nexpression, microRNA expression, protein expression and somatic point mutation). Somatic\\nmutations such as KEAP1 and STK11 are preferentially mutated in LUAD-enriched tumors\\ngroup, containing most of the lung adenocarcinoma cases, while CDKN2A, NOTCH1,\\nMLL2 and NFE2L2 were found mutated preferentially in squamous-like', 'predicted_summary': 'Another large-scale genomic study reclassified 12 tumor types into 11 subtypes. Somatic mutations such as KEAP1 and STK11 are preferentially mutated in LUAD-enriched tumors. CDKN2A, NOTCH1, MLL2 and NFE2L2 were found mutated preferently in squamous-like tumors.', 'model_name': 'facebook/bart-large-cnn'}]\n",
            "[{'context': 'tumors group\\nencompassing most of the lung squamous cell carcinoma cases. Squamous-like tumors also\\nshowed frequent MYC amplification and loss of CDKN2A, RB1 and TP53.  Takada M, Fukuoka M, Kawahara M, Sugiura T, Yokoyama A, Yokota S, Nishiwaki Y,\\nWatanabe K, Noda K, Tamura T, Fukuda H, et al. Phase iii study of concurrent versus sequential\\nthoracic radiotherapy in combination with cisplatin and etoposide for limited-stage small-cell\\nlung cancer: Results of the japan clinical oncology group', 'predicted_summary': 'Squamous-like tumors also showed frequent MYC amplification and loss of CDKN2A, RB1 and TP53. tumors group \\xa0 \\xa0 \\xa0 \\xa0 \\xa0 \\xa0 \\xa0 \\xa0encompassing most of the lung squamous cell carcinoma cases. Study of concurrent versus sequential sequential radiotherapy in combination with cisplatin and etoposide.', 'model_name': 'facebook/bart-large-cnn'}]\n",
            "[{'context': 'study 9104. Journal of clinical\\noncology : official journal of the American Society of Clinical Oncology. 2002; 20(14):3054–\\n3060. [PubMed: 12118018]\\n277. Ready NE, Dudek AZ, Pang HH, Hodgson LD, Graziano SL, Green MR, Vokes EE.  Other environmental factors, such as exposure to asbestos (blf.org.uk/support-for-\\nyou/asbestos-related-conditions/what-is-asbestos) and radon (blf.org.uk/support-for-you/indoor-air-\\npollution/causes), can increase the risk as well.\\nIt’s increasingly recognised that', 'predicted_summary': 'Other environmental factors, such as exposure to asbestos (blf.org.uk/support-for-you/asbestos-related-conditions/what-is-asbestos) and radon can increase the risk as well. Study 9104. Journal of clinicaloncology. 2002; 20(14):3054–3060. [PubMed: 12118018]', 'model_name': 'facebook/bart-large-cnn'}]\n"
          ]
        },
        {
          "output_type": "stream",
          "name": "stderr",
          "text": [
            "Your max_length is set to 142, but you input_length is only 122. You might consider decreasing max_length manually, e.g. summarizer('...', max_length=61)\n"
          ]
        },
        {
          "output_type": "stream",
          "name": "stdout",
          "text": [
            "[{'context': 'other factors, such as air pollution (blf.org.uk/support-for-you/air-\\npollution/effects), as well as a variety of occupations are associated with an increased risk of getting lung\\ncancer.\\nPeople who’ve never smoked are more likely to develop one particular type of lung cancer called\\nadenocarcinoma.\\nLung cancer usually affects people over the age of 60. Younger people can develop lung cancer, but this is\\nless common.\\nWhat are the symptoms of lung cancer?\\n Recently updated data from a phase IIB', 'predicted_summary': 'Lung cancer usually affects people over the age of 60. Younger people can develop lung cancer, but this is less common. Other factors, such as air pollution (blf.org.uk/support-for-you/air-pollution/effects), as well as a variety of occupations are associated with an increased risk.', 'model_name': 'facebook/bart-large-cnn'}]\n"
          ]
        },
        {
          "output_type": "stream",
          "name": "stderr",
          "text": [
            "Your max_length is set to 142, but you input_length is only 127. You might consider decreasing max_length manually, e.g. summarizer('...', max_length=63)\n"
          ]
        },
        {
          "output_type": "stream",
          "name": "stdout",
          "text": [
            "[{'context': 'randomized study treating stage\\nIIIB/IV NSCLC patients with L-BLP25 showed significant improvement in the vaccine\\ngroup comparing to the supportive group (3-year survival rates: 31 vs. 17 % [241]).\\nThe efficacy of TG4010, a recombinant vaccinia virus that combines the human MUC1 and\\ninterleukin-2 coding sequences [66], in combination with cisplatin and vinorelbine or as\\nmonotherapy has been investigated in a randomized phase II study for advanced NSCLC\\npatients [242,243]. A subgroup with a', 'predicted_summary': 'The efficacy of TG4010, a recombinant vaccinia virus that combines the human MUC1 and \\xa0 \\xa0 \\xa0 \\xa0 \\xa0 \\xa0 \\xa0 \\xa0interleukin-2 coding sequences, in combination with cisplatin and vinorelbine or as asmonotherapy has been investigated in a randomized phase II study for advanced NSCLC patients.', 'model_name': 'facebook/bart-large-cnn'}]\n"
          ]
        },
        {
          "output_type": "stream",
          "name": "stderr",
          "text": [
            "Your max_length is set to 142, but you input_length is only 141. You might consider decreasing max_length manually, e.g. summarizer('...', max_length=70)\n"
          ]
        },
        {
          "output_type": "stream",
          "name": "stdout",
          "text": [
            "[{'context': 'detectable CD8+ T-cell response was able to generate\\nan immune response against MUC1 and had longer median survival [243].  Symptom improvement in lung cancer patients treated\\nwith erlotinib: Quality of life analysis of the national cancer institute of canada clinical trials\\ngroup study br.21. Journal of clinical oncology : official journal of the American Society of\\nClinical Oncology. 2006; 24(24):3831–3837. [PubMed: 16921034]\\n128. Ciuleanu T, Stelmakh L, Cicenas S, Miliauskas S, Grigorescu AC,', 'predicted_summary': 'Elotinib was able to generate an immune response against MUC1 and had longer median survival. detectable CD8+ T-cell response. Patients treated with the drug had a better quality of life, according to a Canadian clinical trials study. The study was published in the Journal of clinical oncology.', 'model_name': 'facebook/bart-large-cnn'}]\n"
          ]
        },
        {
          "output_type": "stream",
          "name": "stderr",
          "text": [
            "Your max_length is set to 142, but you input_length is only 104. You might consider decreasing max_length manually, e.g. summarizer('...', max_length=52)\n"
          ]
        },
        {
          "output_type": "stream",
          "name": "stdout",
          "text": [
            "[{'context': 'Hillenbach C, Johannsdottir\\nHK, Klughammer B, Gonzalez EE. Efficacy and safety of erlotinib versus chemotherapy in\\nsecond-line treatment of patients with advanced, non-small-cell lung cancer with poor prognosis\\n(titan): A randomised multicentre, open-label, phase 3 study. Lancet Oncol. 2012; 13(3):300–\\n308. [PubMed: 22277837]\\n129. ', 'predicted_summary': 'Elotinib is being trialled in patients with non-small-cell lung cancer with poor prognosis. The study was a randomised multicentre, open-label, phase 3 study. The results of the study were published in the Lancet Oncol 2012.', 'model_name': 'facebook/bart-large-cnn'}]\n"
          ]
        }
      ]
    },
    {
      "cell_type": "code",
      "source": [],
      "metadata": {
        "id": "ytM94mXJ4l60"
      },
      "execution_count": null,
      "outputs": []
    }
  ],
  "metadata": {
    "colab": {
      "provenance": []
    },
    "gpuClass": "standard",
    "kernelspec": {
      "display_name": "Python 3",
      "name": "python3"
    },
    "language_info": {
      "name": "python"
    },
    "widgets": {
      "application/vnd.jupyter.widget-state+json": {
        "cf85e4660c984a1ab0e6cfb3a19fd24f": {
          "model_module": "@jupyter-widgets/controls",
          "model_name": "HBoxModel",
          "model_module_version": "1.5.0",
          "state": {
            "_dom_classes": [],
            "_model_module": "@jupyter-widgets/controls",
            "_model_module_version": "1.5.0",
            "_model_name": "HBoxModel",
            "_view_count": null,
            "_view_module": "@jupyter-widgets/controls",
            "_view_module_version": "1.5.0",
            "_view_name": "HBoxView",
            "box_style": "",
            "children": [
              "IPY_MODEL_3bfa12f966e5430aaf309e3edc83a831",
              "IPY_MODEL_6c7ae261c879422fb5a268eea11bec20",
              "IPY_MODEL_7acfd28f6d9c48229625f68a20ae408a"
            ],
            "layout": "IPY_MODEL_7b0af9f7a347424eb0e5e54fff906512"
          }
        },
        "3bfa12f966e5430aaf309e3edc83a831": {
          "model_module": "@jupyter-widgets/controls",
          "model_name": "HTMLModel",
          "model_module_version": "1.5.0",
          "state": {
            "_dom_classes": [],
            "_model_module": "@jupyter-widgets/controls",
            "_model_module_version": "1.5.0",
            "_model_name": "HTMLModel",
            "_view_count": null,
            "_view_module": "@jupyter-widgets/controls",
            "_view_module_version": "1.5.0",
            "_view_name": "HTMLView",
            "description": "",
            "description_tooltip": null,
            "layout": "IPY_MODEL_54cdaba8dd6344e9ada90259fe56e89b",
            "placeholder": "​",
            "style": "IPY_MODEL_1e5e0a488bb94eed872bdb6b5c097cea",
            "value": "Updating BM25 representation...: 100%"
          }
        },
        "6c7ae261c879422fb5a268eea11bec20": {
          "model_module": "@jupyter-widgets/controls",
          "model_name": "FloatProgressModel",
          "model_module_version": "1.5.0",
          "state": {
            "_dom_classes": [],
            "_model_module": "@jupyter-widgets/controls",
            "_model_module_version": "1.5.0",
            "_model_name": "FloatProgressModel",
            "_view_count": null,
            "_view_module": "@jupyter-widgets/controls",
            "_view_module_version": "1.5.0",
            "_view_name": "ProgressView",
            "bar_style": "success",
            "description": "",
            "description_tooltip": null,
            "layout": "IPY_MODEL_eb8e075aa5ac42809c30d67a30ed3ef9",
            "max": 10,
            "min": 0,
            "orientation": "horizontal",
            "style": "IPY_MODEL_e15b749b943d4c72a4512f6f029881d0",
            "value": 10
          }
        },
        "7acfd28f6d9c48229625f68a20ae408a": {
          "model_module": "@jupyter-widgets/controls",
          "model_name": "HTMLModel",
          "model_module_version": "1.5.0",
          "state": {
            "_dom_classes": [],
            "_model_module": "@jupyter-widgets/controls",
            "_model_module_version": "1.5.0",
            "_model_name": "HTMLModel",
            "_view_count": null,
            "_view_module": "@jupyter-widgets/controls",
            "_view_module_version": "1.5.0",
            "_view_name": "HTMLView",
            "description": "",
            "description_tooltip": null,
            "layout": "IPY_MODEL_c97e73b890374fd5baccef2c8c6497b8",
            "placeholder": "​",
            "style": "IPY_MODEL_ac363a84d0044f038012bda6cd58245a",
            "value": " 10/10 [00:00&lt;00:00, 239.45 docs/s]"
          }
        },
        "7b0af9f7a347424eb0e5e54fff906512": {
          "model_module": "@jupyter-widgets/base",
          "model_name": "LayoutModel",
          "model_module_version": "1.2.0",
          "state": {
            "_model_module": "@jupyter-widgets/base",
            "_model_module_version": "1.2.0",
            "_model_name": "LayoutModel",
            "_view_count": null,
            "_view_module": "@jupyter-widgets/base",
            "_view_module_version": "1.2.0",
            "_view_name": "LayoutView",
            "align_content": null,
            "align_items": null,
            "align_self": null,
            "border": null,
            "bottom": null,
            "display": null,
            "flex": null,
            "flex_flow": null,
            "grid_area": null,
            "grid_auto_columns": null,
            "grid_auto_flow": null,
            "grid_auto_rows": null,
            "grid_column": null,
            "grid_gap": null,
            "grid_row": null,
            "grid_template_areas": null,
            "grid_template_columns": null,
            "grid_template_rows": null,
            "height": null,
            "justify_content": null,
            "justify_items": null,
            "left": null,
            "margin": null,
            "max_height": null,
            "max_width": null,
            "min_height": null,
            "min_width": null,
            "object_fit": null,
            "object_position": null,
            "order": null,
            "overflow": null,
            "overflow_x": null,
            "overflow_y": null,
            "padding": null,
            "right": null,
            "top": null,
            "visibility": null,
            "width": null
          }
        },
        "54cdaba8dd6344e9ada90259fe56e89b": {
          "model_module": "@jupyter-widgets/base",
          "model_name": "LayoutModel",
          "model_module_version": "1.2.0",
          "state": {
            "_model_module": "@jupyter-widgets/base",
            "_model_module_version": "1.2.0",
            "_model_name": "LayoutModel",
            "_view_count": null,
            "_view_module": "@jupyter-widgets/base",
            "_view_module_version": "1.2.0",
            "_view_name": "LayoutView",
            "align_content": null,
            "align_items": null,
            "align_self": null,
            "border": null,
            "bottom": null,
            "display": null,
            "flex": null,
            "flex_flow": null,
            "grid_area": null,
            "grid_auto_columns": null,
            "grid_auto_flow": null,
            "grid_auto_rows": null,
            "grid_column": null,
            "grid_gap": null,
            "grid_row": null,
            "grid_template_areas": null,
            "grid_template_columns": null,
            "grid_template_rows": null,
            "height": null,
            "justify_content": null,
            "justify_items": null,
            "left": null,
            "margin": null,
            "max_height": null,
            "max_width": null,
            "min_height": null,
            "min_width": null,
            "object_fit": null,
            "object_position": null,
            "order": null,
            "overflow": null,
            "overflow_x": null,
            "overflow_y": null,
            "padding": null,
            "right": null,
            "top": null,
            "visibility": null,
            "width": null
          }
        },
        "1e5e0a488bb94eed872bdb6b5c097cea": {
          "model_module": "@jupyter-widgets/controls",
          "model_name": "DescriptionStyleModel",
          "model_module_version": "1.5.0",
          "state": {
            "_model_module": "@jupyter-widgets/controls",
            "_model_module_version": "1.5.0",
            "_model_name": "DescriptionStyleModel",
            "_view_count": null,
            "_view_module": "@jupyter-widgets/base",
            "_view_module_version": "1.2.0",
            "_view_name": "StyleView",
            "description_width": ""
          }
        },
        "eb8e075aa5ac42809c30d67a30ed3ef9": {
          "model_module": "@jupyter-widgets/base",
          "model_name": "LayoutModel",
          "model_module_version": "1.2.0",
          "state": {
            "_model_module": "@jupyter-widgets/base",
            "_model_module_version": "1.2.0",
            "_model_name": "LayoutModel",
            "_view_count": null,
            "_view_module": "@jupyter-widgets/base",
            "_view_module_version": "1.2.0",
            "_view_name": "LayoutView",
            "align_content": null,
            "align_items": null,
            "align_self": null,
            "border": null,
            "bottom": null,
            "display": null,
            "flex": null,
            "flex_flow": null,
            "grid_area": null,
            "grid_auto_columns": null,
            "grid_auto_flow": null,
            "grid_auto_rows": null,
            "grid_column": null,
            "grid_gap": null,
            "grid_row": null,
            "grid_template_areas": null,
            "grid_template_columns": null,
            "grid_template_rows": null,
            "height": null,
            "justify_content": null,
            "justify_items": null,
            "left": null,
            "margin": null,
            "max_height": null,
            "max_width": null,
            "min_height": null,
            "min_width": null,
            "object_fit": null,
            "object_position": null,
            "order": null,
            "overflow": null,
            "overflow_x": null,
            "overflow_y": null,
            "padding": null,
            "right": null,
            "top": null,
            "visibility": null,
            "width": null
          }
        },
        "e15b749b943d4c72a4512f6f029881d0": {
          "model_module": "@jupyter-widgets/controls",
          "model_name": "ProgressStyleModel",
          "model_module_version": "1.5.0",
          "state": {
            "_model_module": "@jupyter-widgets/controls",
            "_model_module_version": "1.5.0",
            "_model_name": "ProgressStyleModel",
            "_view_count": null,
            "_view_module": "@jupyter-widgets/base",
            "_view_module_version": "1.2.0",
            "_view_name": "StyleView",
            "bar_color": null,
            "description_width": ""
          }
        },
        "c97e73b890374fd5baccef2c8c6497b8": {
          "model_module": "@jupyter-widgets/base",
          "model_name": "LayoutModel",
          "model_module_version": "1.2.0",
          "state": {
            "_model_module": "@jupyter-widgets/base",
            "_model_module_version": "1.2.0",
            "_model_name": "LayoutModel",
            "_view_count": null,
            "_view_module": "@jupyter-widgets/base",
            "_view_module_version": "1.2.0",
            "_view_name": "LayoutView",
            "align_content": null,
            "align_items": null,
            "align_self": null,
            "border": null,
            "bottom": null,
            "display": null,
            "flex": null,
            "flex_flow": null,
            "grid_area": null,
            "grid_auto_columns": null,
            "grid_auto_flow": null,
            "grid_auto_rows": null,
            "grid_column": null,
            "grid_gap": null,
            "grid_row": null,
            "grid_template_areas": null,
            "grid_template_columns": null,
            "grid_template_rows": null,
            "height": null,
            "justify_content": null,
            "justify_items": null,
            "left": null,
            "margin": null,
            "max_height": null,
            "max_width": null,
            "min_height": null,
            "min_width": null,
            "object_fit": null,
            "object_position": null,
            "order": null,
            "overflow": null,
            "overflow_x": null,
            "overflow_y": null,
            "padding": null,
            "right": null,
            "top": null,
            "visibility": null,
            "width": null
          }
        },
        "ac363a84d0044f038012bda6cd58245a": {
          "model_module": "@jupyter-widgets/controls",
          "model_name": "DescriptionStyleModel",
          "model_module_version": "1.5.0",
          "state": {
            "_model_module": "@jupyter-widgets/controls",
            "_model_module_version": "1.5.0",
            "_model_name": "DescriptionStyleModel",
            "_view_count": null,
            "_view_module": "@jupyter-widgets/base",
            "_view_module_version": "1.2.0",
            "_view_name": "StyleView",
            "description_width": ""
          }
        },
        "bd29a19a116a4bd4953d00884db550a1": {
          "model_module": "@jupyter-widgets/controls",
          "model_name": "HBoxModel",
          "model_module_version": "1.5.0",
          "state": {
            "_dom_classes": [],
            "_model_module": "@jupyter-widgets/controls",
            "_model_module_version": "1.5.0",
            "_model_name": "HBoxModel",
            "_view_count": null,
            "_view_module": "@jupyter-widgets/controls",
            "_view_module_version": "1.5.0",
            "_view_name": "HBoxView",
            "box_style": "",
            "children": [
              "IPY_MODEL_8c747c90228543bb9d62f9e14bc1f1c0",
              "IPY_MODEL_6efe8d86baca44f8bd74809a7dd60324",
              "IPY_MODEL_65b264bdfd244dffa9154581a363bc83"
            ],
            "layout": "IPY_MODEL_fc29d9e505e646b2ba05532901260f9d"
          }
        },
        "8c747c90228543bb9d62f9e14bc1f1c0": {
          "model_module": "@jupyter-widgets/controls",
          "model_name": "HTMLModel",
          "model_module_version": "1.5.0",
          "state": {
            "_dom_classes": [],
            "_model_module": "@jupyter-widgets/controls",
            "_model_module_version": "1.5.0",
            "_model_name": "HTMLModel",
            "_view_count": null,
            "_view_module": "@jupyter-widgets/controls",
            "_view_module_version": "1.5.0",
            "_view_name": "HTMLView",
            "description": "",
            "description_tooltip": null,
            "layout": "IPY_MODEL_bac5fefa535f46f68487955c833136f8",
            "placeholder": "​",
            "style": "IPY_MODEL_58f2006900e34951a91fba4bb30ef68e",
            "value": "Updating BM25 representation...: 100%"
          }
        },
        "6efe8d86baca44f8bd74809a7dd60324": {
          "model_module": "@jupyter-widgets/controls",
          "model_name": "FloatProgressModel",
          "model_module_version": "1.5.0",
          "state": {
            "_dom_classes": [],
            "_model_module": "@jupyter-widgets/controls",
            "_model_module_version": "1.5.0",
            "_model_name": "FloatProgressModel",
            "_view_count": null,
            "_view_module": "@jupyter-widgets/controls",
            "_view_module_version": "1.5.0",
            "_view_name": "ProgressView",
            "bar_style": "success",
            "description": "",
            "description_tooltip": null,
            "layout": "IPY_MODEL_8dfa04338b43464aa66b3b626ad7e06d",
            "max": 29,
            "min": 0,
            "orientation": "horizontal",
            "style": "IPY_MODEL_c1e02396c09c4f0a9074cabe5e79605a",
            "value": 29
          }
        },
        "65b264bdfd244dffa9154581a363bc83": {
          "model_module": "@jupyter-widgets/controls",
          "model_name": "HTMLModel",
          "model_module_version": "1.5.0",
          "state": {
            "_dom_classes": [],
            "_model_module": "@jupyter-widgets/controls",
            "_model_module_version": "1.5.0",
            "_model_name": "HTMLModel",
            "_view_count": null,
            "_view_module": "@jupyter-widgets/controls",
            "_view_module_version": "1.5.0",
            "_view_name": "HTMLView",
            "description": "",
            "description_tooltip": null,
            "layout": "IPY_MODEL_27a83f7f8781437ba939dad248e2950b",
            "placeholder": "​",
            "style": "IPY_MODEL_b63a6aa460b14c40917892b0ebd96b12",
            "value": " 29/29 [00:00&lt;00:00, 1003.94 docs/s]"
          }
        },
        "fc29d9e505e646b2ba05532901260f9d": {
          "model_module": "@jupyter-widgets/base",
          "model_name": "LayoutModel",
          "model_module_version": "1.2.0",
          "state": {
            "_model_module": "@jupyter-widgets/base",
            "_model_module_version": "1.2.0",
            "_model_name": "LayoutModel",
            "_view_count": null,
            "_view_module": "@jupyter-widgets/base",
            "_view_module_version": "1.2.0",
            "_view_name": "LayoutView",
            "align_content": null,
            "align_items": null,
            "align_self": null,
            "border": null,
            "bottom": null,
            "display": null,
            "flex": null,
            "flex_flow": null,
            "grid_area": null,
            "grid_auto_columns": null,
            "grid_auto_flow": null,
            "grid_auto_rows": null,
            "grid_column": null,
            "grid_gap": null,
            "grid_row": null,
            "grid_template_areas": null,
            "grid_template_columns": null,
            "grid_template_rows": null,
            "height": null,
            "justify_content": null,
            "justify_items": null,
            "left": null,
            "margin": null,
            "max_height": null,
            "max_width": null,
            "min_height": null,
            "min_width": null,
            "object_fit": null,
            "object_position": null,
            "order": null,
            "overflow": null,
            "overflow_x": null,
            "overflow_y": null,
            "padding": null,
            "right": null,
            "top": null,
            "visibility": null,
            "width": null
          }
        },
        "bac5fefa535f46f68487955c833136f8": {
          "model_module": "@jupyter-widgets/base",
          "model_name": "LayoutModel",
          "model_module_version": "1.2.0",
          "state": {
            "_model_module": "@jupyter-widgets/base",
            "_model_module_version": "1.2.0",
            "_model_name": "LayoutModel",
            "_view_count": null,
            "_view_module": "@jupyter-widgets/base",
            "_view_module_version": "1.2.0",
            "_view_name": "LayoutView",
            "align_content": null,
            "align_items": null,
            "align_self": null,
            "border": null,
            "bottom": null,
            "display": null,
            "flex": null,
            "flex_flow": null,
            "grid_area": null,
            "grid_auto_columns": null,
            "grid_auto_flow": null,
            "grid_auto_rows": null,
            "grid_column": null,
            "grid_gap": null,
            "grid_row": null,
            "grid_template_areas": null,
            "grid_template_columns": null,
            "grid_template_rows": null,
            "height": null,
            "justify_content": null,
            "justify_items": null,
            "left": null,
            "margin": null,
            "max_height": null,
            "max_width": null,
            "min_height": null,
            "min_width": null,
            "object_fit": null,
            "object_position": null,
            "order": null,
            "overflow": null,
            "overflow_x": null,
            "overflow_y": null,
            "padding": null,
            "right": null,
            "top": null,
            "visibility": null,
            "width": null
          }
        },
        "58f2006900e34951a91fba4bb30ef68e": {
          "model_module": "@jupyter-widgets/controls",
          "model_name": "DescriptionStyleModel",
          "model_module_version": "1.5.0",
          "state": {
            "_model_module": "@jupyter-widgets/controls",
            "_model_module_version": "1.5.0",
            "_model_name": "DescriptionStyleModel",
            "_view_count": null,
            "_view_module": "@jupyter-widgets/base",
            "_view_module_version": "1.2.0",
            "_view_name": "StyleView",
            "description_width": ""
          }
        },
        "8dfa04338b43464aa66b3b626ad7e06d": {
          "model_module": "@jupyter-widgets/base",
          "model_name": "LayoutModel",
          "model_module_version": "1.2.0",
          "state": {
            "_model_module": "@jupyter-widgets/base",
            "_model_module_version": "1.2.0",
            "_model_name": "LayoutModel",
            "_view_count": null,
            "_view_module": "@jupyter-widgets/base",
            "_view_module_version": "1.2.0",
            "_view_name": "LayoutView",
            "align_content": null,
            "align_items": null,
            "align_self": null,
            "border": null,
            "bottom": null,
            "display": null,
            "flex": null,
            "flex_flow": null,
            "grid_area": null,
            "grid_auto_columns": null,
            "grid_auto_flow": null,
            "grid_auto_rows": null,
            "grid_column": null,
            "grid_gap": null,
            "grid_row": null,
            "grid_template_areas": null,
            "grid_template_columns": null,
            "grid_template_rows": null,
            "height": null,
            "justify_content": null,
            "justify_items": null,
            "left": null,
            "margin": null,
            "max_height": null,
            "max_width": null,
            "min_height": null,
            "min_width": null,
            "object_fit": null,
            "object_position": null,
            "order": null,
            "overflow": null,
            "overflow_x": null,
            "overflow_y": null,
            "padding": null,
            "right": null,
            "top": null,
            "visibility": null,
            "width": null
          }
        },
        "c1e02396c09c4f0a9074cabe5e79605a": {
          "model_module": "@jupyter-widgets/controls",
          "model_name": "ProgressStyleModel",
          "model_module_version": "1.5.0",
          "state": {
            "_model_module": "@jupyter-widgets/controls",
            "_model_module_version": "1.5.0",
            "_model_name": "ProgressStyleModel",
            "_view_count": null,
            "_view_module": "@jupyter-widgets/base",
            "_view_module_version": "1.2.0",
            "_view_name": "StyleView",
            "bar_color": null,
            "description_width": ""
          }
        },
        "27a83f7f8781437ba939dad248e2950b": {
          "model_module": "@jupyter-widgets/base",
          "model_name": "LayoutModel",
          "model_module_version": "1.2.0",
          "state": {
            "_model_module": "@jupyter-widgets/base",
            "_model_module_version": "1.2.0",
            "_model_name": "LayoutModel",
            "_view_count": null,
            "_view_module": "@jupyter-widgets/base",
            "_view_module_version": "1.2.0",
            "_view_name": "LayoutView",
            "align_content": null,
            "align_items": null,
            "align_self": null,
            "border": null,
            "bottom": null,
            "display": null,
            "flex": null,
            "flex_flow": null,
            "grid_area": null,
            "grid_auto_columns": null,
            "grid_auto_flow": null,
            "grid_auto_rows": null,
            "grid_column": null,
            "grid_gap": null,
            "grid_row": null,
            "grid_template_areas": null,
            "grid_template_columns": null,
            "grid_template_rows": null,
            "height": null,
            "justify_content": null,
            "justify_items": null,
            "left": null,
            "margin": null,
            "max_height": null,
            "max_width": null,
            "min_height": null,
            "min_width": null,
            "object_fit": null,
            "object_position": null,
            "order": null,
            "overflow": null,
            "overflow_x": null,
            "overflow_y": null,
            "padding": null,
            "right": null,
            "top": null,
            "visibility": null,
            "width": null
          }
        },
        "b63a6aa460b14c40917892b0ebd96b12": {
          "model_module": "@jupyter-widgets/controls",
          "model_name": "DescriptionStyleModel",
          "model_module_version": "1.5.0",
          "state": {
            "_model_module": "@jupyter-widgets/controls",
            "_model_module_version": "1.5.0",
            "_model_name": "DescriptionStyleModel",
            "_view_count": null,
            "_view_module": "@jupyter-widgets/base",
            "_view_module_version": "1.2.0",
            "_view_name": "StyleView",
            "description_width": ""
          }
        },
        "1abe5ac61e5f4eedacb48ba97a616979": {
          "model_module": "@jupyter-widgets/controls",
          "model_name": "HBoxModel",
          "model_module_version": "1.5.0",
          "state": {
            "_dom_classes": [],
            "_model_module": "@jupyter-widgets/controls",
            "_model_module_version": "1.5.0",
            "_model_name": "HBoxModel",
            "_view_count": null,
            "_view_module": "@jupyter-widgets/controls",
            "_view_module_version": "1.5.0",
            "_view_name": "HBoxView",
            "box_style": "",
            "children": [
              "IPY_MODEL_a33eb402da6d4975afebad2467f516df",
              "IPY_MODEL_f981daa27a2d4536b5460a43a8eb4064",
              "IPY_MODEL_3b2b7105a3ea4c0f9a65341c3bcc6339"
            ],
            "layout": "IPY_MODEL_5734a9ea36d642d6862b442548f8892a"
          }
        },
        "a33eb402da6d4975afebad2467f516df": {
          "model_module": "@jupyter-widgets/controls",
          "model_name": "HTMLModel",
          "model_module_version": "1.5.0",
          "state": {
            "_dom_classes": [],
            "_model_module": "@jupyter-widgets/controls",
            "_model_module_version": "1.5.0",
            "_model_name": "HTMLModel",
            "_view_count": null,
            "_view_module": "@jupyter-widgets/controls",
            "_view_module_version": "1.5.0",
            "_view_name": "HTMLView",
            "description": "",
            "description_tooltip": null,
            "layout": "IPY_MODEL_51933598ccf94b1aae464a9a8bdb992b",
            "placeholder": "​",
            "style": "IPY_MODEL_0223d0b506f6467381a9d5abc84ae721",
            "value": "Updating BM25 representation...: 100%"
          }
        },
        "f981daa27a2d4536b5460a43a8eb4064": {
          "model_module": "@jupyter-widgets/controls",
          "model_name": "FloatProgressModel",
          "model_module_version": "1.5.0",
          "state": {
            "_dom_classes": [],
            "_model_module": "@jupyter-widgets/controls",
            "_model_module_version": "1.5.0",
            "_model_name": "FloatProgressModel",
            "_view_count": null,
            "_view_module": "@jupyter-widgets/controls",
            "_view_module_version": "1.5.0",
            "_view_name": "ProgressView",
            "bar_style": "success",
            "description": "",
            "description_tooltip": null,
            "layout": "IPY_MODEL_7a4dd39d58874db386dba5ba5697e9c2",
            "max": 55,
            "min": 0,
            "orientation": "horizontal",
            "style": "IPY_MODEL_051ef3c31b7941b08caf429baa8e8d78",
            "value": 55
          }
        },
        "3b2b7105a3ea4c0f9a65341c3bcc6339": {
          "model_module": "@jupyter-widgets/controls",
          "model_name": "HTMLModel",
          "model_module_version": "1.5.0",
          "state": {
            "_dom_classes": [],
            "_model_module": "@jupyter-widgets/controls",
            "_model_module_version": "1.5.0",
            "_model_name": "HTMLModel",
            "_view_count": null,
            "_view_module": "@jupyter-widgets/controls",
            "_view_module_version": "1.5.0",
            "_view_name": "HTMLView",
            "description": "",
            "description_tooltip": null,
            "layout": "IPY_MODEL_f780aae5a20e497dabf4b000a026b762",
            "placeholder": "​",
            "style": "IPY_MODEL_2b41b7f1195947748bcb15ac14c85ea1",
            "value": " 55/55 [00:00&lt;00:00, 1735.23 docs/s]"
          }
        },
        "5734a9ea36d642d6862b442548f8892a": {
          "model_module": "@jupyter-widgets/base",
          "model_name": "LayoutModel",
          "model_module_version": "1.2.0",
          "state": {
            "_model_module": "@jupyter-widgets/base",
            "_model_module_version": "1.2.0",
            "_model_name": "LayoutModel",
            "_view_count": null,
            "_view_module": "@jupyter-widgets/base",
            "_view_module_version": "1.2.0",
            "_view_name": "LayoutView",
            "align_content": null,
            "align_items": null,
            "align_self": null,
            "border": null,
            "bottom": null,
            "display": null,
            "flex": null,
            "flex_flow": null,
            "grid_area": null,
            "grid_auto_columns": null,
            "grid_auto_flow": null,
            "grid_auto_rows": null,
            "grid_column": null,
            "grid_gap": null,
            "grid_row": null,
            "grid_template_areas": null,
            "grid_template_columns": null,
            "grid_template_rows": null,
            "height": null,
            "justify_content": null,
            "justify_items": null,
            "left": null,
            "margin": null,
            "max_height": null,
            "max_width": null,
            "min_height": null,
            "min_width": null,
            "object_fit": null,
            "object_position": null,
            "order": null,
            "overflow": null,
            "overflow_x": null,
            "overflow_y": null,
            "padding": null,
            "right": null,
            "top": null,
            "visibility": null,
            "width": null
          }
        },
        "51933598ccf94b1aae464a9a8bdb992b": {
          "model_module": "@jupyter-widgets/base",
          "model_name": "LayoutModel",
          "model_module_version": "1.2.0",
          "state": {
            "_model_module": "@jupyter-widgets/base",
            "_model_module_version": "1.2.0",
            "_model_name": "LayoutModel",
            "_view_count": null,
            "_view_module": "@jupyter-widgets/base",
            "_view_module_version": "1.2.0",
            "_view_name": "LayoutView",
            "align_content": null,
            "align_items": null,
            "align_self": null,
            "border": null,
            "bottom": null,
            "display": null,
            "flex": null,
            "flex_flow": null,
            "grid_area": null,
            "grid_auto_columns": null,
            "grid_auto_flow": null,
            "grid_auto_rows": null,
            "grid_column": null,
            "grid_gap": null,
            "grid_row": null,
            "grid_template_areas": null,
            "grid_template_columns": null,
            "grid_template_rows": null,
            "height": null,
            "justify_content": null,
            "justify_items": null,
            "left": null,
            "margin": null,
            "max_height": null,
            "max_width": null,
            "min_height": null,
            "min_width": null,
            "object_fit": null,
            "object_position": null,
            "order": null,
            "overflow": null,
            "overflow_x": null,
            "overflow_y": null,
            "padding": null,
            "right": null,
            "top": null,
            "visibility": null,
            "width": null
          }
        },
        "0223d0b506f6467381a9d5abc84ae721": {
          "model_module": "@jupyter-widgets/controls",
          "model_name": "DescriptionStyleModel",
          "model_module_version": "1.5.0",
          "state": {
            "_model_module": "@jupyter-widgets/controls",
            "_model_module_version": "1.5.0",
            "_model_name": "DescriptionStyleModel",
            "_view_count": null,
            "_view_module": "@jupyter-widgets/base",
            "_view_module_version": "1.2.0",
            "_view_name": "StyleView",
            "description_width": ""
          }
        },
        "7a4dd39d58874db386dba5ba5697e9c2": {
          "model_module": "@jupyter-widgets/base",
          "model_name": "LayoutModel",
          "model_module_version": "1.2.0",
          "state": {
            "_model_module": "@jupyter-widgets/base",
            "_model_module_version": "1.2.0",
            "_model_name": "LayoutModel",
            "_view_count": null,
            "_view_module": "@jupyter-widgets/base",
            "_view_module_version": "1.2.0",
            "_view_name": "LayoutView",
            "align_content": null,
            "align_items": null,
            "align_self": null,
            "border": null,
            "bottom": null,
            "display": null,
            "flex": null,
            "flex_flow": null,
            "grid_area": null,
            "grid_auto_columns": null,
            "grid_auto_flow": null,
            "grid_auto_rows": null,
            "grid_column": null,
            "grid_gap": null,
            "grid_row": null,
            "grid_template_areas": null,
            "grid_template_columns": null,
            "grid_template_rows": null,
            "height": null,
            "justify_content": null,
            "justify_items": null,
            "left": null,
            "margin": null,
            "max_height": null,
            "max_width": null,
            "min_height": null,
            "min_width": null,
            "object_fit": null,
            "object_position": null,
            "order": null,
            "overflow": null,
            "overflow_x": null,
            "overflow_y": null,
            "padding": null,
            "right": null,
            "top": null,
            "visibility": null,
            "width": null
          }
        },
        "051ef3c31b7941b08caf429baa8e8d78": {
          "model_module": "@jupyter-widgets/controls",
          "model_name": "ProgressStyleModel",
          "model_module_version": "1.5.0",
          "state": {
            "_model_module": "@jupyter-widgets/controls",
            "_model_module_version": "1.5.0",
            "_model_name": "ProgressStyleModel",
            "_view_count": null,
            "_view_module": "@jupyter-widgets/base",
            "_view_module_version": "1.2.0",
            "_view_name": "StyleView",
            "bar_color": null,
            "description_width": ""
          }
        },
        "f780aae5a20e497dabf4b000a026b762": {
          "model_module": "@jupyter-widgets/base",
          "model_name": "LayoutModel",
          "model_module_version": "1.2.0",
          "state": {
            "_model_module": "@jupyter-widgets/base",
            "_model_module_version": "1.2.0",
            "_model_name": "LayoutModel",
            "_view_count": null,
            "_view_module": "@jupyter-widgets/base",
            "_view_module_version": "1.2.0",
            "_view_name": "LayoutView",
            "align_content": null,
            "align_items": null,
            "align_self": null,
            "border": null,
            "bottom": null,
            "display": null,
            "flex": null,
            "flex_flow": null,
            "grid_area": null,
            "grid_auto_columns": null,
            "grid_auto_flow": null,
            "grid_auto_rows": null,
            "grid_column": null,
            "grid_gap": null,
            "grid_row": null,
            "grid_template_areas": null,
            "grid_template_columns": null,
            "grid_template_rows": null,
            "height": null,
            "justify_content": null,
            "justify_items": null,
            "left": null,
            "margin": null,
            "max_height": null,
            "max_width": null,
            "min_height": null,
            "min_width": null,
            "object_fit": null,
            "object_position": null,
            "order": null,
            "overflow": null,
            "overflow_x": null,
            "overflow_y": null,
            "padding": null,
            "right": null,
            "top": null,
            "visibility": null,
            "width": null
          }
        },
        "2b41b7f1195947748bcb15ac14c85ea1": {
          "model_module": "@jupyter-widgets/controls",
          "model_name": "DescriptionStyleModel",
          "model_module_version": "1.5.0",
          "state": {
            "_model_module": "@jupyter-widgets/controls",
            "_model_module_version": "1.5.0",
            "_model_name": "DescriptionStyleModel",
            "_view_count": null,
            "_view_module": "@jupyter-widgets/base",
            "_view_module_version": "1.2.0",
            "_view_name": "StyleView",
            "description_width": ""
          }
        },
        "84cac71ed13341818fcb9ce1d4869670": {
          "model_module": "@jupyter-widgets/controls",
          "model_name": "HBoxModel",
          "model_module_version": "1.5.0",
          "state": {
            "_dom_classes": [],
            "_model_module": "@jupyter-widgets/controls",
            "_model_module_version": "1.5.0",
            "_model_name": "HBoxModel",
            "_view_count": null,
            "_view_module": "@jupyter-widgets/controls",
            "_view_module_version": "1.5.0",
            "_view_name": "HBoxView",
            "box_style": "",
            "children": [
              "IPY_MODEL_e6aa0406e9304b0bba650ddbfbca195a",
              "IPY_MODEL_bab4e726f35a4731ba17cf7513785577",
              "IPY_MODEL_c10f1af8187344d3807de25dc4936e76"
            ],
            "layout": "IPY_MODEL_6e0eb0a8e2d74abca932b9d3f0ef0061"
          }
        },
        "e6aa0406e9304b0bba650ddbfbca195a": {
          "model_module": "@jupyter-widgets/controls",
          "model_name": "HTMLModel",
          "model_module_version": "1.5.0",
          "state": {
            "_dom_classes": [],
            "_model_module": "@jupyter-widgets/controls",
            "_model_module_version": "1.5.0",
            "_model_name": "HTMLModel",
            "_view_count": null,
            "_view_module": "@jupyter-widgets/controls",
            "_view_module_version": "1.5.0",
            "_view_name": "HTMLView",
            "description": "",
            "description_tooltip": null,
            "layout": "IPY_MODEL_a3f66df8168e40d9a59aae9799c63d4a",
            "placeholder": "​",
            "style": "IPY_MODEL_6eb12a4aee394df28d5fcf213e9337c8",
            "value": "Updating BM25 representation...: 100%"
          }
        },
        "bab4e726f35a4731ba17cf7513785577": {
          "model_module": "@jupyter-widgets/controls",
          "model_name": "FloatProgressModel",
          "model_module_version": "1.5.0",
          "state": {
            "_dom_classes": [],
            "_model_module": "@jupyter-widgets/controls",
            "_model_module_version": "1.5.0",
            "_model_name": "FloatProgressModel",
            "_view_count": null,
            "_view_module": "@jupyter-widgets/controls",
            "_view_module_version": "1.5.0",
            "_view_name": "ProgressView",
            "bar_style": "success",
            "description": "",
            "description_tooltip": null,
            "layout": "IPY_MODEL_f2fb8b25c2154a359dd9ed523c96ffc5",
            "max": 71,
            "min": 0,
            "orientation": "horizontal",
            "style": "IPY_MODEL_633ab6af214342f1880e040d43503e0c",
            "value": 71
          }
        },
        "c10f1af8187344d3807de25dc4936e76": {
          "model_module": "@jupyter-widgets/controls",
          "model_name": "HTMLModel",
          "model_module_version": "1.5.0",
          "state": {
            "_dom_classes": [],
            "_model_module": "@jupyter-widgets/controls",
            "_model_module_version": "1.5.0",
            "_model_name": "HTMLModel",
            "_view_count": null,
            "_view_module": "@jupyter-widgets/controls",
            "_view_module_version": "1.5.0",
            "_view_name": "HTMLView",
            "description": "",
            "description_tooltip": null,
            "layout": "IPY_MODEL_a08adfeb1f7d49f880252406e4f43722",
            "placeholder": "​",
            "style": "IPY_MODEL_5bc3f6886ed443af9e18c6d3bfc728a3",
            "value": " 71/71 [00:00&lt;00:00, 2007.10 docs/s]"
          }
        },
        "6e0eb0a8e2d74abca932b9d3f0ef0061": {
          "model_module": "@jupyter-widgets/base",
          "model_name": "LayoutModel",
          "model_module_version": "1.2.0",
          "state": {
            "_model_module": "@jupyter-widgets/base",
            "_model_module_version": "1.2.0",
            "_model_name": "LayoutModel",
            "_view_count": null,
            "_view_module": "@jupyter-widgets/base",
            "_view_module_version": "1.2.0",
            "_view_name": "LayoutView",
            "align_content": null,
            "align_items": null,
            "align_self": null,
            "border": null,
            "bottom": null,
            "display": null,
            "flex": null,
            "flex_flow": null,
            "grid_area": null,
            "grid_auto_columns": null,
            "grid_auto_flow": null,
            "grid_auto_rows": null,
            "grid_column": null,
            "grid_gap": null,
            "grid_row": null,
            "grid_template_areas": null,
            "grid_template_columns": null,
            "grid_template_rows": null,
            "height": null,
            "justify_content": null,
            "justify_items": null,
            "left": null,
            "margin": null,
            "max_height": null,
            "max_width": null,
            "min_height": null,
            "min_width": null,
            "object_fit": null,
            "object_position": null,
            "order": null,
            "overflow": null,
            "overflow_x": null,
            "overflow_y": null,
            "padding": null,
            "right": null,
            "top": null,
            "visibility": null,
            "width": null
          }
        },
        "a3f66df8168e40d9a59aae9799c63d4a": {
          "model_module": "@jupyter-widgets/base",
          "model_name": "LayoutModel",
          "model_module_version": "1.2.0",
          "state": {
            "_model_module": "@jupyter-widgets/base",
            "_model_module_version": "1.2.0",
            "_model_name": "LayoutModel",
            "_view_count": null,
            "_view_module": "@jupyter-widgets/base",
            "_view_module_version": "1.2.0",
            "_view_name": "LayoutView",
            "align_content": null,
            "align_items": null,
            "align_self": null,
            "border": null,
            "bottom": null,
            "display": null,
            "flex": null,
            "flex_flow": null,
            "grid_area": null,
            "grid_auto_columns": null,
            "grid_auto_flow": null,
            "grid_auto_rows": null,
            "grid_column": null,
            "grid_gap": null,
            "grid_row": null,
            "grid_template_areas": null,
            "grid_template_columns": null,
            "grid_template_rows": null,
            "height": null,
            "justify_content": null,
            "justify_items": null,
            "left": null,
            "margin": null,
            "max_height": null,
            "max_width": null,
            "min_height": null,
            "min_width": null,
            "object_fit": null,
            "object_position": null,
            "order": null,
            "overflow": null,
            "overflow_x": null,
            "overflow_y": null,
            "padding": null,
            "right": null,
            "top": null,
            "visibility": null,
            "width": null
          }
        },
        "6eb12a4aee394df28d5fcf213e9337c8": {
          "model_module": "@jupyter-widgets/controls",
          "model_name": "DescriptionStyleModel",
          "model_module_version": "1.5.0",
          "state": {
            "_model_module": "@jupyter-widgets/controls",
            "_model_module_version": "1.5.0",
            "_model_name": "DescriptionStyleModel",
            "_view_count": null,
            "_view_module": "@jupyter-widgets/base",
            "_view_module_version": "1.2.0",
            "_view_name": "StyleView",
            "description_width": ""
          }
        },
        "f2fb8b25c2154a359dd9ed523c96ffc5": {
          "model_module": "@jupyter-widgets/base",
          "model_name": "LayoutModel",
          "model_module_version": "1.2.0",
          "state": {
            "_model_module": "@jupyter-widgets/base",
            "_model_module_version": "1.2.0",
            "_model_name": "LayoutModel",
            "_view_count": null,
            "_view_module": "@jupyter-widgets/base",
            "_view_module_version": "1.2.0",
            "_view_name": "LayoutView",
            "align_content": null,
            "align_items": null,
            "align_self": null,
            "border": null,
            "bottom": null,
            "display": null,
            "flex": null,
            "flex_flow": null,
            "grid_area": null,
            "grid_auto_columns": null,
            "grid_auto_flow": null,
            "grid_auto_rows": null,
            "grid_column": null,
            "grid_gap": null,
            "grid_row": null,
            "grid_template_areas": null,
            "grid_template_columns": null,
            "grid_template_rows": null,
            "height": null,
            "justify_content": null,
            "justify_items": null,
            "left": null,
            "margin": null,
            "max_height": null,
            "max_width": null,
            "min_height": null,
            "min_width": null,
            "object_fit": null,
            "object_position": null,
            "order": null,
            "overflow": null,
            "overflow_x": null,
            "overflow_y": null,
            "padding": null,
            "right": null,
            "top": null,
            "visibility": null,
            "width": null
          }
        },
        "633ab6af214342f1880e040d43503e0c": {
          "model_module": "@jupyter-widgets/controls",
          "model_name": "ProgressStyleModel",
          "model_module_version": "1.5.0",
          "state": {
            "_model_module": "@jupyter-widgets/controls",
            "_model_module_version": "1.5.0",
            "_model_name": "ProgressStyleModel",
            "_view_count": null,
            "_view_module": "@jupyter-widgets/base",
            "_view_module_version": "1.2.0",
            "_view_name": "StyleView",
            "bar_color": null,
            "description_width": ""
          }
        },
        "a08adfeb1f7d49f880252406e4f43722": {
          "model_module": "@jupyter-widgets/base",
          "model_name": "LayoutModel",
          "model_module_version": "1.2.0",
          "state": {
            "_model_module": "@jupyter-widgets/base",
            "_model_module_version": "1.2.0",
            "_model_name": "LayoutModel",
            "_view_count": null,
            "_view_module": "@jupyter-widgets/base",
            "_view_module_version": "1.2.0",
            "_view_name": "LayoutView",
            "align_content": null,
            "align_items": null,
            "align_self": null,
            "border": null,
            "bottom": null,
            "display": null,
            "flex": null,
            "flex_flow": null,
            "grid_area": null,
            "grid_auto_columns": null,
            "grid_auto_flow": null,
            "grid_auto_rows": null,
            "grid_column": null,
            "grid_gap": null,
            "grid_row": null,
            "grid_template_areas": null,
            "grid_template_columns": null,
            "grid_template_rows": null,
            "height": null,
            "justify_content": null,
            "justify_items": null,
            "left": null,
            "margin": null,
            "max_height": null,
            "max_width": null,
            "min_height": null,
            "min_width": null,
            "object_fit": null,
            "object_position": null,
            "order": null,
            "overflow": null,
            "overflow_x": null,
            "overflow_y": null,
            "padding": null,
            "right": null,
            "top": null,
            "visibility": null,
            "width": null
          }
        },
        "5bc3f6886ed443af9e18c6d3bfc728a3": {
          "model_module": "@jupyter-widgets/controls",
          "model_name": "DescriptionStyleModel",
          "model_module_version": "1.5.0",
          "state": {
            "_model_module": "@jupyter-widgets/controls",
            "_model_module_version": "1.5.0",
            "_model_name": "DescriptionStyleModel",
            "_view_count": null,
            "_view_module": "@jupyter-widgets/base",
            "_view_module_version": "1.2.0",
            "_view_name": "StyleView",
            "description_width": ""
          }
        },
        "5c4c394f984f4536bd4834f0e2b718f9": {
          "model_module": "@jupyter-widgets/controls",
          "model_name": "HBoxModel",
          "model_module_version": "1.5.0",
          "state": {
            "_dom_classes": [],
            "_model_module": "@jupyter-widgets/controls",
            "_model_module_version": "1.5.0",
            "_model_name": "HBoxModel",
            "_view_count": null,
            "_view_module": "@jupyter-widgets/controls",
            "_view_module_version": "1.5.0",
            "_view_name": "HBoxView",
            "box_style": "",
            "children": [
              "IPY_MODEL_e95810963aa944698b849d7c92eba68c",
              "IPY_MODEL_5a43bc1d45f44116b655738c0c227cc7",
              "IPY_MODEL_66a95c0347134aedb2c0cebc65a6c54b"
            ],
            "layout": "IPY_MODEL_3a728a6c868047a1bd5aca5fc849d051"
          }
        },
        "e95810963aa944698b849d7c92eba68c": {
          "model_module": "@jupyter-widgets/controls",
          "model_name": "HTMLModel",
          "model_module_version": "1.5.0",
          "state": {
            "_dom_classes": [],
            "_model_module": "@jupyter-widgets/controls",
            "_model_module_version": "1.5.0",
            "_model_name": "HTMLModel",
            "_view_count": null,
            "_view_module": "@jupyter-widgets/controls",
            "_view_module_version": "1.5.0",
            "_view_name": "HTMLView",
            "description": "",
            "description_tooltip": null,
            "layout": "IPY_MODEL_79138d66ea784ff2bce97a0ec98b376e",
            "placeholder": "​",
            "style": "IPY_MODEL_daa885d692d94b638977fb8679e6a4a8",
            "value": "Updating BM25 representation...: 100%"
          }
        },
        "5a43bc1d45f44116b655738c0c227cc7": {
          "model_module": "@jupyter-widgets/controls",
          "model_name": "FloatProgressModel",
          "model_module_version": "1.5.0",
          "state": {
            "_dom_classes": [],
            "_model_module": "@jupyter-widgets/controls",
            "_model_module_version": "1.5.0",
            "_model_name": "FloatProgressModel",
            "_view_count": null,
            "_view_module": "@jupyter-widgets/controls",
            "_view_module_version": "1.5.0",
            "_view_name": "ProgressView",
            "bar_style": "success",
            "description": "",
            "description_tooltip": null,
            "layout": "IPY_MODEL_dcafdbf293f94da18077ea4896e0c935",
            "max": 375,
            "min": 0,
            "orientation": "horizontal",
            "style": "IPY_MODEL_ca88442ed6634c16aec9c11956ba961b",
            "value": 375
          }
        },
        "66a95c0347134aedb2c0cebc65a6c54b": {
          "model_module": "@jupyter-widgets/controls",
          "model_name": "HTMLModel",
          "model_module_version": "1.5.0",
          "state": {
            "_dom_classes": [],
            "_model_module": "@jupyter-widgets/controls",
            "_model_module_version": "1.5.0",
            "_model_name": "HTMLModel",
            "_view_count": null,
            "_view_module": "@jupyter-widgets/controls",
            "_view_module_version": "1.5.0",
            "_view_name": "HTMLView",
            "description": "",
            "description_tooltip": null,
            "layout": "IPY_MODEL_9b8d2a195b32466fbe925a75915c493c",
            "placeholder": "​",
            "style": "IPY_MODEL_a4c47ec3fc45452086b4bcf73f4a567b",
            "value": " 375/375 [00:00&lt;00:00, 6373.13 docs/s]"
          }
        },
        "3a728a6c868047a1bd5aca5fc849d051": {
          "model_module": "@jupyter-widgets/base",
          "model_name": "LayoutModel",
          "model_module_version": "1.2.0",
          "state": {
            "_model_module": "@jupyter-widgets/base",
            "_model_module_version": "1.2.0",
            "_model_name": "LayoutModel",
            "_view_count": null,
            "_view_module": "@jupyter-widgets/base",
            "_view_module_version": "1.2.0",
            "_view_name": "LayoutView",
            "align_content": null,
            "align_items": null,
            "align_self": null,
            "border": null,
            "bottom": null,
            "display": null,
            "flex": null,
            "flex_flow": null,
            "grid_area": null,
            "grid_auto_columns": null,
            "grid_auto_flow": null,
            "grid_auto_rows": null,
            "grid_column": null,
            "grid_gap": null,
            "grid_row": null,
            "grid_template_areas": null,
            "grid_template_columns": null,
            "grid_template_rows": null,
            "height": null,
            "justify_content": null,
            "justify_items": null,
            "left": null,
            "margin": null,
            "max_height": null,
            "max_width": null,
            "min_height": null,
            "min_width": null,
            "object_fit": null,
            "object_position": null,
            "order": null,
            "overflow": null,
            "overflow_x": null,
            "overflow_y": null,
            "padding": null,
            "right": null,
            "top": null,
            "visibility": null,
            "width": null
          }
        },
        "79138d66ea784ff2bce97a0ec98b376e": {
          "model_module": "@jupyter-widgets/base",
          "model_name": "LayoutModel",
          "model_module_version": "1.2.0",
          "state": {
            "_model_module": "@jupyter-widgets/base",
            "_model_module_version": "1.2.0",
            "_model_name": "LayoutModel",
            "_view_count": null,
            "_view_module": "@jupyter-widgets/base",
            "_view_module_version": "1.2.0",
            "_view_name": "LayoutView",
            "align_content": null,
            "align_items": null,
            "align_self": null,
            "border": null,
            "bottom": null,
            "display": null,
            "flex": null,
            "flex_flow": null,
            "grid_area": null,
            "grid_auto_columns": null,
            "grid_auto_flow": null,
            "grid_auto_rows": null,
            "grid_column": null,
            "grid_gap": null,
            "grid_row": null,
            "grid_template_areas": null,
            "grid_template_columns": null,
            "grid_template_rows": null,
            "height": null,
            "justify_content": null,
            "justify_items": null,
            "left": null,
            "margin": null,
            "max_height": null,
            "max_width": null,
            "min_height": null,
            "min_width": null,
            "object_fit": null,
            "object_position": null,
            "order": null,
            "overflow": null,
            "overflow_x": null,
            "overflow_y": null,
            "padding": null,
            "right": null,
            "top": null,
            "visibility": null,
            "width": null
          }
        },
        "daa885d692d94b638977fb8679e6a4a8": {
          "model_module": "@jupyter-widgets/controls",
          "model_name": "DescriptionStyleModel",
          "model_module_version": "1.5.0",
          "state": {
            "_model_module": "@jupyter-widgets/controls",
            "_model_module_version": "1.5.0",
            "_model_name": "DescriptionStyleModel",
            "_view_count": null,
            "_view_module": "@jupyter-widgets/base",
            "_view_module_version": "1.2.0",
            "_view_name": "StyleView",
            "description_width": ""
          }
        },
        "dcafdbf293f94da18077ea4896e0c935": {
          "model_module": "@jupyter-widgets/base",
          "model_name": "LayoutModel",
          "model_module_version": "1.2.0",
          "state": {
            "_model_module": "@jupyter-widgets/base",
            "_model_module_version": "1.2.0",
            "_model_name": "LayoutModel",
            "_view_count": null,
            "_view_module": "@jupyter-widgets/base",
            "_view_module_version": "1.2.0",
            "_view_name": "LayoutView",
            "align_content": null,
            "align_items": null,
            "align_self": null,
            "border": null,
            "bottom": null,
            "display": null,
            "flex": null,
            "flex_flow": null,
            "grid_area": null,
            "grid_auto_columns": null,
            "grid_auto_flow": null,
            "grid_auto_rows": null,
            "grid_column": null,
            "grid_gap": null,
            "grid_row": null,
            "grid_template_areas": null,
            "grid_template_columns": null,
            "grid_template_rows": null,
            "height": null,
            "justify_content": null,
            "justify_items": null,
            "left": null,
            "margin": null,
            "max_height": null,
            "max_width": null,
            "min_height": null,
            "min_width": null,
            "object_fit": null,
            "object_position": null,
            "order": null,
            "overflow": null,
            "overflow_x": null,
            "overflow_y": null,
            "padding": null,
            "right": null,
            "top": null,
            "visibility": null,
            "width": null
          }
        },
        "ca88442ed6634c16aec9c11956ba961b": {
          "model_module": "@jupyter-widgets/controls",
          "model_name": "ProgressStyleModel",
          "model_module_version": "1.5.0",
          "state": {
            "_model_module": "@jupyter-widgets/controls",
            "_model_module_version": "1.5.0",
            "_model_name": "ProgressStyleModel",
            "_view_count": null,
            "_view_module": "@jupyter-widgets/base",
            "_view_module_version": "1.2.0",
            "_view_name": "StyleView",
            "bar_color": null,
            "description_width": ""
          }
        },
        "9b8d2a195b32466fbe925a75915c493c": {
          "model_module": "@jupyter-widgets/base",
          "model_name": "LayoutModel",
          "model_module_version": "1.2.0",
          "state": {
            "_model_module": "@jupyter-widgets/base",
            "_model_module_version": "1.2.0",
            "_model_name": "LayoutModel",
            "_view_count": null,
            "_view_module": "@jupyter-widgets/base",
            "_view_module_version": "1.2.0",
            "_view_name": "LayoutView",
            "align_content": null,
            "align_items": null,
            "align_self": null,
            "border": null,
            "bottom": null,
            "display": null,
            "flex": null,
            "flex_flow": null,
            "grid_area": null,
            "grid_auto_columns": null,
            "grid_auto_flow": null,
            "grid_auto_rows": null,
            "grid_column": null,
            "grid_gap": null,
            "grid_row": null,
            "grid_template_areas": null,
            "grid_template_columns": null,
            "grid_template_rows": null,
            "height": null,
            "justify_content": null,
            "justify_items": null,
            "left": null,
            "margin": null,
            "max_height": null,
            "max_width": null,
            "min_height": null,
            "min_width": null,
            "object_fit": null,
            "object_position": null,
            "order": null,
            "overflow": null,
            "overflow_x": null,
            "overflow_y": null,
            "padding": null,
            "right": null,
            "top": null,
            "visibility": null,
            "width": null
          }
        },
        "a4c47ec3fc45452086b4bcf73f4a567b": {
          "model_module": "@jupyter-widgets/controls",
          "model_name": "DescriptionStyleModel",
          "model_module_version": "1.5.0",
          "state": {
            "_model_module": "@jupyter-widgets/controls",
            "_model_module_version": "1.5.0",
            "_model_name": "DescriptionStyleModel",
            "_view_count": null,
            "_view_module": "@jupyter-widgets/base",
            "_view_module_version": "1.2.0",
            "_view_name": "StyleView",
            "description_width": ""
          }
        },
        "941304932a70446f9ba7164d7068880d": {
          "model_module": "@jupyter-widgets/controls",
          "model_name": "HBoxModel",
          "model_module_version": "1.5.0",
          "state": {
            "_dom_classes": [],
            "_model_module": "@jupyter-widgets/controls",
            "_model_module_version": "1.5.0",
            "_model_name": "HBoxModel",
            "_view_count": null,
            "_view_module": "@jupyter-widgets/controls",
            "_view_module_version": "1.5.0",
            "_view_name": "HBoxView",
            "box_style": "",
            "children": [
              "IPY_MODEL_e9b2dd24e7944ede9c77adc0c5010156",
              "IPY_MODEL_e5f66d649e924dd19bdf5d40d3fcd4af",
              "IPY_MODEL_b07fb80169764293a114f7cc0934c6e5"
            ],
            "layout": "IPY_MODEL_e54a690aafc84c2fb179de4e3627828a"
          }
        },
        "e9b2dd24e7944ede9c77adc0c5010156": {
          "model_module": "@jupyter-widgets/controls",
          "model_name": "HTMLModel",
          "model_module_version": "1.5.0",
          "state": {
            "_dom_classes": [],
            "_model_module": "@jupyter-widgets/controls",
            "_model_module_version": "1.5.0",
            "_model_name": "HTMLModel",
            "_view_count": null,
            "_view_module": "@jupyter-widgets/controls",
            "_view_module_version": "1.5.0",
            "_view_name": "HTMLView",
            "description": "",
            "description_tooltip": null,
            "layout": "IPY_MODEL_2c5281c6df3c40cf83aaaf82ab17ee2d",
            "placeholder": "​",
            "style": "IPY_MODEL_1291253d3e8d48f988099e60ff26fc11",
            "value": "Updating BM25 representation...: 100%"
          }
        },
        "e5f66d649e924dd19bdf5d40d3fcd4af": {
          "model_module": "@jupyter-widgets/controls",
          "model_name": "FloatProgressModel",
          "model_module_version": "1.5.0",
          "state": {
            "_dom_classes": [],
            "_model_module": "@jupyter-widgets/controls",
            "_model_module_version": "1.5.0",
            "_model_name": "FloatProgressModel",
            "_view_count": null,
            "_view_module": "@jupyter-widgets/controls",
            "_view_module_version": "1.5.0",
            "_view_name": "ProgressView",
            "bar_style": "success",
            "description": "",
            "description_tooltip": null,
            "layout": "IPY_MODEL_79696dcd76734236a5019ed354017d23",
            "max": 385,
            "min": 0,
            "orientation": "horizontal",
            "style": "IPY_MODEL_e769192b35694dee9d79723f4a90ffc5",
            "value": 385
          }
        },
        "b07fb80169764293a114f7cc0934c6e5": {
          "model_module": "@jupyter-widgets/controls",
          "model_name": "HTMLModel",
          "model_module_version": "1.5.0",
          "state": {
            "_dom_classes": [],
            "_model_module": "@jupyter-widgets/controls",
            "_model_module_version": "1.5.0",
            "_model_name": "HTMLModel",
            "_view_count": null,
            "_view_module": "@jupyter-widgets/controls",
            "_view_module_version": "1.5.0",
            "_view_name": "HTMLView",
            "description": "",
            "description_tooltip": null,
            "layout": "IPY_MODEL_2dc014648c82472887daf3bfdfa5c293",
            "placeholder": "​",
            "style": "IPY_MODEL_391c00692262493d967ad3fd8ea255d0",
            "value": " 385/385 [00:00&lt;00:00, 5032.29 docs/s]"
          }
        },
        "e54a690aafc84c2fb179de4e3627828a": {
          "model_module": "@jupyter-widgets/base",
          "model_name": "LayoutModel",
          "model_module_version": "1.2.0",
          "state": {
            "_model_module": "@jupyter-widgets/base",
            "_model_module_version": "1.2.0",
            "_model_name": "LayoutModel",
            "_view_count": null,
            "_view_module": "@jupyter-widgets/base",
            "_view_module_version": "1.2.0",
            "_view_name": "LayoutView",
            "align_content": null,
            "align_items": null,
            "align_self": null,
            "border": null,
            "bottom": null,
            "display": null,
            "flex": null,
            "flex_flow": null,
            "grid_area": null,
            "grid_auto_columns": null,
            "grid_auto_flow": null,
            "grid_auto_rows": null,
            "grid_column": null,
            "grid_gap": null,
            "grid_row": null,
            "grid_template_areas": null,
            "grid_template_columns": null,
            "grid_template_rows": null,
            "height": null,
            "justify_content": null,
            "justify_items": null,
            "left": null,
            "margin": null,
            "max_height": null,
            "max_width": null,
            "min_height": null,
            "min_width": null,
            "object_fit": null,
            "object_position": null,
            "order": null,
            "overflow": null,
            "overflow_x": null,
            "overflow_y": null,
            "padding": null,
            "right": null,
            "top": null,
            "visibility": null,
            "width": null
          }
        },
        "2c5281c6df3c40cf83aaaf82ab17ee2d": {
          "model_module": "@jupyter-widgets/base",
          "model_name": "LayoutModel",
          "model_module_version": "1.2.0",
          "state": {
            "_model_module": "@jupyter-widgets/base",
            "_model_module_version": "1.2.0",
            "_model_name": "LayoutModel",
            "_view_count": null,
            "_view_module": "@jupyter-widgets/base",
            "_view_module_version": "1.2.0",
            "_view_name": "LayoutView",
            "align_content": null,
            "align_items": null,
            "align_self": null,
            "border": null,
            "bottom": null,
            "display": null,
            "flex": null,
            "flex_flow": null,
            "grid_area": null,
            "grid_auto_columns": null,
            "grid_auto_flow": null,
            "grid_auto_rows": null,
            "grid_column": null,
            "grid_gap": null,
            "grid_row": null,
            "grid_template_areas": null,
            "grid_template_columns": null,
            "grid_template_rows": null,
            "height": null,
            "justify_content": null,
            "justify_items": null,
            "left": null,
            "margin": null,
            "max_height": null,
            "max_width": null,
            "min_height": null,
            "min_width": null,
            "object_fit": null,
            "object_position": null,
            "order": null,
            "overflow": null,
            "overflow_x": null,
            "overflow_y": null,
            "padding": null,
            "right": null,
            "top": null,
            "visibility": null,
            "width": null
          }
        },
        "1291253d3e8d48f988099e60ff26fc11": {
          "model_module": "@jupyter-widgets/controls",
          "model_name": "DescriptionStyleModel",
          "model_module_version": "1.5.0",
          "state": {
            "_model_module": "@jupyter-widgets/controls",
            "_model_module_version": "1.5.0",
            "_model_name": "DescriptionStyleModel",
            "_view_count": null,
            "_view_module": "@jupyter-widgets/base",
            "_view_module_version": "1.2.0",
            "_view_name": "StyleView",
            "description_width": ""
          }
        },
        "79696dcd76734236a5019ed354017d23": {
          "model_module": "@jupyter-widgets/base",
          "model_name": "LayoutModel",
          "model_module_version": "1.2.0",
          "state": {
            "_model_module": "@jupyter-widgets/base",
            "_model_module_version": "1.2.0",
            "_model_name": "LayoutModel",
            "_view_count": null,
            "_view_module": "@jupyter-widgets/base",
            "_view_module_version": "1.2.0",
            "_view_name": "LayoutView",
            "align_content": null,
            "align_items": null,
            "align_self": null,
            "border": null,
            "bottom": null,
            "display": null,
            "flex": null,
            "flex_flow": null,
            "grid_area": null,
            "grid_auto_columns": null,
            "grid_auto_flow": null,
            "grid_auto_rows": null,
            "grid_column": null,
            "grid_gap": null,
            "grid_row": null,
            "grid_template_areas": null,
            "grid_template_columns": null,
            "grid_template_rows": null,
            "height": null,
            "justify_content": null,
            "justify_items": null,
            "left": null,
            "margin": null,
            "max_height": null,
            "max_width": null,
            "min_height": null,
            "min_width": null,
            "object_fit": null,
            "object_position": null,
            "order": null,
            "overflow": null,
            "overflow_x": null,
            "overflow_y": null,
            "padding": null,
            "right": null,
            "top": null,
            "visibility": null,
            "width": null
          }
        },
        "e769192b35694dee9d79723f4a90ffc5": {
          "model_module": "@jupyter-widgets/controls",
          "model_name": "ProgressStyleModel",
          "model_module_version": "1.5.0",
          "state": {
            "_model_module": "@jupyter-widgets/controls",
            "_model_module_version": "1.5.0",
            "_model_name": "ProgressStyleModel",
            "_view_count": null,
            "_view_module": "@jupyter-widgets/base",
            "_view_module_version": "1.2.0",
            "_view_name": "StyleView",
            "bar_color": null,
            "description_width": ""
          }
        },
        "2dc014648c82472887daf3bfdfa5c293": {
          "model_module": "@jupyter-widgets/base",
          "model_name": "LayoutModel",
          "model_module_version": "1.2.0",
          "state": {
            "_model_module": "@jupyter-widgets/base",
            "_model_module_version": "1.2.0",
            "_model_name": "LayoutModel",
            "_view_count": null,
            "_view_module": "@jupyter-widgets/base",
            "_view_module_version": "1.2.0",
            "_view_name": "LayoutView",
            "align_content": null,
            "align_items": null,
            "align_self": null,
            "border": null,
            "bottom": null,
            "display": null,
            "flex": null,
            "flex_flow": null,
            "grid_area": null,
            "grid_auto_columns": null,
            "grid_auto_flow": null,
            "grid_auto_rows": null,
            "grid_column": null,
            "grid_gap": null,
            "grid_row": null,
            "grid_template_areas": null,
            "grid_template_columns": null,
            "grid_template_rows": null,
            "height": null,
            "justify_content": null,
            "justify_items": null,
            "left": null,
            "margin": null,
            "max_height": null,
            "max_width": null,
            "min_height": null,
            "min_width": null,
            "object_fit": null,
            "object_position": null,
            "order": null,
            "overflow": null,
            "overflow_x": null,
            "overflow_y": null,
            "padding": null,
            "right": null,
            "top": null,
            "visibility": null,
            "width": null
          }
        },
        "391c00692262493d967ad3fd8ea255d0": {
          "model_module": "@jupyter-widgets/controls",
          "model_name": "DescriptionStyleModel",
          "model_module_version": "1.5.0",
          "state": {
            "_model_module": "@jupyter-widgets/controls",
            "_model_module_version": "1.5.0",
            "_model_name": "DescriptionStyleModel",
            "_view_count": null,
            "_view_module": "@jupyter-widgets/base",
            "_view_module_version": "1.2.0",
            "_view_name": "StyleView",
            "description_width": ""
          }
        },
        "3f056aa982e843839c0db3299eb1edbf": {
          "model_module": "@jupyter-widgets/controls",
          "model_name": "HBoxModel",
          "model_module_version": "1.5.0",
          "state": {
            "_dom_classes": [],
            "_model_module": "@jupyter-widgets/controls",
            "_model_module_version": "1.5.0",
            "_model_name": "HBoxModel",
            "_view_count": null,
            "_view_module": "@jupyter-widgets/controls",
            "_view_module_version": "1.5.0",
            "_view_name": "HBoxView",
            "box_style": "",
            "children": [
              "IPY_MODEL_a3e2944427ce4a03822f79064443cec1",
              "IPY_MODEL_19ad6f24ddb642168349fc9123a21aad",
              "IPY_MODEL_879ace31c90245cab833d5440668866c"
            ],
            "layout": "IPY_MODEL_fabf9fe3713548c087f8bb982f505d70"
          }
        },
        "a3e2944427ce4a03822f79064443cec1": {
          "model_module": "@jupyter-widgets/controls",
          "model_name": "HTMLModel",
          "model_module_version": "1.5.0",
          "state": {
            "_dom_classes": [],
            "_model_module": "@jupyter-widgets/controls",
            "_model_module_version": "1.5.0",
            "_model_name": "HTMLModel",
            "_view_count": null,
            "_view_module": "@jupyter-widgets/controls",
            "_view_module_version": "1.5.0",
            "_view_name": "HTMLView",
            "description": "",
            "description_tooltip": null,
            "layout": "IPY_MODEL_05e4b3a3ef5347749c7a805a5eda9c4c",
            "placeholder": "​",
            "style": "IPY_MODEL_b7ec4d0e49984dd0a2778e043229195c",
            "value": "Updating BM25 representation...: 100%"
          }
        },
        "19ad6f24ddb642168349fc9123a21aad": {
          "model_module": "@jupyter-widgets/controls",
          "model_name": "FloatProgressModel",
          "model_module_version": "1.5.0",
          "state": {
            "_dom_classes": [],
            "_model_module": "@jupyter-widgets/controls",
            "_model_module_version": "1.5.0",
            "_model_name": "FloatProgressModel",
            "_view_count": null,
            "_view_module": "@jupyter-widgets/controls",
            "_view_module_version": "1.5.0",
            "_view_name": "ProgressView",
            "bar_style": "success",
            "description": "",
            "description_tooltip": null,
            "layout": "IPY_MODEL_5676c4c1b42e4fd38b6e60ac1f6d9a67",
            "max": 411,
            "min": 0,
            "orientation": "horizontal",
            "style": "IPY_MODEL_1808744cf5ed4d26b7f3e4dc1788b553",
            "value": 411
          }
        },
        "879ace31c90245cab833d5440668866c": {
          "model_module": "@jupyter-widgets/controls",
          "model_name": "HTMLModel",
          "model_module_version": "1.5.0",
          "state": {
            "_dom_classes": [],
            "_model_module": "@jupyter-widgets/controls",
            "_model_module_version": "1.5.0",
            "_model_name": "HTMLModel",
            "_view_count": null,
            "_view_module": "@jupyter-widgets/controls",
            "_view_module_version": "1.5.0",
            "_view_name": "HTMLView",
            "description": "",
            "description_tooltip": null,
            "layout": "IPY_MODEL_0c865824024744ec905117e42a1f3fb2",
            "placeholder": "​",
            "style": "IPY_MODEL_96b1a440567b4697b5b8fcc3dc477623",
            "value": " 411/411 [00:00&lt;00:00, 7742.88 docs/s]"
          }
        },
        "fabf9fe3713548c087f8bb982f505d70": {
          "model_module": "@jupyter-widgets/base",
          "model_name": "LayoutModel",
          "model_module_version": "1.2.0",
          "state": {
            "_model_module": "@jupyter-widgets/base",
            "_model_module_version": "1.2.0",
            "_model_name": "LayoutModel",
            "_view_count": null,
            "_view_module": "@jupyter-widgets/base",
            "_view_module_version": "1.2.0",
            "_view_name": "LayoutView",
            "align_content": null,
            "align_items": null,
            "align_self": null,
            "border": null,
            "bottom": null,
            "display": null,
            "flex": null,
            "flex_flow": null,
            "grid_area": null,
            "grid_auto_columns": null,
            "grid_auto_flow": null,
            "grid_auto_rows": null,
            "grid_column": null,
            "grid_gap": null,
            "grid_row": null,
            "grid_template_areas": null,
            "grid_template_columns": null,
            "grid_template_rows": null,
            "height": null,
            "justify_content": null,
            "justify_items": null,
            "left": null,
            "margin": null,
            "max_height": null,
            "max_width": null,
            "min_height": null,
            "min_width": null,
            "object_fit": null,
            "object_position": null,
            "order": null,
            "overflow": null,
            "overflow_x": null,
            "overflow_y": null,
            "padding": null,
            "right": null,
            "top": null,
            "visibility": null,
            "width": null
          }
        },
        "05e4b3a3ef5347749c7a805a5eda9c4c": {
          "model_module": "@jupyter-widgets/base",
          "model_name": "LayoutModel",
          "model_module_version": "1.2.0",
          "state": {
            "_model_module": "@jupyter-widgets/base",
            "_model_module_version": "1.2.0",
            "_model_name": "LayoutModel",
            "_view_count": null,
            "_view_module": "@jupyter-widgets/base",
            "_view_module_version": "1.2.0",
            "_view_name": "LayoutView",
            "align_content": null,
            "align_items": null,
            "align_self": null,
            "border": null,
            "bottom": null,
            "display": null,
            "flex": null,
            "flex_flow": null,
            "grid_area": null,
            "grid_auto_columns": null,
            "grid_auto_flow": null,
            "grid_auto_rows": null,
            "grid_column": null,
            "grid_gap": null,
            "grid_row": null,
            "grid_template_areas": null,
            "grid_template_columns": null,
            "grid_template_rows": null,
            "height": null,
            "justify_content": null,
            "justify_items": null,
            "left": null,
            "margin": null,
            "max_height": null,
            "max_width": null,
            "min_height": null,
            "min_width": null,
            "object_fit": null,
            "object_position": null,
            "order": null,
            "overflow": null,
            "overflow_x": null,
            "overflow_y": null,
            "padding": null,
            "right": null,
            "top": null,
            "visibility": null,
            "width": null
          }
        },
        "b7ec4d0e49984dd0a2778e043229195c": {
          "model_module": "@jupyter-widgets/controls",
          "model_name": "DescriptionStyleModel",
          "model_module_version": "1.5.0",
          "state": {
            "_model_module": "@jupyter-widgets/controls",
            "_model_module_version": "1.5.0",
            "_model_name": "DescriptionStyleModel",
            "_view_count": null,
            "_view_module": "@jupyter-widgets/base",
            "_view_module_version": "1.2.0",
            "_view_name": "StyleView",
            "description_width": ""
          }
        },
        "5676c4c1b42e4fd38b6e60ac1f6d9a67": {
          "model_module": "@jupyter-widgets/base",
          "model_name": "LayoutModel",
          "model_module_version": "1.2.0",
          "state": {
            "_model_module": "@jupyter-widgets/base",
            "_model_module_version": "1.2.0",
            "_model_name": "LayoutModel",
            "_view_count": null,
            "_view_module": "@jupyter-widgets/base",
            "_view_module_version": "1.2.0",
            "_view_name": "LayoutView",
            "align_content": null,
            "align_items": null,
            "align_self": null,
            "border": null,
            "bottom": null,
            "display": null,
            "flex": null,
            "flex_flow": null,
            "grid_area": null,
            "grid_auto_columns": null,
            "grid_auto_flow": null,
            "grid_auto_rows": null,
            "grid_column": null,
            "grid_gap": null,
            "grid_row": null,
            "grid_template_areas": null,
            "grid_template_columns": null,
            "grid_template_rows": null,
            "height": null,
            "justify_content": null,
            "justify_items": null,
            "left": null,
            "margin": null,
            "max_height": null,
            "max_width": null,
            "min_height": null,
            "min_width": null,
            "object_fit": null,
            "object_position": null,
            "order": null,
            "overflow": null,
            "overflow_x": null,
            "overflow_y": null,
            "padding": null,
            "right": null,
            "top": null,
            "visibility": null,
            "width": null
          }
        },
        "1808744cf5ed4d26b7f3e4dc1788b553": {
          "model_module": "@jupyter-widgets/controls",
          "model_name": "ProgressStyleModel",
          "model_module_version": "1.5.0",
          "state": {
            "_model_module": "@jupyter-widgets/controls",
            "_model_module_version": "1.5.0",
            "_model_name": "ProgressStyleModel",
            "_view_count": null,
            "_view_module": "@jupyter-widgets/base",
            "_view_module_version": "1.2.0",
            "_view_name": "StyleView",
            "bar_color": null,
            "description_width": ""
          }
        },
        "0c865824024744ec905117e42a1f3fb2": {
          "model_module": "@jupyter-widgets/base",
          "model_name": "LayoutModel",
          "model_module_version": "1.2.0",
          "state": {
            "_model_module": "@jupyter-widgets/base",
            "_model_module_version": "1.2.0",
            "_model_name": "LayoutModel",
            "_view_count": null,
            "_view_module": "@jupyter-widgets/base",
            "_view_module_version": "1.2.0",
            "_view_name": "LayoutView",
            "align_content": null,
            "align_items": null,
            "align_self": null,
            "border": null,
            "bottom": null,
            "display": null,
            "flex": null,
            "flex_flow": null,
            "grid_area": null,
            "grid_auto_columns": null,
            "grid_auto_flow": null,
            "grid_auto_rows": null,
            "grid_column": null,
            "grid_gap": null,
            "grid_row": null,
            "grid_template_areas": null,
            "grid_template_columns": null,
            "grid_template_rows": null,
            "height": null,
            "justify_content": null,
            "justify_items": null,
            "left": null,
            "margin": null,
            "max_height": null,
            "max_width": null,
            "min_height": null,
            "min_width": null,
            "object_fit": null,
            "object_position": null,
            "order": null,
            "overflow": null,
            "overflow_x": null,
            "overflow_y": null,
            "padding": null,
            "right": null,
            "top": null,
            "visibility": null,
            "width": null
          }
        },
        "96b1a440567b4697b5b8fcc3dc477623": {
          "model_module": "@jupyter-widgets/controls",
          "model_name": "DescriptionStyleModel",
          "model_module_version": "1.5.0",
          "state": {
            "_model_module": "@jupyter-widgets/controls",
            "_model_module_version": "1.5.0",
            "_model_name": "DescriptionStyleModel",
            "_view_count": null,
            "_view_module": "@jupyter-widgets/base",
            "_view_module_version": "1.2.0",
            "_view_name": "StyleView",
            "description_width": ""
          }
        },
        "39e24bb6f28d4d6dbce4115b622c13f4": {
          "model_module": "@jupyter-widgets/controls",
          "model_name": "HBoxModel",
          "model_module_version": "1.5.0",
          "state": {
            "_dom_classes": [],
            "_model_module": "@jupyter-widgets/controls",
            "_model_module_version": "1.5.0",
            "_model_name": "HBoxModel",
            "_view_count": null,
            "_view_module": "@jupyter-widgets/controls",
            "_view_module_version": "1.5.0",
            "_view_name": "HBoxView",
            "box_style": "",
            "children": [
              "IPY_MODEL_9ffc668a823447859943f7a3df06477a",
              "IPY_MODEL_8b806116a3374de8a2d0ec50e5b6c595",
              "IPY_MODEL_55e5a97b933c4f148b7618b3d1e40312"
            ],
            "layout": "IPY_MODEL_bd069d20c1da424fba57e2816b885e3b"
          }
        },
        "9ffc668a823447859943f7a3df06477a": {
          "model_module": "@jupyter-widgets/controls",
          "model_name": "HTMLModel",
          "model_module_version": "1.5.0",
          "state": {
            "_dom_classes": [],
            "_model_module": "@jupyter-widgets/controls",
            "_model_module_version": "1.5.0",
            "_model_name": "HTMLModel",
            "_view_count": null,
            "_view_module": "@jupyter-widgets/controls",
            "_view_module_version": "1.5.0",
            "_view_name": "HTMLView",
            "description": "",
            "description_tooltip": null,
            "layout": "IPY_MODEL_ee444c5a40294ec6bb33d37bbd4acfdc",
            "placeholder": "​",
            "style": "IPY_MODEL_8dd16e53eb4e451d9bd4ee08f5a4f5ea",
            "value": "Downloading (…)lve/main/config.json: 100%"
          }
        },
        "8b806116a3374de8a2d0ec50e5b6c595": {
          "model_module": "@jupyter-widgets/controls",
          "model_name": "FloatProgressModel",
          "model_module_version": "1.5.0",
          "state": {
            "_dom_classes": [],
            "_model_module": "@jupyter-widgets/controls",
            "_model_module_version": "1.5.0",
            "_model_name": "FloatProgressModel",
            "_view_count": null,
            "_view_module": "@jupyter-widgets/controls",
            "_view_module_version": "1.5.0",
            "_view_name": "ProgressView",
            "bar_style": "success",
            "description": "",
            "description_tooltip": null,
            "layout": "IPY_MODEL_2729b473b4264355a24e05c3db74d670",
            "max": 1585,
            "min": 0,
            "orientation": "horizontal",
            "style": "IPY_MODEL_b70364ba157743db8076e7d0f65d7253",
            "value": 1585
          }
        },
        "55e5a97b933c4f148b7618b3d1e40312": {
          "model_module": "@jupyter-widgets/controls",
          "model_name": "HTMLModel",
          "model_module_version": "1.5.0",
          "state": {
            "_dom_classes": [],
            "_model_module": "@jupyter-widgets/controls",
            "_model_module_version": "1.5.0",
            "_model_name": "HTMLModel",
            "_view_count": null,
            "_view_module": "@jupyter-widgets/controls",
            "_view_module_version": "1.5.0",
            "_view_name": "HTMLView",
            "description": "",
            "description_tooltip": null,
            "layout": "IPY_MODEL_928793e1edc446d7bede85da64f4db41",
            "placeholder": "​",
            "style": "IPY_MODEL_9a768f3619494db5ace9bc06041202ef",
            "value": " 1.58k/1.58k [00:00&lt;00:00, 47.1kB/s]"
          }
        },
        "bd069d20c1da424fba57e2816b885e3b": {
          "model_module": "@jupyter-widgets/base",
          "model_name": "LayoutModel",
          "model_module_version": "1.2.0",
          "state": {
            "_model_module": "@jupyter-widgets/base",
            "_model_module_version": "1.2.0",
            "_model_name": "LayoutModel",
            "_view_count": null,
            "_view_module": "@jupyter-widgets/base",
            "_view_module_version": "1.2.0",
            "_view_name": "LayoutView",
            "align_content": null,
            "align_items": null,
            "align_self": null,
            "border": null,
            "bottom": null,
            "display": null,
            "flex": null,
            "flex_flow": null,
            "grid_area": null,
            "grid_auto_columns": null,
            "grid_auto_flow": null,
            "grid_auto_rows": null,
            "grid_column": null,
            "grid_gap": null,
            "grid_row": null,
            "grid_template_areas": null,
            "grid_template_columns": null,
            "grid_template_rows": null,
            "height": null,
            "justify_content": null,
            "justify_items": null,
            "left": null,
            "margin": null,
            "max_height": null,
            "max_width": null,
            "min_height": null,
            "min_width": null,
            "object_fit": null,
            "object_position": null,
            "order": null,
            "overflow": null,
            "overflow_x": null,
            "overflow_y": null,
            "padding": null,
            "right": null,
            "top": null,
            "visibility": null,
            "width": null
          }
        },
        "ee444c5a40294ec6bb33d37bbd4acfdc": {
          "model_module": "@jupyter-widgets/base",
          "model_name": "LayoutModel",
          "model_module_version": "1.2.0",
          "state": {
            "_model_module": "@jupyter-widgets/base",
            "_model_module_version": "1.2.0",
            "_model_name": "LayoutModel",
            "_view_count": null,
            "_view_module": "@jupyter-widgets/base",
            "_view_module_version": "1.2.0",
            "_view_name": "LayoutView",
            "align_content": null,
            "align_items": null,
            "align_self": null,
            "border": null,
            "bottom": null,
            "display": null,
            "flex": null,
            "flex_flow": null,
            "grid_area": null,
            "grid_auto_columns": null,
            "grid_auto_flow": null,
            "grid_auto_rows": null,
            "grid_column": null,
            "grid_gap": null,
            "grid_row": null,
            "grid_template_areas": null,
            "grid_template_columns": null,
            "grid_template_rows": null,
            "height": null,
            "justify_content": null,
            "justify_items": null,
            "left": null,
            "margin": null,
            "max_height": null,
            "max_width": null,
            "min_height": null,
            "min_width": null,
            "object_fit": null,
            "object_position": null,
            "order": null,
            "overflow": null,
            "overflow_x": null,
            "overflow_y": null,
            "padding": null,
            "right": null,
            "top": null,
            "visibility": null,
            "width": null
          }
        },
        "8dd16e53eb4e451d9bd4ee08f5a4f5ea": {
          "model_module": "@jupyter-widgets/controls",
          "model_name": "DescriptionStyleModel",
          "model_module_version": "1.5.0",
          "state": {
            "_model_module": "@jupyter-widgets/controls",
            "_model_module_version": "1.5.0",
            "_model_name": "DescriptionStyleModel",
            "_view_count": null,
            "_view_module": "@jupyter-widgets/base",
            "_view_module_version": "1.2.0",
            "_view_name": "StyleView",
            "description_width": ""
          }
        },
        "2729b473b4264355a24e05c3db74d670": {
          "model_module": "@jupyter-widgets/base",
          "model_name": "LayoutModel",
          "model_module_version": "1.2.0",
          "state": {
            "_model_module": "@jupyter-widgets/base",
            "_model_module_version": "1.2.0",
            "_model_name": "LayoutModel",
            "_view_count": null,
            "_view_module": "@jupyter-widgets/base",
            "_view_module_version": "1.2.0",
            "_view_name": "LayoutView",
            "align_content": null,
            "align_items": null,
            "align_self": null,
            "border": null,
            "bottom": null,
            "display": null,
            "flex": null,
            "flex_flow": null,
            "grid_area": null,
            "grid_auto_columns": null,
            "grid_auto_flow": null,
            "grid_auto_rows": null,
            "grid_column": null,
            "grid_gap": null,
            "grid_row": null,
            "grid_template_areas": null,
            "grid_template_columns": null,
            "grid_template_rows": null,
            "height": null,
            "justify_content": null,
            "justify_items": null,
            "left": null,
            "margin": null,
            "max_height": null,
            "max_width": null,
            "min_height": null,
            "min_width": null,
            "object_fit": null,
            "object_position": null,
            "order": null,
            "overflow": null,
            "overflow_x": null,
            "overflow_y": null,
            "padding": null,
            "right": null,
            "top": null,
            "visibility": null,
            "width": null
          }
        },
        "b70364ba157743db8076e7d0f65d7253": {
          "model_module": "@jupyter-widgets/controls",
          "model_name": "ProgressStyleModel",
          "model_module_version": "1.5.0",
          "state": {
            "_model_module": "@jupyter-widgets/controls",
            "_model_module_version": "1.5.0",
            "_model_name": "ProgressStyleModel",
            "_view_count": null,
            "_view_module": "@jupyter-widgets/base",
            "_view_module_version": "1.2.0",
            "_view_name": "StyleView",
            "bar_color": null,
            "description_width": ""
          }
        },
        "928793e1edc446d7bede85da64f4db41": {
          "model_module": "@jupyter-widgets/base",
          "model_name": "LayoutModel",
          "model_module_version": "1.2.0",
          "state": {
            "_model_module": "@jupyter-widgets/base",
            "_model_module_version": "1.2.0",
            "_model_name": "LayoutModel",
            "_view_count": null,
            "_view_module": "@jupyter-widgets/base",
            "_view_module_version": "1.2.0",
            "_view_name": "LayoutView",
            "align_content": null,
            "align_items": null,
            "align_self": null,
            "border": null,
            "bottom": null,
            "display": null,
            "flex": null,
            "flex_flow": null,
            "grid_area": null,
            "grid_auto_columns": null,
            "grid_auto_flow": null,
            "grid_auto_rows": null,
            "grid_column": null,
            "grid_gap": null,
            "grid_row": null,
            "grid_template_areas": null,
            "grid_template_columns": null,
            "grid_template_rows": null,
            "height": null,
            "justify_content": null,
            "justify_items": null,
            "left": null,
            "margin": null,
            "max_height": null,
            "max_width": null,
            "min_height": null,
            "min_width": null,
            "object_fit": null,
            "object_position": null,
            "order": null,
            "overflow": null,
            "overflow_x": null,
            "overflow_y": null,
            "padding": null,
            "right": null,
            "top": null,
            "visibility": null,
            "width": null
          }
        },
        "9a768f3619494db5ace9bc06041202ef": {
          "model_module": "@jupyter-widgets/controls",
          "model_name": "DescriptionStyleModel",
          "model_module_version": "1.5.0",
          "state": {
            "_model_module": "@jupyter-widgets/controls",
            "_model_module_version": "1.5.0",
            "_model_name": "DescriptionStyleModel",
            "_view_count": null,
            "_view_module": "@jupyter-widgets/base",
            "_view_module_version": "1.2.0",
            "_view_name": "StyleView",
            "description_width": ""
          }
        },
        "8214283878c34d11a859bc9bbfbe40d6": {
          "model_module": "@jupyter-widgets/controls",
          "model_name": "HBoxModel",
          "model_module_version": "1.5.0",
          "state": {
            "_dom_classes": [],
            "_model_module": "@jupyter-widgets/controls",
            "_model_module_version": "1.5.0",
            "_model_name": "HBoxModel",
            "_view_count": null,
            "_view_module": "@jupyter-widgets/controls",
            "_view_module_version": "1.5.0",
            "_view_name": "HBoxView",
            "box_style": "",
            "children": [
              "IPY_MODEL_b89b0b4bcfea43bb9b368f95b9450175",
              "IPY_MODEL_f267a03875194bfdb9e9cc2835fa736d",
              "IPY_MODEL_26a47d259b4e492da0155dd3b0e4481c"
            ],
            "layout": "IPY_MODEL_468a05dedf8a4c38a619be13df9d9830"
          }
        },
        "b89b0b4bcfea43bb9b368f95b9450175": {
          "model_module": "@jupyter-widgets/controls",
          "model_name": "HTMLModel",
          "model_module_version": "1.5.0",
          "state": {
            "_dom_classes": [],
            "_model_module": "@jupyter-widgets/controls",
            "_model_module_version": "1.5.0",
            "_model_name": "HTMLModel",
            "_view_count": null,
            "_view_module": "@jupyter-widgets/controls",
            "_view_module_version": "1.5.0",
            "_view_name": "HTMLView",
            "description": "",
            "description_tooltip": null,
            "layout": "IPY_MODEL_5b61afc0c9ce491f9a1d236d72f7cd90",
            "placeholder": "​",
            "style": "IPY_MODEL_e0db9b65b5b445998c5bc6133b61e3e2",
            "value": "Downloading pytorch_model.bin: 100%"
          }
        },
        "f267a03875194bfdb9e9cc2835fa736d": {
          "model_module": "@jupyter-widgets/controls",
          "model_name": "FloatProgressModel",
          "model_module_version": "1.5.0",
          "state": {
            "_dom_classes": [],
            "_model_module": "@jupyter-widgets/controls",
            "_model_module_version": "1.5.0",
            "_model_name": "FloatProgressModel",
            "_view_count": null,
            "_view_module": "@jupyter-widgets/controls",
            "_view_module_version": "1.5.0",
            "_view_name": "ProgressView",
            "bar_style": "success",
            "description": "",
            "description_tooltip": null,
            "layout": "IPY_MODEL_3b49721a3f11499eabd7871090779343",
            "max": 1625270765,
            "min": 0,
            "orientation": "horizontal",
            "style": "IPY_MODEL_aef16e4b5aa04a2da5a61ecb7a0cf82a",
            "value": 1625270765
          }
        },
        "26a47d259b4e492da0155dd3b0e4481c": {
          "model_module": "@jupyter-widgets/controls",
          "model_name": "HTMLModel",
          "model_module_version": "1.5.0",
          "state": {
            "_dom_classes": [],
            "_model_module": "@jupyter-widgets/controls",
            "_model_module_version": "1.5.0",
            "_model_name": "HTMLModel",
            "_view_count": null,
            "_view_module": "@jupyter-widgets/controls",
            "_view_module_version": "1.5.0",
            "_view_name": "HTMLView",
            "description": "",
            "description_tooltip": null,
            "layout": "IPY_MODEL_558f5fed24fd47d5966589d7e894b6ab",
            "placeholder": "​",
            "style": "IPY_MODEL_08c626af014c44e2a67c714805077409",
            "value": " 1.63G/1.63G [00:18&lt;00:00, 86.6MB/s]"
          }
        },
        "468a05dedf8a4c38a619be13df9d9830": {
          "model_module": "@jupyter-widgets/base",
          "model_name": "LayoutModel",
          "model_module_version": "1.2.0",
          "state": {
            "_model_module": "@jupyter-widgets/base",
            "_model_module_version": "1.2.0",
            "_model_name": "LayoutModel",
            "_view_count": null,
            "_view_module": "@jupyter-widgets/base",
            "_view_module_version": "1.2.0",
            "_view_name": "LayoutView",
            "align_content": null,
            "align_items": null,
            "align_self": null,
            "border": null,
            "bottom": null,
            "display": null,
            "flex": null,
            "flex_flow": null,
            "grid_area": null,
            "grid_auto_columns": null,
            "grid_auto_flow": null,
            "grid_auto_rows": null,
            "grid_column": null,
            "grid_gap": null,
            "grid_row": null,
            "grid_template_areas": null,
            "grid_template_columns": null,
            "grid_template_rows": null,
            "height": null,
            "justify_content": null,
            "justify_items": null,
            "left": null,
            "margin": null,
            "max_height": null,
            "max_width": null,
            "min_height": null,
            "min_width": null,
            "object_fit": null,
            "object_position": null,
            "order": null,
            "overflow": null,
            "overflow_x": null,
            "overflow_y": null,
            "padding": null,
            "right": null,
            "top": null,
            "visibility": null,
            "width": null
          }
        },
        "5b61afc0c9ce491f9a1d236d72f7cd90": {
          "model_module": "@jupyter-widgets/base",
          "model_name": "LayoutModel",
          "model_module_version": "1.2.0",
          "state": {
            "_model_module": "@jupyter-widgets/base",
            "_model_module_version": "1.2.0",
            "_model_name": "LayoutModel",
            "_view_count": null,
            "_view_module": "@jupyter-widgets/base",
            "_view_module_version": "1.2.0",
            "_view_name": "LayoutView",
            "align_content": null,
            "align_items": null,
            "align_self": null,
            "border": null,
            "bottom": null,
            "display": null,
            "flex": null,
            "flex_flow": null,
            "grid_area": null,
            "grid_auto_columns": null,
            "grid_auto_flow": null,
            "grid_auto_rows": null,
            "grid_column": null,
            "grid_gap": null,
            "grid_row": null,
            "grid_template_areas": null,
            "grid_template_columns": null,
            "grid_template_rows": null,
            "height": null,
            "justify_content": null,
            "justify_items": null,
            "left": null,
            "margin": null,
            "max_height": null,
            "max_width": null,
            "min_height": null,
            "min_width": null,
            "object_fit": null,
            "object_position": null,
            "order": null,
            "overflow": null,
            "overflow_x": null,
            "overflow_y": null,
            "padding": null,
            "right": null,
            "top": null,
            "visibility": null,
            "width": null
          }
        },
        "e0db9b65b5b445998c5bc6133b61e3e2": {
          "model_module": "@jupyter-widgets/controls",
          "model_name": "DescriptionStyleModel",
          "model_module_version": "1.5.0",
          "state": {
            "_model_module": "@jupyter-widgets/controls",
            "_model_module_version": "1.5.0",
            "_model_name": "DescriptionStyleModel",
            "_view_count": null,
            "_view_module": "@jupyter-widgets/base",
            "_view_module_version": "1.2.0",
            "_view_name": "StyleView",
            "description_width": ""
          }
        },
        "3b49721a3f11499eabd7871090779343": {
          "model_module": "@jupyter-widgets/base",
          "model_name": "LayoutModel",
          "model_module_version": "1.2.0",
          "state": {
            "_model_module": "@jupyter-widgets/base",
            "_model_module_version": "1.2.0",
            "_model_name": "LayoutModel",
            "_view_count": null,
            "_view_module": "@jupyter-widgets/base",
            "_view_module_version": "1.2.0",
            "_view_name": "LayoutView",
            "align_content": null,
            "align_items": null,
            "align_self": null,
            "border": null,
            "bottom": null,
            "display": null,
            "flex": null,
            "flex_flow": null,
            "grid_area": null,
            "grid_auto_columns": null,
            "grid_auto_flow": null,
            "grid_auto_rows": null,
            "grid_column": null,
            "grid_gap": null,
            "grid_row": null,
            "grid_template_areas": null,
            "grid_template_columns": null,
            "grid_template_rows": null,
            "height": null,
            "justify_content": null,
            "justify_items": null,
            "left": null,
            "margin": null,
            "max_height": null,
            "max_width": null,
            "min_height": null,
            "min_width": null,
            "object_fit": null,
            "object_position": null,
            "order": null,
            "overflow": null,
            "overflow_x": null,
            "overflow_y": null,
            "padding": null,
            "right": null,
            "top": null,
            "visibility": null,
            "width": null
          }
        },
        "aef16e4b5aa04a2da5a61ecb7a0cf82a": {
          "model_module": "@jupyter-widgets/controls",
          "model_name": "ProgressStyleModel",
          "model_module_version": "1.5.0",
          "state": {
            "_model_module": "@jupyter-widgets/controls",
            "_model_module_version": "1.5.0",
            "_model_name": "ProgressStyleModel",
            "_view_count": null,
            "_view_module": "@jupyter-widgets/base",
            "_view_module_version": "1.2.0",
            "_view_name": "StyleView",
            "bar_color": null,
            "description_width": ""
          }
        },
        "558f5fed24fd47d5966589d7e894b6ab": {
          "model_module": "@jupyter-widgets/base",
          "model_name": "LayoutModel",
          "model_module_version": "1.2.0",
          "state": {
            "_model_module": "@jupyter-widgets/base",
            "_model_module_version": "1.2.0",
            "_model_name": "LayoutModel",
            "_view_count": null,
            "_view_module": "@jupyter-widgets/base",
            "_view_module_version": "1.2.0",
            "_view_name": "LayoutView",
            "align_content": null,
            "align_items": null,
            "align_self": null,
            "border": null,
            "bottom": null,
            "display": null,
            "flex": null,
            "flex_flow": null,
            "grid_area": null,
            "grid_auto_columns": null,
            "grid_auto_flow": null,
            "grid_auto_rows": null,
            "grid_column": null,
            "grid_gap": null,
            "grid_row": null,
            "grid_template_areas": null,
            "grid_template_columns": null,
            "grid_template_rows": null,
            "height": null,
            "justify_content": null,
            "justify_items": null,
            "left": null,
            "margin": null,
            "max_height": null,
            "max_width": null,
            "min_height": null,
            "min_width": null,
            "object_fit": null,
            "object_position": null,
            "order": null,
            "overflow": null,
            "overflow_x": null,
            "overflow_y": null,
            "padding": null,
            "right": null,
            "top": null,
            "visibility": null,
            "width": null
          }
        },
        "08c626af014c44e2a67c714805077409": {
          "model_module": "@jupyter-widgets/controls",
          "model_name": "DescriptionStyleModel",
          "model_module_version": "1.5.0",
          "state": {
            "_model_module": "@jupyter-widgets/controls",
            "_model_module_version": "1.5.0",
            "_model_name": "DescriptionStyleModel",
            "_view_count": null,
            "_view_module": "@jupyter-widgets/base",
            "_view_module_version": "1.2.0",
            "_view_name": "StyleView",
            "description_width": ""
          }
        },
        "c996993d6cd141be9fe7f57990b0594d": {
          "model_module": "@jupyter-widgets/controls",
          "model_name": "HBoxModel",
          "model_module_version": "1.5.0",
          "state": {
            "_dom_classes": [],
            "_model_module": "@jupyter-widgets/controls",
            "_model_module_version": "1.5.0",
            "_model_name": "HBoxModel",
            "_view_count": null,
            "_view_module": "@jupyter-widgets/controls",
            "_view_module_version": "1.5.0",
            "_view_name": "HBoxView",
            "box_style": "",
            "children": [
              "IPY_MODEL_32fe715561cb44d5a38daf13483ca061",
              "IPY_MODEL_9a210d48b33645e48b1e2e55dbacea9b",
              "IPY_MODEL_f1f5180fae6b414283549bd3d0dddf85"
            ],
            "layout": "IPY_MODEL_941aace2bc2a429baf0a160af7aa9520"
          }
        },
        "32fe715561cb44d5a38daf13483ca061": {
          "model_module": "@jupyter-widgets/controls",
          "model_name": "HTMLModel",
          "model_module_version": "1.5.0",
          "state": {
            "_dom_classes": [],
            "_model_module": "@jupyter-widgets/controls",
            "_model_module_version": "1.5.0",
            "_model_name": "HTMLModel",
            "_view_count": null,
            "_view_module": "@jupyter-widgets/controls",
            "_view_module_version": "1.5.0",
            "_view_name": "HTMLView",
            "description": "",
            "description_tooltip": null,
            "layout": "IPY_MODEL_42966f167b424622808b27f6701f8cc0",
            "placeholder": "​",
            "style": "IPY_MODEL_0006d3a2c8484f14ab453ce9fb625e6a",
            "value": "Downloading (…)olve/main/vocab.json: 100%"
          }
        },
        "9a210d48b33645e48b1e2e55dbacea9b": {
          "model_module": "@jupyter-widgets/controls",
          "model_name": "FloatProgressModel",
          "model_module_version": "1.5.0",
          "state": {
            "_dom_classes": [],
            "_model_module": "@jupyter-widgets/controls",
            "_model_module_version": "1.5.0",
            "_model_name": "FloatProgressModel",
            "_view_count": null,
            "_view_module": "@jupyter-widgets/controls",
            "_view_module_version": "1.5.0",
            "_view_name": "ProgressView",
            "bar_style": "success",
            "description": "",
            "description_tooltip": null,
            "layout": "IPY_MODEL_821370f61b7d4bd3af5bbb6b4a669923",
            "max": 898823,
            "min": 0,
            "orientation": "horizontal",
            "style": "IPY_MODEL_e9771e49cefe434d848fbb78e1dd72cb",
            "value": 898823
          }
        },
        "f1f5180fae6b414283549bd3d0dddf85": {
          "model_module": "@jupyter-widgets/controls",
          "model_name": "HTMLModel",
          "model_module_version": "1.5.0",
          "state": {
            "_dom_classes": [],
            "_model_module": "@jupyter-widgets/controls",
            "_model_module_version": "1.5.0",
            "_model_name": "HTMLModel",
            "_view_count": null,
            "_view_module": "@jupyter-widgets/controls",
            "_view_module_version": "1.5.0",
            "_view_name": "HTMLView",
            "description": "",
            "description_tooltip": null,
            "layout": "IPY_MODEL_b242df9c441246a7abb0e76b6bcc9062",
            "placeholder": "​",
            "style": "IPY_MODEL_3d28a1a045b7463283fa7abd62bd254c",
            "value": " 899k/899k [00:00&lt;00:00, 10.5MB/s]"
          }
        },
        "941aace2bc2a429baf0a160af7aa9520": {
          "model_module": "@jupyter-widgets/base",
          "model_name": "LayoutModel",
          "model_module_version": "1.2.0",
          "state": {
            "_model_module": "@jupyter-widgets/base",
            "_model_module_version": "1.2.0",
            "_model_name": "LayoutModel",
            "_view_count": null,
            "_view_module": "@jupyter-widgets/base",
            "_view_module_version": "1.2.0",
            "_view_name": "LayoutView",
            "align_content": null,
            "align_items": null,
            "align_self": null,
            "border": null,
            "bottom": null,
            "display": null,
            "flex": null,
            "flex_flow": null,
            "grid_area": null,
            "grid_auto_columns": null,
            "grid_auto_flow": null,
            "grid_auto_rows": null,
            "grid_column": null,
            "grid_gap": null,
            "grid_row": null,
            "grid_template_areas": null,
            "grid_template_columns": null,
            "grid_template_rows": null,
            "height": null,
            "justify_content": null,
            "justify_items": null,
            "left": null,
            "margin": null,
            "max_height": null,
            "max_width": null,
            "min_height": null,
            "min_width": null,
            "object_fit": null,
            "object_position": null,
            "order": null,
            "overflow": null,
            "overflow_x": null,
            "overflow_y": null,
            "padding": null,
            "right": null,
            "top": null,
            "visibility": null,
            "width": null
          }
        },
        "42966f167b424622808b27f6701f8cc0": {
          "model_module": "@jupyter-widgets/base",
          "model_name": "LayoutModel",
          "model_module_version": "1.2.0",
          "state": {
            "_model_module": "@jupyter-widgets/base",
            "_model_module_version": "1.2.0",
            "_model_name": "LayoutModel",
            "_view_count": null,
            "_view_module": "@jupyter-widgets/base",
            "_view_module_version": "1.2.0",
            "_view_name": "LayoutView",
            "align_content": null,
            "align_items": null,
            "align_self": null,
            "border": null,
            "bottom": null,
            "display": null,
            "flex": null,
            "flex_flow": null,
            "grid_area": null,
            "grid_auto_columns": null,
            "grid_auto_flow": null,
            "grid_auto_rows": null,
            "grid_column": null,
            "grid_gap": null,
            "grid_row": null,
            "grid_template_areas": null,
            "grid_template_columns": null,
            "grid_template_rows": null,
            "height": null,
            "justify_content": null,
            "justify_items": null,
            "left": null,
            "margin": null,
            "max_height": null,
            "max_width": null,
            "min_height": null,
            "min_width": null,
            "object_fit": null,
            "object_position": null,
            "order": null,
            "overflow": null,
            "overflow_x": null,
            "overflow_y": null,
            "padding": null,
            "right": null,
            "top": null,
            "visibility": null,
            "width": null
          }
        },
        "0006d3a2c8484f14ab453ce9fb625e6a": {
          "model_module": "@jupyter-widgets/controls",
          "model_name": "DescriptionStyleModel",
          "model_module_version": "1.5.0",
          "state": {
            "_model_module": "@jupyter-widgets/controls",
            "_model_module_version": "1.5.0",
            "_model_name": "DescriptionStyleModel",
            "_view_count": null,
            "_view_module": "@jupyter-widgets/base",
            "_view_module_version": "1.2.0",
            "_view_name": "StyleView",
            "description_width": ""
          }
        },
        "821370f61b7d4bd3af5bbb6b4a669923": {
          "model_module": "@jupyter-widgets/base",
          "model_name": "LayoutModel",
          "model_module_version": "1.2.0",
          "state": {
            "_model_module": "@jupyter-widgets/base",
            "_model_module_version": "1.2.0",
            "_model_name": "LayoutModel",
            "_view_count": null,
            "_view_module": "@jupyter-widgets/base",
            "_view_module_version": "1.2.0",
            "_view_name": "LayoutView",
            "align_content": null,
            "align_items": null,
            "align_self": null,
            "border": null,
            "bottom": null,
            "display": null,
            "flex": null,
            "flex_flow": null,
            "grid_area": null,
            "grid_auto_columns": null,
            "grid_auto_flow": null,
            "grid_auto_rows": null,
            "grid_column": null,
            "grid_gap": null,
            "grid_row": null,
            "grid_template_areas": null,
            "grid_template_columns": null,
            "grid_template_rows": null,
            "height": null,
            "justify_content": null,
            "justify_items": null,
            "left": null,
            "margin": null,
            "max_height": null,
            "max_width": null,
            "min_height": null,
            "min_width": null,
            "object_fit": null,
            "object_position": null,
            "order": null,
            "overflow": null,
            "overflow_x": null,
            "overflow_y": null,
            "padding": null,
            "right": null,
            "top": null,
            "visibility": null,
            "width": null
          }
        },
        "e9771e49cefe434d848fbb78e1dd72cb": {
          "model_module": "@jupyter-widgets/controls",
          "model_name": "ProgressStyleModel",
          "model_module_version": "1.5.0",
          "state": {
            "_model_module": "@jupyter-widgets/controls",
            "_model_module_version": "1.5.0",
            "_model_name": "ProgressStyleModel",
            "_view_count": null,
            "_view_module": "@jupyter-widgets/base",
            "_view_module_version": "1.2.0",
            "_view_name": "StyleView",
            "bar_color": null,
            "description_width": ""
          }
        },
        "b242df9c441246a7abb0e76b6bcc9062": {
          "model_module": "@jupyter-widgets/base",
          "model_name": "LayoutModel",
          "model_module_version": "1.2.0",
          "state": {
            "_model_module": "@jupyter-widgets/base",
            "_model_module_version": "1.2.0",
            "_model_name": "LayoutModel",
            "_view_count": null,
            "_view_module": "@jupyter-widgets/base",
            "_view_module_version": "1.2.0",
            "_view_name": "LayoutView",
            "align_content": null,
            "align_items": null,
            "align_self": null,
            "border": null,
            "bottom": null,
            "display": null,
            "flex": null,
            "flex_flow": null,
            "grid_area": null,
            "grid_auto_columns": null,
            "grid_auto_flow": null,
            "grid_auto_rows": null,
            "grid_column": null,
            "grid_gap": null,
            "grid_row": null,
            "grid_template_areas": null,
            "grid_template_columns": null,
            "grid_template_rows": null,
            "height": null,
            "justify_content": null,
            "justify_items": null,
            "left": null,
            "margin": null,
            "max_height": null,
            "max_width": null,
            "min_height": null,
            "min_width": null,
            "object_fit": null,
            "object_position": null,
            "order": null,
            "overflow": null,
            "overflow_x": null,
            "overflow_y": null,
            "padding": null,
            "right": null,
            "top": null,
            "visibility": null,
            "width": null
          }
        },
        "3d28a1a045b7463283fa7abd62bd254c": {
          "model_module": "@jupyter-widgets/controls",
          "model_name": "DescriptionStyleModel",
          "model_module_version": "1.5.0",
          "state": {
            "_model_module": "@jupyter-widgets/controls",
            "_model_module_version": "1.5.0",
            "_model_name": "DescriptionStyleModel",
            "_view_count": null,
            "_view_module": "@jupyter-widgets/base",
            "_view_module_version": "1.2.0",
            "_view_name": "StyleView",
            "description_width": ""
          }
        },
        "b007ca934cea4ee8b287a00ca1f9f43a": {
          "model_module": "@jupyter-widgets/controls",
          "model_name": "HBoxModel",
          "model_module_version": "1.5.0",
          "state": {
            "_dom_classes": [],
            "_model_module": "@jupyter-widgets/controls",
            "_model_module_version": "1.5.0",
            "_model_name": "HBoxModel",
            "_view_count": null,
            "_view_module": "@jupyter-widgets/controls",
            "_view_module_version": "1.5.0",
            "_view_name": "HBoxView",
            "box_style": "",
            "children": [
              "IPY_MODEL_67d78d1fe54142c991b54861a5198a7c",
              "IPY_MODEL_408cc950b4ea4519a781edd0489be1b5",
              "IPY_MODEL_c28b591dfc894de9a744754447533d21"
            ],
            "layout": "IPY_MODEL_087aa6ccabc7413895bccafafd8e0f29"
          }
        },
        "67d78d1fe54142c991b54861a5198a7c": {
          "model_module": "@jupyter-widgets/controls",
          "model_name": "HTMLModel",
          "model_module_version": "1.5.0",
          "state": {
            "_dom_classes": [],
            "_model_module": "@jupyter-widgets/controls",
            "_model_module_version": "1.5.0",
            "_model_name": "HTMLModel",
            "_view_count": null,
            "_view_module": "@jupyter-widgets/controls",
            "_view_module_version": "1.5.0",
            "_view_name": "HTMLView",
            "description": "",
            "description_tooltip": null,
            "layout": "IPY_MODEL_f5646176a0484261840e08176f549bef",
            "placeholder": "​",
            "style": "IPY_MODEL_764a5e484cc647a889a8c2040d30622d",
            "value": "Downloading (…)olve/main/merges.txt: 100%"
          }
        },
        "408cc950b4ea4519a781edd0489be1b5": {
          "model_module": "@jupyter-widgets/controls",
          "model_name": "FloatProgressModel",
          "model_module_version": "1.5.0",
          "state": {
            "_dom_classes": [],
            "_model_module": "@jupyter-widgets/controls",
            "_model_module_version": "1.5.0",
            "_model_name": "FloatProgressModel",
            "_view_count": null,
            "_view_module": "@jupyter-widgets/controls",
            "_view_module_version": "1.5.0",
            "_view_name": "ProgressView",
            "bar_style": "success",
            "description": "",
            "description_tooltip": null,
            "layout": "IPY_MODEL_96a1e1c1552b4323adca79a6d933d95d",
            "max": 456318,
            "min": 0,
            "orientation": "horizontal",
            "style": "IPY_MODEL_f912f68bdc9d4f0a8d12314d44861db4",
            "value": 456318
          }
        },
        "c28b591dfc894de9a744754447533d21": {
          "model_module": "@jupyter-widgets/controls",
          "model_name": "HTMLModel",
          "model_module_version": "1.5.0",
          "state": {
            "_dom_classes": [],
            "_model_module": "@jupyter-widgets/controls",
            "_model_module_version": "1.5.0",
            "_model_name": "HTMLModel",
            "_view_count": null,
            "_view_module": "@jupyter-widgets/controls",
            "_view_module_version": "1.5.0",
            "_view_name": "HTMLView",
            "description": "",
            "description_tooltip": null,
            "layout": "IPY_MODEL_1f2bd9903b314ad9a99a92ad5c08cb1a",
            "placeholder": "​",
            "style": "IPY_MODEL_70bc448745bf4fba960a8479d7d269ca",
            "value": " 456k/456k [00:00&lt;00:00, 16.6MB/s]"
          }
        },
        "087aa6ccabc7413895bccafafd8e0f29": {
          "model_module": "@jupyter-widgets/base",
          "model_name": "LayoutModel",
          "model_module_version": "1.2.0",
          "state": {
            "_model_module": "@jupyter-widgets/base",
            "_model_module_version": "1.2.0",
            "_model_name": "LayoutModel",
            "_view_count": null,
            "_view_module": "@jupyter-widgets/base",
            "_view_module_version": "1.2.0",
            "_view_name": "LayoutView",
            "align_content": null,
            "align_items": null,
            "align_self": null,
            "border": null,
            "bottom": null,
            "display": null,
            "flex": null,
            "flex_flow": null,
            "grid_area": null,
            "grid_auto_columns": null,
            "grid_auto_flow": null,
            "grid_auto_rows": null,
            "grid_column": null,
            "grid_gap": null,
            "grid_row": null,
            "grid_template_areas": null,
            "grid_template_columns": null,
            "grid_template_rows": null,
            "height": null,
            "justify_content": null,
            "justify_items": null,
            "left": null,
            "margin": null,
            "max_height": null,
            "max_width": null,
            "min_height": null,
            "min_width": null,
            "object_fit": null,
            "object_position": null,
            "order": null,
            "overflow": null,
            "overflow_x": null,
            "overflow_y": null,
            "padding": null,
            "right": null,
            "top": null,
            "visibility": null,
            "width": null
          }
        },
        "f5646176a0484261840e08176f549bef": {
          "model_module": "@jupyter-widgets/base",
          "model_name": "LayoutModel",
          "model_module_version": "1.2.0",
          "state": {
            "_model_module": "@jupyter-widgets/base",
            "_model_module_version": "1.2.0",
            "_model_name": "LayoutModel",
            "_view_count": null,
            "_view_module": "@jupyter-widgets/base",
            "_view_module_version": "1.2.0",
            "_view_name": "LayoutView",
            "align_content": null,
            "align_items": null,
            "align_self": null,
            "border": null,
            "bottom": null,
            "display": null,
            "flex": null,
            "flex_flow": null,
            "grid_area": null,
            "grid_auto_columns": null,
            "grid_auto_flow": null,
            "grid_auto_rows": null,
            "grid_column": null,
            "grid_gap": null,
            "grid_row": null,
            "grid_template_areas": null,
            "grid_template_columns": null,
            "grid_template_rows": null,
            "height": null,
            "justify_content": null,
            "justify_items": null,
            "left": null,
            "margin": null,
            "max_height": null,
            "max_width": null,
            "min_height": null,
            "min_width": null,
            "object_fit": null,
            "object_position": null,
            "order": null,
            "overflow": null,
            "overflow_x": null,
            "overflow_y": null,
            "padding": null,
            "right": null,
            "top": null,
            "visibility": null,
            "width": null
          }
        },
        "764a5e484cc647a889a8c2040d30622d": {
          "model_module": "@jupyter-widgets/controls",
          "model_name": "DescriptionStyleModel",
          "model_module_version": "1.5.0",
          "state": {
            "_model_module": "@jupyter-widgets/controls",
            "_model_module_version": "1.5.0",
            "_model_name": "DescriptionStyleModel",
            "_view_count": null,
            "_view_module": "@jupyter-widgets/base",
            "_view_module_version": "1.2.0",
            "_view_name": "StyleView",
            "description_width": ""
          }
        },
        "96a1e1c1552b4323adca79a6d933d95d": {
          "model_module": "@jupyter-widgets/base",
          "model_name": "LayoutModel",
          "model_module_version": "1.2.0",
          "state": {
            "_model_module": "@jupyter-widgets/base",
            "_model_module_version": "1.2.0",
            "_model_name": "LayoutModel",
            "_view_count": null,
            "_view_module": "@jupyter-widgets/base",
            "_view_module_version": "1.2.0",
            "_view_name": "LayoutView",
            "align_content": null,
            "align_items": null,
            "align_self": null,
            "border": null,
            "bottom": null,
            "display": null,
            "flex": null,
            "flex_flow": null,
            "grid_area": null,
            "grid_auto_columns": null,
            "grid_auto_flow": null,
            "grid_auto_rows": null,
            "grid_column": null,
            "grid_gap": null,
            "grid_row": null,
            "grid_template_areas": null,
            "grid_template_columns": null,
            "grid_template_rows": null,
            "height": null,
            "justify_content": null,
            "justify_items": null,
            "left": null,
            "margin": null,
            "max_height": null,
            "max_width": null,
            "min_height": null,
            "min_width": null,
            "object_fit": null,
            "object_position": null,
            "order": null,
            "overflow": null,
            "overflow_x": null,
            "overflow_y": null,
            "padding": null,
            "right": null,
            "top": null,
            "visibility": null,
            "width": null
          }
        },
        "f912f68bdc9d4f0a8d12314d44861db4": {
          "model_module": "@jupyter-widgets/controls",
          "model_name": "ProgressStyleModel",
          "model_module_version": "1.5.0",
          "state": {
            "_model_module": "@jupyter-widgets/controls",
            "_model_module_version": "1.5.0",
            "_model_name": "ProgressStyleModel",
            "_view_count": null,
            "_view_module": "@jupyter-widgets/base",
            "_view_module_version": "1.2.0",
            "_view_name": "StyleView",
            "bar_color": null,
            "description_width": ""
          }
        },
        "1f2bd9903b314ad9a99a92ad5c08cb1a": {
          "model_module": "@jupyter-widgets/base",
          "model_name": "LayoutModel",
          "model_module_version": "1.2.0",
          "state": {
            "_model_module": "@jupyter-widgets/base",
            "_model_module_version": "1.2.0",
            "_model_name": "LayoutModel",
            "_view_count": null,
            "_view_module": "@jupyter-widgets/base",
            "_view_module_version": "1.2.0",
            "_view_name": "LayoutView",
            "align_content": null,
            "align_items": null,
            "align_self": null,
            "border": null,
            "bottom": null,
            "display": null,
            "flex": null,
            "flex_flow": null,
            "grid_area": null,
            "grid_auto_columns": null,
            "grid_auto_flow": null,
            "grid_auto_rows": null,
            "grid_column": null,
            "grid_gap": null,
            "grid_row": null,
            "grid_template_areas": null,
            "grid_template_columns": null,
            "grid_template_rows": null,
            "height": null,
            "justify_content": null,
            "justify_items": null,
            "left": null,
            "margin": null,
            "max_height": null,
            "max_width": null,
            "min_height": null,
            "min_width": null,
            "object_fit": null,
            "object_position": null,
            "order": null,
            "overflow": null,
            "overflow_x": null,
            "overflow_y": null,
            "padding": null,
            "right": null,
            "top": null,
            "visibility": null,
            "width": null
          }
        },
        "70bc448745bf4fba960a8479d7d269ca": {
          "model_module": "@jupyter-widgets/controls",
          "model_name": "DescriptionStyleModel",
          "model_module_version": "1.5.0",
          "state": {
            "_model_module": "@jupyter-widgets/controls",
            "_model_module_version": "1.5.0",
            "_model_name": "DescriptionStyleModel",
            "_view_count": null,
            "_view_module": "@jupyter-widgets/base",
            "_view_module_version": "1.2.0",
            "_view_name": "StyleView",
            "description_width": ""
          }
        },
        "38f723c3e8fd424f898e36c399ac1d6c": {
          "model_module": "@jupyter-widgets/controls",
          "model_name": "HBoxModel",
          "model_module_version": "1.5.0",
          "state": {
            "_dom_classes": [],
            "_model_module": "@jupyter-widgets/controls",
            "_model_module_version": "1.5.0",
            "_model_name": "HBoxModel",
            "_view_count": null,
            "_view_module": "@jupyter-widgets/controls",
            "_view_module_version": "1.5.0",
            "_view_name": "HBoxView",
            "box_style": "",
            "children": [
              "IPY_MODEL_e311323cda354b7898d0cfbf88022330",
              "IPY_MODEL_683a74994cc74f8cb1b72d6130845db5",
              "IPY_MODEL_30131e5880934a0ea27a45a91054293e"
            ],
            "layout": "IPY_MODEL_fb17c89a711d46f0ab46449bc83d0042"
          }
        },
        "e311323cda354b7898d0cfbf88022330": {
          "model_module": "@jupyter-widgets/controls",
          "model_name": "HTMLModel",
          "model_module_version": "1.5.0",
          "state": {
            "_dom_classes": [],
            "_model_module": "@jupyter-widgets/controls",
            "_model_module_version": "1.5.0",
            "_model_name": "HTMLModel",
            "_view_count": null,
            "_view_module": "@jupyter-widgets/controls",
            "_view_module_version": "1.5.0",
            "_view_name": "HTMLView",
            "description": "",
            "description_tooltip": null,
            "layout": "IPY_MODEL_50bec03caf7e44268e1156c780b1f630",
            "placeholder": "​",
            "style": "IPY_MODEL_cd120970b0584291adcb915f469cb2bd",
            "value": "Downloading (…)/main/tokenizer.json: 100%"
          }
        },
        "683a74994cc74f8cb1b72d6130845db5": {
          "model_module": "@jupyter-widgets/controls",
          "model_name": "FloatProgressModel",
          "model_module_version": "1.5.0",
          "state": {
            "_dom_classes": [],
            "_model_module": "@jupyter-widgets/controls",
            "_model_module_version": "1.5.0",
            "_model_name": "FloatProgressModel",
            "_view_count": null,
            "_view_module": "@jupyter-widgets/controls",
            "_view_module_version": "1.5.0",
            "_view_name": "ProgressView",
            "bar_style": "success",
            "description": "",
            "description_tooltip": null,
            "layout": "IPY_MODEL_b5d2bbde4a26491bb67f09e364542f11",
            "max": 1355863,
            "min": 0,
            "orientation": "horizontal",
            "style": "IPY_MODEL_e2c28d933c514f739c5e28d11f8bd562",
            "value": 1355863
          }
        },
        "30131e5880934a0ea27a45a91054293e": {
          "model_module": "@jupyter-widgets/controls",
          "model_name": "HTMLModel",
          "model_module_version": "1.5.0",
          "state": {
            "_dom_classes": [],
            "_model_module": "@jupyter-widgets/controls",
            "_model_module_version": "1.5.0",
            "_model_name": "HTMLModel",
            "_view_count": null,
            "_view_module": "@jupyter-widgets/controls",
            "_view_module_version": "1.5.0",
            "_view_name": "HTMLView",
            "description": "",
            "description_tooltip": null,
            "layout": "IPY_MODEL_555b455a618541f3991abfbfe69c264d",
            "placeholder": "​",
            "style": "IPY_MODEL_1dff2d69b0524626b3b206d65b2e53d4",
            "value": " 1.36M/1.36M [00:00&lt;00:00, 14.6MB/s]"
          }
        },
        "fb17c89a711d46f0ab46449bc83d0042": {
          "model_module": "@jupyter-widgets/base",
          "model_name": "LayoutModel",
          "model_module_version": "1.2.0",
          "state": {
            "_model_module": "@jupyter-widgets/base",
            "_model_module_version": "1.2.0",
            "_model_name": "LayoutModel",
            "_view_count": null,
            "_view_module": "@jupyter-widgets/base",
            "_view_module_version": "1.2.0",
            "_view_name": "LayoutView",
            "align_content": null,
            "align_items": null,
            "align_self": null,
            "border": null,
            "bottom": null,
            "display": null,
            "flex": null,
            "flex_flow": null,
            "grid_area": null,
            "grid_auto_columns": null,
            "grid_auto_flow": null,
            "grid_auto_rows": null,
            "grid_column": null,
            "grid_gap": null,
            "grid_row": null,
            "grid_template_areas": null,
            "grid_template_columns": null,
            "grid_template_rows": null,
            "height": null,
            "justify_content": null,
            "justify_items": null,
            "left": null,
            "margin": null,
            "max_height": null,
            "max_width": null,
            "min_height": null,
            "min_width": null,
            "object_fit": null,
            "object_position": null,
            "order": null,
            "overflow": null,
            "overflow_x": null,
            "overflow_y": null,
            "padding": null,
            "right": null,
            "top": null,
            "visibility": null,
            "width": null
          }
        },
        "50bec03caf7e44268e1156c780b1f630": {
          "model_module": "@jupyter-widgets/base",
          "model_name": "LayoutModel",
          "model_module_version": "1.2.0",
          "state": {
            "_model_module": "@jupyter-widgets/base",
            "_model_module_version": "1.2.0",
            "_model_name": "LayoutModel",
            "_view_count": null,
            "_view_module": "@jupyter-widgets/base",
            "_view_module_version": "1.2.0",
            "_view_name": "LayoutView",
            "align_content": null,
            "align_items": null,
            "align_self": null,
            "border": null,
            "bottom": null,
            "display": null,
            "flex": null,
            "flex_flow": null,
            "grid_area": null,
            "grid_auto_columns": null,
            "grid_auto_flow": null,
            "grid_auto_rows": null,
            "grid_column": null,
            "grid_gap": null,
            "grid_row": null,
            "grid_template_areas": null,
            "grid_template_columns": null,
            "grid_template_rows": null,
            "height": null,
            "justify_content": null,
            "justify_items": null,
            "left": null,
            "margin": null,
            "max_height": null,
            "max_width": null,
            "min_height": null,
            "min_width": null,
            "object_fit": null,
            "object_position": null,
            "order": null,
            "overflow": null,
            "overflow_x": null,
            "overflow_y": null,
            "padding": null,
            "right": null,
            "top": null,
            "visibility": null,
            "width": null
          }
        },
        "cd120970b0584291adcb915f469cb2bd": {
          "model_module": "@jupyter-widgets/controls",
          "model_name": "DescriptionStyleModel",
          "model_module_version": "1.5.0",
          "state": {
            "_model_module": "@jupyter-widgets/controls",
            "_model_module_version": "1.5.0",
            "_model_name": "DescriptionStyleModel",
            "_view_count": null,
            "_view_module": "@jupyter-widgets/base",
            "_view_module_version": "1.2.0",
            "_view_name": "StyleView",
            "description_width": ""
          }
        },
        "b5d2bbde4a26491bb67f09e364542f11": {
          "model_module": "@jupyter-widgets/base",
          "model_name": "LayoutModel",
          "model_module_version": "1.2.0",
          "state": {
            "_model_module": "@jupyter-widgets/base",
            "_model_module_version": "1.2.0",
            "_model_name": "LayoutModel",
            "_view_count": null,
            "_view_module": "@jupyter-widgets/base",
            "_view_module_version": "1.2.0",
            "_view_name": "LayoutView",
            "align_content": null,
            "align_items": null,
            "align_self": null,
            "border": null,
            "bottom": null,
            "display": null,
            "flex": null,
            "flex_flow": null,
            "grid_area": null,
            "grid_auto_columns": null,
            "grid_auto_flow": null,
            "grid_auto_rows": null,
            "grid_column": null,
            "grid_gap": null,
            "grid_row": null,
            "grid_template_areas": null,
            "grid_template_columns": null,
            "grid_template_rows": null,
            "height": null,
            "justify_content": null,
            "justify_items": null,
            "left": null,
            "margin": null,
            "max_height": null,
            "max_width": null,
            "min_height": null,
            "min_width": null,
            "object_fit": null,
            "object_position": null,
            "order": null,
            "overflow": null,
            "overflow_x": null,
            "overflow_y": null,
            "padding": null,
            "right": null,
            "top": null,
            "visibility": null,
            "width": null
          }
        },
        "e2c28d933c514f739c5e28d11f8bd562": {
          "model_module": "@jupyter-widgets/controls",
          "model_name": "ProgressStyleModel",
          "model_module_version": "1.5.0",
          "state": {
            "_model_module": "@jupyter-widgets/controls",
            "_model_module_version": "1.5.0",
            "_model_name": "ProgressStyleModel",
            "_view_count": null,
            "_view_module": "@jupyter-widgets/base",
            "_view_module_version": "1.2.0",
            "_view_name": "StyleView",
            "bar_color": null,
            "description_width": ""
          }
        },
        "555b455a618541f3991abfbfe69c264d": {
          "model_module": "@jupyter-widgets/base",
          "model_name": "LayoutModel",
          "model_module_version": "1.2.0",
          "state": {
            "_model_module": "@jupyter-widgets/base",
            "_model_module_version": "1.2.0",
            "_model_name": "LayoutModel",
            "_view_count": null,
            "_view_module": "@jupyter-widgets/base",
            "_view_module_version": "1.2.0",
            "_view_name": "LayoutView",
            "align_content": null,
            "align_items": null,
            "align_self": null,
            "border": null,
            "bottom": null,
            "display": null,
            "flex": null,
            "flex_flow": null,
            "grid_area": null,
            "grid_auto_columns": null,
            "grid_auto_flow": null,
            "grid_auto_rows": null,
            "grid_column": null,
            "grid_gap": null,
            "grid_row": null,
            "grid_template_areas": null,
            "grid_template_columns": null,
            "grid_template_rows": null,
            "height": null,
            "justify_content": null,
            "justify_items": null,
            "left": null,
            "margin": null,
            "max_height": null,
            "max_width": null,
            "min_height": null,
            "min_width": null,
            "object_fit": null,
            "object_position": null,
            "order": null,
            "overflow": null,
            "overflow_x": null,
            "overflow_y": null,
            "padding": null,
            "right": null,
            "top": null,
            "visibility": null,
            "width": null
          }
        },
        "1dff2d69b0524626b3b206d65b2e53d4": {
          "model_module": "@jupyter-widgets/controls",
          "model_name": "DescriptionStyleModel",
          "model_module_version": "1.5.0",
          "state": {
            "_model_module": "@jupyter-widgets/controls",
            "_model_module_version": "1.5.0",
            "_model_name": "DescriptionStyleModel",
            "_view_count": null,
            "_view_module": "@jupyter-widgets/base",
            "_view_module_version": "1.2.0",
            "_view_name": "StyleView",
            "description_width": ""
          }
        }
      }
    }
  },
  "nbformat": 4,
  "nbformat_minor": 0
}